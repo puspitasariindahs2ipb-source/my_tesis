{
 "cells": [
  {
   "cell_type": "markdown",
   "id": "cd136cdb-f4f3-4357-8471-12558c103728",
   "metadata": {},
   "source": [
    "# Akuisisi senyawa aktif"
   ]
  },
  {
   "cell_type": "code",
   "execution_count": 4,
   "id": "630498ea-78d2-4d9d-96e0-48fa9867e5ca",
   "metadata": {},
   "outputs": [],
   "source": [
    "import pubchempy as pcp\n",
    "import pandas as pd\n",
    "import requests\n",
    "from bs4 import BeautifulSoup\n",
    "import json\n",
    "import xmltodict\n",
    "import os\n",
    "import ssl\n",
    "import certifi\n",
    "import urllib3\n",
    "\n",
    "ssl._create_default_https_context = ssl._create_unverified_context\n",
    "\n",
    "#Matikan warning SSL\n",
    "urllib3.disable_warnings(urllib3.exceptions.InsecureRequestWarning)"
   ]
  },
  {
   "cell_type": "markdown",
   "id": "9d3996b2-8672-4663-9277-d62a49cd1987",
   "metadata": {},
   "source": [
    "#Verifikasi PubChem"
   ]
  },
  {
   "cell_type": "code",
   "execution_count": 23,
   "id": "59b52606-63b6-4b50-a2b1-2b58d6cc6854",
   "metadata": {},
   "outputs": [
    {
     "name": "stdout",
     "output_type": "stream",
     "text": [
      "======================================================================\n",
      "Senyawa : 4-aminobenzoic acid\n",
      "✅ Ditemukan 1 CID: 978\n",
      "   CID 978\n",
      "      Formula     : C7H7NO2\n",
      "      MolWeight   : 137.14\n",
      "      IUPAC Name  : 4-aminobenzoic acid\n",
      "      SMILES      : C1=CC(=CC=C1C(=O)O)N\n",
      "======================================================================\n",
      "Senyawa : Citric acid\n",
      "✅ Ditemukan 1 CID: 311\n",
      "   CID 311\n",
      "      Formula     : C6H8O7\n",
      "      MolWeight   : 192.12\n",
      "      IUPAC Name  : 2-hydroxypropane-1,2,3-tricarboxylic acid\n",
      "      SMILES      : C(C(=O)O)C(CC(=O)O)(C(=O)O)O\n",
      "======================================================================\n",
      "Senyawa : L-phenylalanine\n",
      "✅ Ditemukan 1 CID: 6140\n",
      "   CID 6140\n",
      "      Formula     : C9H11NO2\n",
      "      MolWeight   : 165.19\n",
      "      IUPAC Name  : (2S)-2-amino-3-phenylpropanoic acid\n",
      "      SMILES      : C1=CC=C(C=C1)C[C@@H](C(=O)O)N\n",
      "======================================================================\n",
      "Senyawa : Trans-3-indoleacrylic acid\n",
      "✅ Ditemukan 1 CID: 5375048\n",
      "   CID 5375048\n",
      "      Formula     : C11H9NO2\n",
      "      MolWeight   : 187.19\n",
      "      IUPAC Name  : (E)-3-(1H-indol-3-yl)prop-2-enoic acid\n",
      "      SMILES      : C1=CC=C2C(=C1)C(=CN2)/C=C/C(=O)O\n",
      "======================================================================\n",
      "Senyawa : DL-tryptophan\n",
      "✅ Ditemukan 1 CID: 1148\n",
      "   CID 1148\n",
      "      Formula     : C11H12N2O2\n",
      "      MolWeight   : 204.22\n",
      "      IUPAC Name  : 2-amino-3-(1H-indol-3-yl)propanoic acid\n",
      "      SMILES      : C1=CC=C2C(=C1)C(=CN2)CC(C(=O)O)N\n",
      "======================================================================\n",
      "Senyawa : 4-O-feruloyl-D-quinic acid\n",
      "✅ Ditemukan 1 CID: 10177048\n",
      "   CID 10177048\n",
      "      Formula     : C17H20O9\n",
      "      MolWeight   : 368.3\n",
      "      IUPAC Name  : (3R,5R)-1,3,5-trihydroxy-4-[(E)-3-(4-hydroxy-3-methoxyphenyl)prop-2-enoyl]oxycyclohexane-1-carboxylic acid\n",
      "      SMILES      : COC1=C(C=CC(=C1)/C=C/C(=O)OC2[C@@H](CC(C[C@H]2O)(C(=O)O)O)O)O\n",
      "======================================================================\n",
      "Senyawa : Murrangatin\n",
      "✅ Ditemukan 1 CID: 13917407\n",
      "   CID 13917407\n",
      "      Formula     : C15H16O5\n",
      "      MolWeight   : 276.28\n",
      "      IUPAC Name  : 8-[(1S,2R)-1,2-dihydroxy-3-methylbut-3-enyl]-7-methoxychromen-2-one\n",
      "      SMILES      : CC(=C)[C@H]([C@H](C1=C(C=CC2=C1OC(=O)C=C2)OC)O)O\n",
      "======================================================================\n",
      "Senyawa : Alpha-lapachone\n",
      "✅ Ditemukan 1 CID: 72732\n",
      "   CID 72732\n",
      "      Formula     : C15H14O3\n",
      "      MolWeight   : 242.27\n",
      "      IUPAC Name  : 2,2-dimethyl-3,4-dihydrobenzo[g]chromene-5,10-dione\n",
      "      SMILES      : CC1(CCC2=C(O1)C(=O)C3=CC=CC=C3C2=O)C\n",
      "======================================================================\n",
      "Senyawa : Hainanmurpanin\n",
      "✅ Ditemukan 1 CID: 5317952\n",
      "   CID 5317952\n",
      "      Formula     : C17H18O6\n",
      "      MolWeight   : 318.32\n",
      "      IUPAC Name  : [1-(7-methoxy-2-oxochromen-8-yl)-3-methyl-2-oxobutyl] acetate\n",
      "      SMILES      : CC(C)C(=O)C(C1=C(C=CC2=C1OC(=O)C=C2)OC)OC(=O)C\n",
      "======================================================================\n",
      "Senyawa : Murraol\n",
      "✅ Ditemukan 1 CID: 15593213\n",
      "   CID 15593213\n",
      "      Formula     : C15H16O4\n",
      "      MolWeight   : 260.28\n",
      "      IUPAC Name  : 8-[(E)-3-hydroxy-3-methylbut-1-enyl]-7-methoxychromen-2-one\n",
      "      SMILES      : CC(C)(/C=C/C1=C(C=CC2=C1OC(=O)C=C2)OC)O\n",
      "======================================================================\n",
      "Senyawa : Murralongin\n",
      "✅ Ditemukan 1 CID: 179620\n",
      "   CID 179620\n",
      "      Formula     : C15H14O4\n",
      "      MolWeight   : 258.27\n",
      "      IUPAC Name  : 2-(7-methoxy-2-oxochromen-8-yl)-3-methylbut-2-enal\n",
      "      SMILES      : CC(=C(C=O)C1=C(C=CC2=C1OC(=O)C=C2)OC)C\n",
      "======================================================================\n",
      "Senyawa : (1R,9S)-5-[(E)-2-(4-chlorophenyl)ethenyl]-11-(pyrimidine-5-carbonyl)-7,11-diazatricyclo[7.3.1.02,7]trideca-2,4-dien-6-one\n",
      "❌ Tidak ditemukan di PubChem\n",
      "======================================================================\n",
      "Senyawa : Paniculatin\n",
      "✅ Ditemukan 1 CID: 169419\n",
      "   CID 169419\n",
      "      Formula     : C27H30O15\n",
      "      MolWeight   : 594.5\n",
      "      IUPAC Name  : 5,7-dihydroxy-3-(4-hydroxyphenyl)-6,8-bis[(2S,3R,4R,5S,6R)-3,4,5-trihydroxy-6-(hydroxymethyl)oxan-2-yl]chromen-4-one\n",
      "      SMILES      : C1=CC(=CC=C1C2=COC3=C(C(=C(C(=C3C2=O)O)[C@H]4[C@@H]([C@H]([C@@H]([C@H](O4)CO)O)O)O)O)[C@H]5[C@@H]([C@H]([C@@H]([C@H](O5)CO)O)O)O)O\n",
      "======================================================================\n",
      "Senyawa : Limonene, (+/-)-\n",
      "❌ Tidak ditemukan di PubChem\n",
      "======================================================================\n",
      "Senyawa : Pheophorbide a\n",
      "✅ Ditemukan 2 CID: 253193, 167186\n",
      "   CID 253193\n",
      "      Formula     : C35H36N4O5\n",
      "      MolWeight   : 592.7\n",
      "      IUPAC Name  : 3-[(3R,21S,22S)-16-ethenyl-11-ethyl-4-hydroxy-3-methoxycarbonyl-12,17,21,26-tetramethyl-7,23,24,25-tetrazahexacyclo[18.2.1.15,8.110,13.115,18.02,6]hexacosa-1,4,6,8(26),9,11,13(25),14,16,18(24),19-undecaen-22-yl]propanoic acid\n",
      "      SMILES      : CCC1=C(C2=NC1=CC3=C(C4=C([C@@H](C(=C5[C@H]([C@@H](C(=CC6=NC(=C2)C(=C6C)C=C)N5)C)CCC(=O)O)C4=N3)C(=O)OC)O)C)C\n",
      "   CID 167186\n",
      "      Formula     : C35H36N4O5\n",
      "      MolWeight   : 592.7\n",
      "      IUPAC Name  : 3-(16-ethenyl-11-ethyl-4-hydroxy-3-methoxycarbonyl-12,17,21,26-tetramethyl-7,23,24,25-tetrazahexacyclo[18.2.1.15,8.110,13.115,18.02,6]hexacosa-1,4,6,8(26),9,11,13(25),14,16,18(24),19-undecaen-22-yl)propanoic acid\n",
      "      SMILES      : CCC1=C(C2=NC1=CC3=C(C4=C(C(C(=C5C(C(C(=CC6=NC(=C2)C(=C6C)C=C)N5)C)CCC(=O)O)C4=N3)C(=O)OC)O)C)C\n",
      "======================================================================\n",
      "Senyawa : SB236057\n",
      "✅ Ditemukan 1 CID: 5311426\n",
      "   CID 5311426\n",
      "      Formula     : C33H34N4O3\n",
      "      MolWeight   : 534.6\n",
      "      IUPAC Name  : (1'-ethylspiro[6,7-dihydro-2H-furo[2,3-f]indole-3,4'-piperidine]-5-yl)-[4-[2-methyl-4-(5-methyl-1,3,4-oxadiazol-2-yl)phenyl]phenyl]methanone\n",
      "      SMILES      : CCN1CCC2(CC1)COC3=C2C=C4C(=C3)CCN4C(=O)C5=CC=C(C=C5)C6=C(C=C(C=C6)C7=NN=C(O7)C)C\n",
      "\n",
      "✅ Semua data tersimpan di 'senyawa_pubchem.xlsx'\n",
      "\n",
      "Daftar senyawa yang tidak ditemukan:\n",
      " - (1R,9S)-5-[(E)-2-(4-chlorophenyl)ethenyl]-11-(pyrimidine-5-carbonyl)-7,11-diazatricyclo[7.3.1.02,7]trideca-2,4-dien-6-one\n",
      " - Limonene, (+/-)-\n"
     ]
    }
   ],
   "source": [
    "import requests\n",
    "import pandas as pd\n",
    "import urllib3\n",
    "urllib3.disable_warnings(urllib3.exceptions.InsecureRequestWarning)\n",
    "\n",
    "def get_cids(compound_name):\n",
    "    url = f\"https://pubchem.ncbi.nlm.nih.gov/rest/pug/compound/name/{compound_name}/cids/TXT\"\n",
    "    r = requests.get(url, timeout=20, verify=False)\n",
    "    if r.status_code == 200 and r.text.strip():\n",
    "        return r.text.strip().split(\"\\n\")\n",
    "    return []\n",
    "\n",
    "def get_properties(cid):\n",
    "    url = f\"https://pubchem.ncbi.nlm.nih.gov/rest/pug/compound/cid/{cid}/property/MolecularFormula,MolecularWeight,CanonicalSMILES,IsomericSMILES,SMILES,IUPACName/JSON\"\n",
    "    r = requests.get(url, timeout=20, verify=False)\n",
    "    if r.status_code == 200:\n",
    "        data = r.json().get(\"PropertyTable\", {}).get(\"Properties\", [{}])[0]\n",
    "        props = {}\n",
    "        props[\"CID\"] = cid\n",
    "        props[\"Formula\"] = data.get(\"MolecularFormula\", \"-\")\n",
    "        props[\"MolecularWeight\"] = data.get(\"MolecularWeight\", \"-\")\n",
    "        props[\"IUPACName\"] = data.get(\"IUPACName\", \"-\")\n",
    "\n",
    "        if \"CanonicalSMILES\" in data and data[\"CanonicalSMILES\"]:\n",
    "            props[\"SMILES\"] = data[\"CanonicalSMILES\"]\n",
    "        elif \"SMILES\" in data and data[\"SMILES\"]:\n",
    "            props[\"SMILES\"] = data[\"SMILES\"]\n",
    "        elif \"IsomericSMILES\" in data and data[\"IsomericSMILES\"]:\n",
    "            props[\"SMILES\"] = data[\"IsomericSMILES\"]\n",
    "        else:\n",
    "            props[\"SMILES\"] = \"-\"\n",
    "        return props\n",
    "    return None\n",
    "\n",
    "def search_compounds(compounds):\n",
    "    results = []\n",
    "    not_found = []\n",
    "\n",
    "    for name in compounds:\n",
    "        print(\"=\"*70)\n",
    "        print(f\"Senyawa : {name}\")\n",
    "        cids = get_cids(name)\n",
    "\n",
    "        if not cids:\n",
    "            print(\"❌ Tidak ditemukan di PubChem\")\n",
    "            results.append({\n",
    "                \"Compound\": name,\n",
    "                \"CID\": \"\",\n",
    "                \"Formula\": \"\",\n",
    "                \"MolecularWeight\": \"\",\n",
    "                \"IUPACName\": \"\",\n",
    "                \"SMILES\": \"\",\n",
    "                \"Status\": \"❌ Tidak ditemukan\"\n",
    "            })\n",
    "            not_found.append(name)\n",
    "            continue\n",
    "\n",
    "        print(f\"✅ Ditemukan {len(cids)} CID: {', '.join(cids)}\")\n",
    "        for cid in cids:\n",
    "            props = get_properties(cid)\n",
    "            if props:\n",
    "                print(f\"   CID {props['CID']}\")\n",
    "                print(f\"      Formula     : {props['Formula']}\")\n",
    "                print(f\"      MolWeight   : {props['MolecularWeight']}\")\n",
    "                print(f\"      IUPAC Name  : {props['IUPACName']}\")\n",
    "                print(f\"      SMILES      : {props['SMILES']}\")\n",
    "                results.append({\n",
    "                    \"Compound\": name,\n",
    "                    \"CID\": props[\"CID\"],\n",
    "                    \"Formula\": props[\"Formula\"],\n",
    "                    \"MolecularWeight\": props[\"MolecularWeight\"],\n",
    "                    \"IUPACName\": props[\"IUPACName\"],\n",
    "                    \"SMILES\": props[\"SMILES\"],\n",
    "                    \"Status\": \"✅ Ditemukan\"\n",
    "                })\n",
    "            else:\n",
    "                print(f\"   CID {cid} → ❌ Data tidak tersedia\")\n",
    "                results.append({\n",
    "                    \"Compound\": name,\n",
    "                    \"CID\": cid,\n",
    "                    \"Formula\": \"\",\n",
    "                    \"MolecularWeight\": \"\",\n",
    "                    \"IUPACName\": \"\",\n",
    "                    \"SMILES\": \"\",\n",
    "                    \"Status\": \"❌ Data tidak tersedia\"\n",
    "                })\n",
    "\n",
    "    # Simpan semua hasil ke Excel\n",
    "    df = pd.DataFrame(results)\n",
    "    df.to_excel(\"D:/semhas/Data/senyawa_pubchem.xlsx\", index=False)\n",
    "    print(\"\\n✅ Semua data tersimpan di 'senyawa_pubchem.xlsx'\")\n",
    "\n",
    "    if not_found:\n",
    "        print(\"\\nDaftar senyawa yang tidak ditemukan:\")\n",
    "        for nf in not_found:\n",
    "            print(f\" - {nf}\")\n",
    "\n",
    "# ==== CONTOH PENGGUNAAN ====\n",
    "compounds = [\n",
    "    \"4-aminobenzoic acid\",\n",
    "    \"Citric acid\",\n",
    "    \"L-phenylalanine\",\n",
    "    \"Trans-3-indoleacrylic acid\",\n",
    "    \"DL-tryptophan\",\n",
    "    \"4-O-feruloyl-D-quinic acid\",\n",
    "    \"Murrangatin\",\n",
    "    \"Alpha-lapachone\",\n",
    "    \"Hainanmurpanin\",\n",
    "    \"Murraol\",\n",
    "    \"Murralongin\",\n",
    "    \"(1R,9S)-5-[(E)-2-(4-chlorophenyl)ethenyl]-11-(pyrimidine-5-carbonyl)-7,11-diazatricyclo[7.3.1.02,7]trideca-2,4-dien-6-one\",\n",
    "    \"Paniculatin\",\n",
    "    \"Limonene, (+/-)-\",  \n",
    "    \"Pheophorbide a\",\n",
    "    \"SB236057\"\n",
    "]\n",
    "\n",
    "search_compounds(compounds)\n"
   ]
  },
  {
   "cell_type": "markdown",
   "id": "09f53b7a-3257-4f1d-9465-212737cb51da",
   "metadata": {},
   "source": [
    "#smiles Limonene, (+/-)-(CID=22311)"
   ]
  },
  {
   "cell_type": "code",
   "execution_count": 24,
   "id": "84fa938d-abc0-4a2a-8b6b-f57f31c15aa6",
   "metadata": {},
   "outputs": [
    {
     "name": "stdout",
     "output_type": "stream",
     "text": [
      "============================================================\n",
      "CID         : 22311\n",
      "Formula     : C10H16\n",
      "MolWeight   : 136.23\n",
      "IUPAC Name  : 1-methyl-4-prop-1-en-2-ylcyclohexene\n",
      "SMILES      : CC1=CCC(CC1)C(=C)C\n",
      "============================================================\n",
      "✅ Data Limonene tersimpan di sheet 'Limonene' pada D:/semhas/Data/senyawa_pubchem.xlsx\n"
     ]
    }
   ],
   "source": [
    "def get_properties_by_cid(cid):\n",
    "    \"\"\"Ambil Formula, MolWeight, IUPAC Name, dan SMILES dari CID PubChem\"\"\"\n",
    "    url = f\"https://pubchem.ncbi.nlm.nih.gov/rest/pug/compound/cid/{cid}/property/MolecularFormula,MolecularWeight,CanonicalSMILES,IsomericSMILES,SMILES,IUPACName/JSON\"\n",
    "    r = requests.get(url, timeout=20)\n",
    "    \n",
    "    if r.status_code == 200:\n",
    "        data = r.json().get(\"PropertyTable\", {}).get(\"Properties\", [{}])[0]\n",
    "        return {\n",
    "            \"CID\": cid,\n",
    "            \"Formula\": data.get(\"MolecularFormula\", \"-\"),\n",
    "            \"MolWeight\": data.get(\"MolecularWeight\", \"-\"),\n",
    "            \"IUPACName\": data.get(\"IUPACName\", \"-\"),\n",
    "            \"SMILES\": data.get(\"CanonicalSMILES\") or data.get(\"IsomericSMILES\") or data.get(\"SMILES\", \"-\")\n",
    "        }\n",
    "    return None\n",
    "\n",
    "# Ambil data Limonene\n",
    "cid = \"22311\"\n",
    "props = get_properties_by_cid(cid)\n",
    "\n",
    "# Tampilkan hasil\n",
    "print(\"=\"*60)\n",
    "print(f\"CID         : {props['CID']}\")\n",
    "print(f\"Formula     : {props['Formula']}\")\n",
    "print(f\"MolWeight   : {props['MolWeight']}\")\n",
    "print(f\"IUPAC Name  : {props['IUPACName']}\")\n",
    "print(f\"SMILES      : {props['SMILES']}\")\n",
    "print(\"=\"*60)\n",
    "\n",
    "# Buat DataFrame untuk disimpan\n",
    "df_limonene = pd.DataFrame([props])\n",
    "\n",
    "# Simpan ke Excel, sheet baru \"Limonene\"\n",
    "excel_file = \"D:/semhas/Data/senyawa_pubchem.xlsx\"\n",
    "with pd.ExcelWriter(excel_file, mode=\"a\", engine=\"openpyxl\") as writer:\n",
    "    df_limonene.to_excel(writer, sheet_name=\"Limonene\", index=False)\n",
    "\n",
    "print(f\"✅ Data Limonene tersimpan di sheet 'Limonene' pada {excel_file}\")\n"
   ]
  },
  {
   "cell_type": "markdown",
   "id": "1357c57c-c2cb-4fcd-8871-e697a1171cbe",
   "metadata": {},
   "source": [
    "# (1R,9S)-5-[(E)-2-(4-chlorophenyl)ethenyl]-11-(pyrimidine-5-carbonyl)-7,11-diazatricyclo[7.3.1.02,7]trideca-2,4-dien-6-one (CACTUS)"
   ]
  },
  {
   "cell_type": "code",
   "execution_count": 19,
   "id": "8aa3d879-ebe8-41d9-b787-99942e7895a3",
   "metadata": {},
   "outputs": [
    {
     "name": "stdout",
     "output_type": "stream",
     "text": [
      "======================================================================\n",
      "Nama Senyawa   : (1R,9S)-5-[(E)-2-(4-chlorophenyl)ethenyl]-11-(pyrimidine-5-carbonyl)-7,11-diazatricyclo[7.3.1.02,7]trideca-2,4-dien-6-one\n",
      "SMILES         : Clc1ccc(cc1)\\C=C\\C2=CC=C3[C@@H]4C[C@@H](CN(C4)C(=O)c5cncnc5)CN3C2=O\n",
      "Formula        : C24H21ClN4O2\n",
      "MolecularWeight: 432.9085\n",
      "IUPAC Name     : -\n",
      "======================================================================\n"
     ]
    }
   ],
   "source": [
    "import urllib.parse\n",
    "\n",
    "def get_from_cactus(compound_name):\n",
    "    base_url = \"https://cactus.nci.nih.gov/chemical/structure\"\n",
    "    formats = {\n",
    "        \"SMILES\": \"smiles\",\n",
    "        \"Formula\": \"formula\",\n",
    "        \"MolecularWeight\": \"mw\",\n",
    "        \"IUPAC_Name\": \"iupac_name\"\n",
    "    }\n",
    "\n",
    "    results = {\"Compound\": compound_name}\n",
    "    encoded_name = urllib.parse.quote(compound_name)\n",
    "\n",
    "    for key, fmt in formats.items():\n",
    "        url = f\"{base_url}/{encoded_name}/{fmt}\"\n",
    "        try:\n",
    "            r = requests.get(url, timeout=20)\n",
    "            if r.status_code == 200 and r.text.strip():\n",
    "                results[key] = r.text.strip()\n",
    "            else:\n",
    "                results[key] = \"-\"\n",
    "        except Exception as e:\n",
    "            results[key] = f\"Error: {e}\"\n",
    "    return results\n",
    "\n",
    "\n",
    "# ==== Contoh penggunaan ====\n",
    "compound_name = \"(1R,9S)-5-[(E)-2-(4-chlorophenyl)ethenyl]-11-(pyrimidine-5-carbonyl)-7,11-diazatricyclo[7.3.1.02,7]trideca-2,4-dien-6-one\"\n",
    "\n",
    "props = get_from_cactus(compound_name)\n",
    "\n",
    "print(\"=\"*70)\n",
    "print(f\"Nama Senyawa   : {props['Compound']}\")\n",
    "print(f\"SMILES         : {props['SMILES']}\")\n",
    "print(f\"Formula        : {props['Formula']}\")\n",
    "print(f\"MolecularWeight: {props['MolecularWeight']}\")\n",
    "print(f\"IUPAC Name     : {props['IUPAC_Name']}\")\n",
    "print(\"=\"*70)\n"
   ]
  },
  {
   "cell_type": "markdown",
   "id": "d113c8ac-64f1-4c20-a9e0-796ab5cb5dfa",
   "metadata": {},
   "source": [
    "#Mencari cid dari smiles (1R,9S)-5-[(E)-2-(4-chlorophenyl)ethenyl]-11-(pyrimidine-5-carbonyl)-7,11-diazatricyclo[7.3.1.02,7]trideca-2,4-dien-6-one \n",
    "#di pubchem"
   ]
  },
  {
   "cell_type": "code",
   "execution_count": 26,
   "id": "293335ce-6e94-48bf-a0c5-3cf641c09d81",
   "metadata": {},
   "outputs": [
    {
     "name": "stdout",
     "output_type": "stream",
     "text": [
      "======================================================================\n",
      "SMILES yang dicari: Clc1ccc(cc1)\\C=C\\C2=CC=C3[C@@H]4C[C@@H](CN(C4)C(=O)c5cncnc5)CN3C2=O\n",
      "✅ Ditemukan CID(s): 11886484\n",
      "--- CID 11886484 ---\n",
      "Formula       : C24H21ClN4O2\n",
      "MolWeight     : 432.9\n",
      "IUPAC Name    : (1R,9S)-5-[(E)-2-(4-chlorophenyl)ethenyl]-11-(pyrimidine-5-carbonyl)-7,11-diazatricyclo[7.3.1.02,7]trideca-2,4-dien-6-one\n",
      "SMILES        : C1[C@H]2CN(C[C@@H]1C3=CC=C(C(=O)N3C2)/C=C/C4=CC=C(C=C4)Cl)C(=O)C5=CN=CN=C5\n",
      "\n",
      "✅ Data disimpan di sheet 'From_SMILES' pada D:/semhas/Data/senyawa_pubchem.xlsx\n"
     ]
    }
   ],
   "source": [
    "def get_cid_from_smiles(smiles):\n",
    "    \"\"\"Cari CID PubChem berdasarkan SMILES\"\"\"\n",
    "    encoded = urllib.parse.quote(smiles)\n",
    "    url = f\"https://pubchem.ncbi.nlm.nih.gov/rest/pug/compound/smiles/{encoded}/cids/TXT\"\n",
    "    r = requests.get(url, timeout=20)\n",
    "    if r.status_code == 200 and r.text.strip():\n",
    "        return r.text.strip().split(\"\\n\")  # bisa lebih dari satu CID\n",
    "    return []\n",
    "\n",
    "def get_properties_by_cid(cid):\n",
    "    \"\"\"Ambil Formula, MolWeight, IUPAC Name, dan SMILES dari CID PubChem\"\"\"\n",
    "    url = f\"https://pubchem.ncbi.nlm.nih.gov/rest/pug/compound/cid/{cid}/property/MolecularFormula,MolecularWeight,CanonicalSMILES,IsomericSMILES,SMILES,IUPACName/JSON\"\n",
    "    r = requests.get(url, timeout=20)\n",
    "    \n",
    "    if r.status_code == 200:\n",
    "        data = r.json().get(\"PropertyTable\", {}).get(\"Properties\", [{}])[0]\n",
    "        return {\n",
    "            \"CID\": cid,\n",
    "            \"Formula\": data.get(\"MolecularFormula\", \"-\"),\n",
    "            \"MolWeight\": data.get(\"MolecularWeight\", \"-\"),\n",
    "            \"IUPACName\": data.get(\"IUPACName\", \"-\"),\n",
    "            \"SMILES\": data.get(\"CanonicalSMILES\") or data.get(\"IsomericSMILES\") or data.get(\"SMILES\", \"-\")\n",
    "        }\n",
    "    return None\n",
    "\n",
    "def search_smiles_and_save(smiles, excel_file=\"D:/semhas/Data/senyawa_pubchem.xlsx\", sheet_name=\"From_SMILES\"):\n",
    "    print(\"=\"*70)\n",
    "    print(f\"SMILES yang dicari: {smiles}\")\n",
    "    \n",
    "    cids = get_cid_from_smiles(smiles)\n",
    "    results = []\n",
    "\n",
    "    if not cids:\n",
    "        print(\"❌ CID tidak ditemukan di PubChem\")\n",
    "        return\n",
    "\n",
    "    print(f\"✅ Ditemukan CID(s): {', '.join(cids)}\")\n",
    "    for cid in cids:\n",
    "        props = get_properties_by_cid(cid)\n",
    "        if props:\n",
    "            print(f\"--- CID {props['CID']} ---\")\n",
    "            print(f\"Formula       : {props['Formula']}\")\n",
    "            print(f\"MolWeight     : {props['MolWeight']}\")\n",
    "            print(f\"IUPAC Name    : {props['IUPACName']}\")\n",
    "            print(f\"SMILES        : {props['SMILES']}\")\n",
    "            results.append(props)\n",
    "        else:\n",
    "            print(f\"CID {cid} → ❌ Data tidak tersedia\")\n",
    "\n",
    "    # Simpan ke Excel di sheet baru\n",
    "    if results:\n",
    "        df = pd.DataFrame(results)\n",
    "        with pd.ExcelWriter(excel_file, mode=\"a\", engine=\"openpyxl\") as writer:\n",
    "            df.to_excel(writer, sheet_name=sheet_name, index=False)\n",
    "        print(f\"\\n✅ Data disimpan di sheet '{sheet_name}' pada {excel_file}\")\n",
    "\n",
    "# SMILES\n",
    "smiles = r\"Clc1ccc(cc1)\\C=C\\C2=CC=C3[C@@H]4C[C@@H](CN(C4)C(=O)c5cncnc5)CN3C2=O\" \n",
    "search_smiles_and_save(smiles)\n"
   ]
  },
  {
   "cell_type": "code",
   "execution_count": null,
   "id": "5009941b-d93d-445c-9c84-64de79e7bfab",
   "metadata": {},
   "outputs": [],
   "source": [
    "#recap"
   ]
  },
  {
   "cell_type": "code",
   "execution_count": null,
   "id": "3014deb5-0f1a-4627-b144-17cd5c75c713",
   "metadata": {},
   "outputs": [],
   "source": [
    "!pip install tabulate"
   ]
  },
  {
   "cell_type": "code",
   "execution_count": 32,
   "id": "fefbdfad-3283-42ec-a8fb-5bf523957904",
   "metadata": {},
   "outputs": [
    {
     "name": "stdout",
     "output_type": "stream",
     "text": [
      "+-------+---------------------------------------------------------------------------------------------------------------------------+----------+------------------------------------------------------------------------------------------------------------------------------------+---------------------+------------------------------------------------------------------+\n",
      "|   No. | Compound                                                                                                                  | CID      | SMILES                                                                                                                             | Status Di PubChem   | Keterangan                                                       |\n",
      "+=======+===========================================================================================================================+==========+====================================================================================================================================+=====================+==================================================================+\n",
      "|     1 | 4-aminobenzoic acid                                                                                                       | 978      | C1=CC(=CC=C1C(=O)O)N                                                                                                               | Ada                 | Diverifikasi                                                     |\n",
      "+-------+---------------------------------------------------------------------------------------------------------------------------+----------+------------------------------------------------------------------------------------------------------------------------------------+---------------------+------------------------------------------------------------------+\n",
      "|     2 | Citric acid                                                                                                               | 311      | C(C(=O)O)C(CC(=O)O)(C(=O)O)O                                                                                                       | Ada                 | Diverifikasi                                                     |\n",
      "+-------+---------------------------------------------------------------------------------------------------------------------------+----------+------------------------------------------------------------------------------------------------------------------------------------+---------------------+------------------------------------------------------------------+\n",
      "|     3 | L-phenylalanine                                                                                                           | 6140     | C1=CC=C(C=C1)C[C@@H](C(=O)O)N                                                                                                      | Ada                 | Diverifikasi                                                     |\n",
      "+-------+---------------------------------------------------------------------------------------------------------------------------+----------+------------------------------------------------------------------------------------------------------------------------------------+---------------------+------------------------------------------------------------------+\n",
      "|     4 | Trans-3-indoleacrylic acid                                                                                                | 5375048  | C1=CC=C2C(=C1)C(=CN2)/C=C/C(=O)O                                                                                                   | Ada                 | Diverifikasi                                                     |\n",
      "+-------+---------------------------------------------------------------------------------------------------------------------------+----------+------------------------------------------------------------------------------------------------------------------------------------+---------------------+------------------------------------------------------------------+\n",
      "|     5 | DL-tryptophan                                                                                                             | 1148     | C1=CC=C2C(=C1)C(=CN2)CC(C(=O)O)N                                                                                                   | Ada                 | Diverifikasi                                                     |\n",
      "+-------+---------------------------------------------------------------------------------------------------------------------------+----------+------------------------------------------------------------------------------------------------------------------------------------+---------------------+------------------------------------------------------------------+\n",
      "|     6 | 4-O-feruloyl-D-quinic acid                                                                                                | 10177048 | COC1=C(C=CC(=C1)/C=C/C(=O)OC2[C@@H](CC(C[C@H]2O)(C(=O)O)O)O)O                                                                      | Ada                 | Diverifikasi                                                     |\n",
      "+-------+---------------------------------------------------------------------------------------------------------------------------+----------+------------------------------------------------------------------------------------------------------------------------------------+---------------------+------------------------------------------------------------------+\n",
      "|     7 | Murrangatin                                                                                                               | 13917407 | CC(=C)[C@H]([C@H](C1=C(C=CC2=C1OC(=O)C=C2)OC)O)O                                                                                   | Ada                 | Diverifikasi                                                     |\n",
      "+-------+---------------------------------------------------------------------------------------------------------------------------+----------+------------------------------------------------------------------------------------------------------------------------------------+---------------------+------------------------------------------------------------------+\n",
      "|     8 | Alpha-lapachone                                                                                                           | 72732    | CC1(CCC2=C(O1)C(=O)C3=CC=CC=C3C2=O)C                                                                                               | Ada                 | Diverifikasi                                                     |\n",
      "+-------+---------------------------------------------------------------------------------------------------------------------------+----------+------------------------------------------------------------------------------------------------------------------------------------+---------------------+------------------------------------------------------------------+\n",
      "|     9 | Hainanmurpanin                                                                                                            | 5317952  | CC(C)C(=O)C(C1=C(C=CC2=C1OC(=O)C=C2)OC)OC(=O)C                                                                                     | Ada                 | Diverifikasi                                                     |\n",
      "+-------+---------------------------------------------------------------------------------------------------------------------------+----------+------------------------------------------------------------------------------------------------------------------------------------+---------------------+------------------------------------------------------------------+\n",
      "|    10 | Murraol                                                                                                                   | 15593213 | CC(C)(/C=C/C1=C(C=CC2=C1OC(=O)C=C2)OC)O                                                                                            | Ada                 | Diverifikasi                                                     |\n",
      "+-------+---------------------------------------------------------------------------------------------------------------------------+----------+------------------------------------------------------------------------------------------------------------------------------------+---------------------+------------------------------------------------------------------+\n",
      "|    11 | Murralongin                                                                                                               | 179620   | CC(=C(C=O)C1=C(C=CC2=C1OC(=O)C=C2)OC)C                                                                                             | Ada                 | Diverifikasi                                                     |\n",
      "+-------+---------------------------------------------------------------------------------------------------------------------------+----------+------------------------------------------------------------------------------------------------------------------------------------+---------------------+------------------------------------------------------------------+\n",
      "|    12 | (1R,9S)-5-[(E)-2-(4-chlorophenyl)ethenyl]-11-(pyrimidine-5-carbonyl)-7,11-diazatricyclo[7.3.1.02,7]trideca-2,4-dien-6-one | -        | -                                                                                                                                  | Tidak Ada           | Ditentukan manual via CACTUS → Terverifikasi PubChem             |\n",
      "+-------+---------------------------------------------------------------------------------------------------------------------------+----------+------------------------------------------------------------------------------------------------------------------------------------+---------------------+------------------------------------------------------------------+\n",
      "|    13 | Paniculatin                                                                                                               | 169419   | C1=CC(=CC=C1C2=COC3=C(C(=C(C(=C3C2=O)O)[C@H]4[C@@H]([C@H]([C@@H]([C@H](O4)CO)O)O)O)O)[C@H]5[C@@H]([C@H]([C@@H]([C@H](O5)CO)O)O)O)O | Ada                 | Diverifikasi                                                     |\n",
      "+-------+---------------------------------------------------------------------------------------------------------------------------+----------+------------------------------------------------------------------------------------------------------------------------------------+---------------------+------------------------------------------------------------------+\n",
      "|    14 | Limonene, (+/-)-                                                                                                          | -        | -                                                                                                                                  | Tidak Ada           | Hanya tersedia rasemat (Xu et al., 2017) → Terverifikasi PubChem |\n",
      "+-------+---------------------------------------------------------------------------------------------------------------------------+----------+------------------------------------------------------------------------------------------------------------------------------------+---------------------+------------------------------------------------------------------+\n",
      "|    15 | Pheophorbide a                                                                                                            | 253193   | CCC1=C(C2=NC1=CC3=C(C4=C([C@@H](C(=C5[C@H]([C@@H](C(=CC6=NC(=C2)C(=C6C)C=C)N5)C)CCC(=O)O)C4=N3)C(=O)OC)O)C)C                       | Ada                 | Diverifikasi                                                     |\n",
      "+-------+---------------------------------------------------------------------------------------------------------------------------+----------+------------------------------------------------------------------------------------------------------------------------------------+---------------------+------------------------------------------------------------------+\n",
      "|    16 | Pheophorbide a                                                                                                            | 167186   | CCC1=C(C2=NC1=CC3=C(C4=C(C(C(=C5C(C(C(=CC6=NC(=C2)C(=C6C)C=C)N5)C)CCC(=O)O)C4=N3)C(=O)OC)O)C)C                                     | Ada                 | Diverifikasi                                                     |\n",
      "+-------+---------------------------------------------------------------------------------------------------------------------------+----------+------------------------------------------------------------------------------------------------------------------------------------+---------------------+------------------------------------------------------------------+\n",
      "|    17 | SB236057                                                                                                                  | 5311426  | CCN1CCC2(CC1)COC3=C2C=C4C(=C3)CCN4C(=O)C5=CC=C(C=C5)C6=C(C=C(C=C6)C7=NN=C(O7)C)C                                                   | Ada                 | Diverifikasi                                                     |\n",
      "+-------+---------------------------------------------------------------------------------------------------------------------------+----------+------------------------------------------------------------------------------------------------------------------------------------+---------------------+------------------------------------------------------------------+\n",
      "\n",
      "✅ Data tersimpan di file 'D:/semhas/Data/senyawa_pubchem.xlsx' pada sheet 'Hasil_Senyawa'\n"
     ]
    }
   ],
   "source": [
    "import pandas as pd\n",
    "import requests\n",
    "import urllib.parse\n",
    "from tabulate import tabulate\n",
    "\n",
    "# ----- Fungsi bantu -----\n",
    "def get_cids_from_name(name):\n",
    "    url = f\"https://pubchem.ncbi.nlm.nih.gov/rest/pug/compound/name/{urllib.parse.quote(name)}/cids/TXT\"\n",
    "    r = requests.get(url, timeout=20)\n",
    "    if r.status_code == 200 and r.text.strip():\n",
    "        return r.text.strip().split(\"\\n\")\n",
    "    return []\n",
    "\n",
    "def get_properties_by_cid(cid):\n",
    "    url = f\"https://pubchem.ncbi.nlm.nih.gov/rest/pug/compound/cid/{cid}/property/MolecularFormula,MolecularWeight,CanonicalSMILES,IsomericSMILES,SMILES,IUPACName/JSON\"\n",
    "    r = requests.get(url, timeout=20)\n",
    "    if r.status_code == 200:\n",
    "        data = r.json().get(\"PropertyTable\", {}).get(\"Properties\", [{}])[0]\n",
    "        return data.get(\"CanonicalSMILES\") or data.get(\"IsomericSMILES\") or data.get(\"SMILES\", \"-\")\n",
    "    return \"-\"\n",
    "\n",
    "# ----- Keterangan manual -----\n",
    "manual_notes = {\n",
    "    \"(1R,9S)-5-[(E)-2-(4-chlorophenyl)ethenyl]-11-(pyrimidine-5-carbonyl)-7,11-diazatricyclo[7.3.1.02,7]trideca-2,4-dien-6-one\":\n",
    "        \"Ditentukan manual via CACTUS → Terverifikasi PubChem\",\n",
    "    \"Limonene, (+/-)-\":\n",
    "        \"Hanya tersedia rasemat (Xu et al., 2017) → Terverifikasi PubChem\"\n",
    "}\n",
    "\n",
    "# ----- Daftar senyawa -----\n",
    "compounds = [\n",
    "    \"4-aminobenzoic acid\",\n",
    "    \"Citric acid\",\n",
    "    \"L-phenylalanine\",\n",
    "    \"Trans-3-indoleacrylic acid\",\n",
    "    \"DL-tryptophan\",\n",
    "    \"4-O-feruloyl-D-quinic acid\",\n",
    "    \"Murrangatin\",\n",
    "    \"Alpha-lapachone\",\n",
    "    \"Hainanmurpanin\",\n",
    "    \"Murraol\",\n",
    "    \"Murralongin\",\n",
    "    \"(1R,9S)-5-[(E)-2-(4-chlorophenyl)ethenyl]-11-(pyrimidine-5-carbonyl)-7,11-diazatricyclo[7.3.1.02,7]trideca-2,4-dien-6-one\",\n",
    "    \"Paniculatin\",\n",
    "    \"Limonene, (+/-)-\",\n",
    "    \"Pheophorbide a\",\n",
    "    \"SB236057\"\n",
    "]\n",
    "\n",
    "# ----- Proses semua senyawa -----\n",
    "results = []\n",
    "no = 1\n",
    "for name in compounds:\n",
    "    cids = get_cids_from_name(name)\n",
    "    if cids:\n",
    "        for cid in cids:\n",
    "            smiles = get_properties_by_cid(cid)\n",
    "            keterangan = manual_notes.get(name, \"Diverifikasi\")\n",
    "            results.append({\n",
    "                \"No.\": no,\n",
    "                \"Compound\": name,\n",
    "                \"CID\": cid,\n",
    "                \"SMILES\": smiles,\n",
    "                \"Status Di PubChem\": \"Ada\",\n",
    "                \"Keterangan\": keterangan\n",
    "            })\n",
    "            no += 1\n",
    "    else:\n",
    "        keterangan = manual_notes.get(name, \"Belum Diverifikasi\")\n",
    "        results.append({\n",
    "            \"No.\": no,\n",
    "            \"Compound\": name,\n",
    "            \"CID\": \"-\",\n",
    "            \"SMILES\": \"-\",\n",
    "            \"Status Di PubChem\": \"Tidak Ada\",\n",
    "            \"Keterangan\": keterangan\n",
    "        })\n",
    "        no += 1\n",
    "\n",
    "# ----- Buat DataFrame -----\n",
    "df = pd.DataFrame(results)\n",
    "print(tabulate(df, headers='keys', tablefmt='grid', showindex=False))\n",
    "\n",
    "# ----- Simpan ke Excel (sheet berbeda) -----\n",
    "output_file = \"D:/semhas/Data/senyawa_pubchem.xlsx\"\n",
    "sheet_name = \"Hasil_Senyawa\"  # bisa diganti tiap run, misalnya \"Batch1\", \"Batch2\"\n",
    "\n",
    "with pd.ExcelWriter(output_file, engine=\"openpyxl\", mode=\"a\", if_sheet_exists=\"replace\") as writer:\n",
    "    df.to_excel(writer, sheet_name=sheet_name, index=False)\n",
    "\n",
    "print(f\"\\n✅ Data tersimpan di file '{output_file}' pada sheet '{sheet_name}'\")\n"
   ]
  },
  {
   "cell_type": "code",
   "execution_count": null,
   "id": "bf3debad-e0cc-4b15-af2d-db2636dd98c5",
   "metadata": {},
   "outputs": [],
   "source": []
  },
  {
   "cell_type": "markdown",
   "id": "78df406f-b6ba-43d2-b57d-e0c15e30e94d",
   "metadata": {},
   "source": [
    "# SwissAdme"
   ]
  },
  {
   "cell_type": "code",
   "execution_count": 7,
   "id": "80309740-076a-4836-b1d8-2542c1284197",
   "metadata": {},
   "outputs": [
    {
     "name": "stdout",
     "output_type": "stream",
     "text": [
      "Jumlah baris verifikasi_senyawa: 17\n",
      "Jumlah baris SwissADME: 17\n",
      "\n",
      "✅ Data SwissADME berhasil disimpan di sheet 'swissadme_senyawa' dalam file D:/semhas/Data/senyawa_pubchem.xlsx\n",
      "\n",
      "📊 Ringkasan Data Senyawa:\n",
      "Jumlah senyawa unik   : 16 senyawa\n",
      "Jumlah total SMILES   : 17 SMILES\n",
      "\n",
      "Daftar senyawa unik:\n",
      "1. 4-aminobenzoic acid\n",
      "2. Citric acid\n",
      "3. L-phenylalanine\n",
      "4. Trans-3-indoleacrylic acid\n",
      "5. DL-tryptophan\n",
      "6. 4-O-feruloyl-D-quinic acid\n",
      "7. Murrangatin\n",
      "8. Alpha-lapachone\n",
      "9. Hainanmurpanin\n",
      "10. Murraol\n",
      "11. Murralongin\n",
      "12. (1R,9S)-5-[(E)-2-(4-chlorophenyl)ethenyl]-11-(pyrimidine-5-carbonyl)-7,11-diazatricyclo[7.3.1.02,7]trideca-2,4-dien-6-one\n",
      "13. Paniculatin\n",
      "14. Limonene, (+/-)-\n",
      "15. Pheophorbide a\n",
      "16. SB236057\n",
      "\n",
      "📌 Ringkasan Status Akhir:\n",
      "Senyawa dengan status 'Dipilih'     : 13 senyawa (14 SMILES)\n",
      "Senyawa dengan status 'Tidak dipilih': 3 senyawa (3 SMILES)\n",
      "\n",
      "Daftar senyawa dengan status 'Dipilih':\n",
      "1. 4-aminobenzoic acid\n",
      "2. Citric acid\n",
      "3. L-phenylalanine\n",
      "4. Trans-3-indoleacrylic acid\n",
      "5. DL-tryptophan\n",
      "6. Murrangatin\n",
      "7. Alpha-lapachone\n",
      "8. Hainanmurpanin\n",
      "9. Murraol\n",
      "10. Murralongin\n",
      "11. (1R,9S)-5-[(E)-2-(4-chlorophenyl)ethenyl]-11-(pyrimidine-5-carbonyl)-7,11-diazatricyclo[7.3.1.02,7]trideca-2,4-dien-6-one\n",
      "12. Limonene, (+/-)-\n",
      "13. Pheophorbide a\n",
      "\n",
      "Daftar senyawa dengan status 'Tidak dipilih':\n",
      "1. 4-O-feruloyl-D-quinic acid\n",
      "2. Paniculatin\n",
      "3. SB236057\n",
      "\n",
      "Preview hasil SwissADME:\n",
      "   No.    Molecule             Canonical SMILES     Formula      MW  \\\n",
      "0    1  Molecule 1            OC(=O)c1ccc(cc1)N     C7H7NO2  137.14   \n",
      "1    2  Molecule 2   OC(=O)C(CC(=O)O)(CC(=O)O)O      C6H8O7  192.12   \n",
      "2    3  Molecule 3      N[C@H](C(=O)O)Cc1ccccc1    C9H11NO2  165.19   \n",
      "3    4  Molecule 4  OC(=O)/C=C/c1c[nH]c2c1cccc2    C11H9NO2  187.19   \n",
      "4    5  Molecule 5  OC(=O)C(Cc1c[nH]c2c1cccc2)N  C11H12N2O2  204.23   \n",
      "\n",
      "   #Heavy atoms  #Aromatic heavy atoms  Fraction Csp3  #Rotatable bonds  \\\n",
      "0            10                      6           0.00                 1   \n",
      "1            13                      0           0.50                 5   \n",
      "2            12                      6           0.22                 3   \n",
      "3            14                      9           0.00                 2   \n",
      "4            15                      9           0.18                 3   \n",
      "\n",
      "   #H-bond acceptors  ...  Egan #violations  Muegge #violations  \\\n",
      "0                  2  ...                 0                   1   \n",
      "1                  7  ...                 1                   1   \n",
      "2                  3  ...                 0                   1   \n",
      "3                  2  ...                 0                   1   \n",
      "4                  3  ...                 0                   0   \n",
      "\n",
      "   Bioavailability Score  PAINS #alerts  Brenk #alerts  \\\n",
      "0                   0.85              0              1   \n",
      "1                   0.56              0              0   \n",
      "2                   0.55              0              0   \n",
      "3                   0.85              0              1   \n",
      "4                   0.55              0              0   \n",
      "\n",
      "   Leadlikeness #violations  Synthetic Accessibility  \\\n",
      "0                         1                     1.00   \n",
      "1                         1                     2.18   \n",
      "2                         1                     1.46   \n",
      "3                         1                     1.97   \n",
      "4                         1                     2.09   \n",
      "\n",
      "                     Compound      CID  Status akhir  \n",
      "0         4-aminobenzoic acid      978       Dipilih  \n",
      "1                 Citric acid      311       Dipilih  \n",
      "2             L-phenylalanine     6140       Dipilih  \n",
      "3  Trans-3-indoleacrylic acid  5375048       Dipilih  \n",
      "4               DL-tryptophan     1148       Dipilih  \n",
      "\n",
      "[5 rows x 53 columns]\n"
     ]
    }
   ],
   "source": [
    "import pandas as pd\n",
    "\n",
    "# File Excel\n",
    "compound_file = 'D:/semhas/Data/senyawa_pubchem.xlsx'\n",
    "swissadme_file = 'D:/semhas/Data/swissadme_hasil.csv'\n",
    "\n",
    "# Baca sheet verifikasi_senyawa\n",
    "df_verif = pd.read_excel(compound_file, sheet_name='Hasil_Senyawa')\n",
    "print(f\"Jumlah baris verifikasi_senyawa: {len(df_verif)}\")\n",
    "\n",
    "# Baca file SwissADME\n",
    "df_swiss = pd.read_csv(swissadme_file)\n",
    "print(f\"Jumlah baris SwissADME: {len(df_swiss)}\")\n",
    "\n",
    "# Pastikan jumlah baris sama\n",
    "if len(df_verif) != len(df_swiss):\n",
    "    raise ValueError(\"Jumlah baris SwissADME dan verifikasi_senyawa tidak sama!\")\n",
    "\n",
    "# Tambahkan kolom Compound dan CID dari verifikasi_senyawa\n",
    "df_swiss['Compound'] = df_verif['Compound']\n",
    "df_swiss['CID'] = df_verif['CID']\n",
    "\n",
    "# Tambahkan Status akhir berdasarkan Bioavailability Score\n",
    "df_swiss['Status akhir'] = df_swiss['Bioavailability Score'].apply(\n",
    "    lambda x: 'Dipilih' if x >= 0.55 else 'Tidak dipilih'\n",
    ")\n",
    "\n",
    "# Tambahkan kolom No.\n",
    "df_swiss.insert(0, 'No.', range(1, len(df_swiss) + 1))\n",
    "\n",
    "# Simpan ke sheet baru di file Excel yang sama\n",
    "with pd.ExcelWriter(compound_file, engine='openpyxl', mode='a', if_sheet_exists='replace') as writer:\n",
    "    df_swiss.to_excel(writer, sheet_name='swissadme_senyawa', index=False)\n",
    "\n",
    "print(f\"\\n✅ Data SwissADME berhasil disimpan di sheet 'swissadme_senyawa' dalam file {compound_file}\")\n",
    "\n",
    "# --- Tambahan: Hitung jumlah senyawa unik dan jumlah total SMILES ---\n",
    "jumlah_senyawa = df_verif['Compound'].nunique()\n",
    "jumlah_smiles = len(df_verif)\n",
    "\n",
    "print(\"\\n📊 Ringkasan Data Senyawa:\")\n",
    "print(f\"Jumlah senyawa unik   : {jumlah_senyawa} senyawa\")\n",
    "print(f\"Jumlah total SMILES   : {jumlah_smiles} SMILES\")\n",
    "\n",
    "# Tampilkan daftar senyawa unik\n",
    "print(\"\\nDaftar senyawa unik:\")\n",
    "for i, senyawa in enumerate(df_verif['Compound'].unique(), start=1):\n",
    "    print(f\"{i}. {senyawa}\")\n",
    "\n",
    "# --- Tambahan: Ringkasan berdasarkan Status akhir ---\n",
    "dipilih = df_swiss[df_swiss['Status akhir'] == 'Dipilih']\n",
    "tidak_dipilih = df_swiss[df_swiss['Status akhir'] == 'Tidak dipilih']\n",
    "\n",
    "print(\"\\n📌 Ringkasan Status Akhir:\")\n",
    "print(f\"Senyawa dengan status 'Dipilih'     : {dipilih['Compound'].nunique()} senyawa ({len(dipilih)} SMILES)\")\n",
    "print(f\"Senyawa dengan status 'Tidak dipilih': {tidak_dipilih['Compound'].nunique()} senyawa ({len(tidak_dipilih)} SMILES)\")\n",
    "\n",
    "# Tampilkan daftar senyawa dipilih & tidak dipilih\n",
    "print(\"\\nDaftar senyawa dengan status 'Dipilih':\")\n",
    "for i, senyawa in enumerate(dipilih['Compound'].unique(), start=1):\n",
    "    print(f\"{i}. {senyawa}\")\n",
    "\n",
    "print(\"\\nDaftar senyawa dengan status 'Tidak dipilih':\")\n",
    "for i, senyawa in enumerate(tidak_dipilih['Compound'].unique(), start=1):\n",
    "    print(f\"{i}. {senyawa}\")\n",
    "\n",
    "# --- Preview hasil SwissADME ---\n",
    "pd.set_option('display.max_rows', 20)\n",
    "print(\"\\nPreview hasil SwissADME:\")\n",
    "print(df_swiss.head())\n"
   ]
  },
  {
   "cell_type": "markdown",
   "id": "5c0613a0-49ab-4bc1-9b28-873838b41248",
   "metadata": {},
   "source": [
    "# Akuisisi Protein Target"
   ]
  },
  {
   "cell_type": "code",
   "execution_count": 1,
   "id": "d7497143-7684-416f-8405-269daf5b1f68",
   "metadata": {},
   "outputs": [
    {
     "name": "stdout",
     "output_type": "stream",
     "text": [
      "\n",
      "✅ Semua 14 sheet berhasil digabungkan. Preview:\n",
      "                                          Target Name UniProt ID Min Activity  \\\n",
      "0                Thyroid stimulating hormone receptor     P16473     125.9 nm   \n",
      "1                                     NADPH oxidase 1     Q9Y5S8          NaN   \n",
      "2                          Ras-related protein Rab-9A     P51151          NaN   \n",
      "3                               Kruppel-like factor 5     Q13887          NaN   \n",
      "4                             Niemann-Pick C1 protein     O15118          NaN   \n",
      "5           Transcription intermediary factor 1-alpha     O15164          NaN   \n",
      "6                             Proteasome component C5     P20618          NaN   \n",
      "7   Endoplasmic reticulum-associated amyloid beta-...     Q99714          NaN   \n",
      "8                                    Cyclooxygenase-1     P23219          NaN   \n",
      "9                                       Transthyretin     P02766          NaN   \n",
      "10                       Proteasome Macropain subunit     P49721          NaN   \n",
      "11                                    MAP kinase ERK2     P28482          NaN   \n",
      "12                            Prostanoid EP1 receptor     P34995          NaN   \n",
      "13                    Protein-tyrosine phosphatase 2C     Q06124          NaN   \n",
      "14                          Nuclear receptor ROR-beta     Q92753          NaN   \n",
      "15                              Glycine transporter 2     Q9Y345          NaN   \n",
      "16             Nuclear factor NF-kappa-B p105 subunit     P19838          NaN   \n",
      "17      Neuronal acetylcholine receptor; alpha4/beta4     P30926          NaN   \n",
      "18          DNA-(apurinic or apyrimidinic site) lyase     P27695          NaN   \n",
      "19                             Thromboxane-A synthase     P24557          NaN   \n",
      "\n",
      "   Assay type  Probability  \n",
      "0     Potency          NaN  \n",
      "1         NaN       0.8938  \n",
      "2         NaN       0.8747  \n",
      "3         NaN       0.8658  \n",
      "4         NaN       0.8571  \n",
      "5         NaN       0.8512  \n",
      "6         NaN       0.8324  \n",
      "7         NaN       0.8254  \n",
      "8         NaN       0.8165  \n",
      "9         NaN       0.8087  \n",
      "10        NaN       0.8033  \n",
      "11        NaN       0.8027  \n",
      "12        NaN       0.7862  \n",
      "13        NaN       0.7799  \n",
      "14        NaN       0.7697  \n",
      "15        NaN       0.7696  \n",
      "16        NaN       0.7653  \n",
      "17        NaN       0.7634  \n",
      "18        NaN       0.7461  \n",
      "19        NaN       0.7209  \n",
      "\n",
      "Jumlah total baris: 1068\n",
      "\n",
      "Jumlah baris non-NA per kolom:\n",
      "Target Name     1068\n",
      "UniProt ID      1068\n",
      "Min Activity       2\n",
      "Assay type         2\n",
      "Probability     1066\n",
      "dtype: int64\n",
      "\n",
      "✅ Data berhasil disimpan di sheet 'all_14_sheets' dalam file D:/semhas/Data/target.xlsx\n"
     ]
    }
   ],
   "source": [
    "import pandas as pd\n",
    "\n",
    "# File Excel\n",
    "target_file = 'D:/semhas/Data/target.xlsx'\n",
    "\n",
    "# Baca semua sheet\n",
    "xls = pd.ExcelFile(target_file)\n",
    "sheet_names = xls.sheet_names[:14]  # Ambil 14 sheet pertama\n",
    "\n",
    "all_data = []\n",
    "\n",
    "for sheet in sheet_names:\n",
    "    try:\n",
    "        # Baca mulai dari baris kedua sebagai header\n",
    "        df = pd.read_excel(target_file, sheet_name=sheet, header=1)\n",
    "        all_data.append(df)\n",
    "    except Exception as e:\n",
    "        print(f\"⚠️ Gagal membaca sheet {sheet}: {e}\")\n",
    "\n",
    "# Gabungkan semua sheet\n",
    "if all_data:\n",
    "    df_all = pd.concat(all_data, ignore_index=True)\n",
    "    print(\"\\n✅ Semua 14 sheet berhasil digabungkan. Preview:\")\n",
    "    \n",
    "    # Ambil hanya kolom yang diinginkan\n",
    "    selected_cols = ['Target Name','UniProt ID','Min Activity','Assay type','Probability']\n",
    "    df_selected = df_all.reindex(columns=selected_cols)\n",
    "    \n",
    "    print(df_selected.head(20))\n",
    "    \n",
    "    # --- Tambahkan ringkasan jumlah ---\n",
    "    total_rows = len(df_selected)\n",
    "    print(f\"\\nJumlah total baris: {total_rows}\")\n",
    "    print(\"\\nJumlah baris non-NA per kolom:\")\n",
    "    print(df_selected.count())\n",
    "    \n",
    "    # Simpan ke sheet baru\n",
    "    with pd.ExcelWriter(target_file, engine='openpyxl', mode='a', if_sheet_exists='replace') as writer:\n",
    "        df_selected.to_excel(writer, sheet_name='all_14_sheets', index=False)\n",
    "    \n",
    "    print(f\"\\n✅ Data berhasil disimpan di sheet 'all_14_sheets' dalam file {target_file}\")\n",
    "else:\n",
    "    print(\"❌ Tidak ada data yang berhasil dibaca.\")\n"
   ]
  },
  {
   "cell_type": "code",
   "execution_count": 2,
   "id": "524eccf4-9441-4770-8bca-86d04e9acc0f",
   "metadata": {},
   "outputs": [
    {
     "name": "stdout",
     "output_type": "stream",
     "text": [
      "✅ Data berhasil difilter dan disimpan di sheet 'targets_filtered_unique'.\n",
      "Jumlah baris Probability >= 0,55 dan Assay type = Potency : 819\n",
      "Jumlah baris unik berdasarkan UniProt ID: 229\n"
     ]
    }
   ],
   "source": [
    "import pandas as pd\n",
    "\n",
    "# File Excel\n",
    "file_path = 'D:/semhas/Data/target.xlsx'\n",
    "\n",
    "# Baca sheet all_14_sheets\n",
    "df_all = pd.read_excel(file_path, sheet_name='all_14_sheets')\n",
    "\n",
    "# Pastikan kolom Probability bertipe numerik\n",
    "df_all['Probability'] = pd.to_numeric(df_all['Probability'], errors='coerce')\n",
    "\n",
    "# Filter berdasarkan kondisi\n",
    "df_filtered = df_all[(df_all['Probability'] >= 0.55) | (df_all['Assay type'] == 'Potency')]\n",
    "\n",
    "# Hitung jumlah sebelum menghapus duplikat\n",
    "jumlah_sebelum = len(df_filtered)\n",
    "\n",
    "# Hapus duplikat hanya berdasarkan UniProt ID\n",
    "df_filtered_unique = df_filtered.drop_duplicates(subset=['UniProt ID'])\n",
    "jumlah_setelah = len(df_filtered_unique)\n",
    "\n",
    "# Simpan ke sheet baru\n",
    "with pd.ExcelWriter(file_path, engine='openpyxl', mode='a', if_sheet_exists='replace') as writer:\n",
    "    df_filtered_unique.to_excel(writer, sheet_name='targets_filtered_unique', index=False)\n",
    "\n",
    "print(f\"✅ Data berhasil difilter dan disimpan di sheet 'targets_filtered_unique'.\")\n",
    "print(f\"Jumlah baris Probability >= 0,55 dan Assay type = Potency : {jumlah_sebelum}\")\n",
    "print(f\"Jumlah baris unik berdasarkan UniProt ID: {jumlah_setelah}\")\n"
   ]
  },
  {
   "cell_type": "code",
   "execution_count": 65,
   "id": "c8d1d362-1d25-4fd6-9b95-1df7ffb83173",
   "metadata": {},
   "outputs": [
    {
     "name": "stdout",
     "output_type": "stream",
     "text": [
      "📄 Isi kolom 'UniProt ID' di sheet 'targets_filtered_unique':\n",
      "0      P16473\n",
      "1      Q9Y5S8\n",
      "2      P51151\n",
      "3      Q13887\n",
      "4      O15118\n",
      "        ...  \n",
      "224    P30542\n",
      "225    P55263\n",
      "226    P48775\n",
      "227    P43004\n",
      "228    Q8N4C8\n",
      "Name: UniProt ID, Length: 229, dtype: object\n",
      "\n",
      "📊 Total UniProt ID di 'targets_filtered_unique' (setelah hapus NaN): 229\n",
      "📊 Jumlah UniProt ID unik: 229\n"
     ]
    }
   ],
   "source": [
    "import pandas as pd\n",
    "\n",
    "# File Excel\n",
    "file_path = 'D:/semhas/Data/target.xlsx'\n",
    "\n",
    "# --- Baca sheet targets_filtered_unique ---\n",
    "df_targets = pd.read_excel(file_path, sheet_name='targets_filtered_unique', engine='openpyxl')\n",
    "\n",
    "# Nama kolom UniProt ID\n",
    "col_targets = 'UniProt ID'  # pastikan sesuai nama kolom di sheet\n",
    "\n",
    "# --- Hapus baris kosong (opsional) ---\n",
    "df_targets = df_targets.dropna(subset=[col_targets])\n",
    "\n",
    "# --- Tampilkan isi kolom UniProt ID ---\n",
    "print(f\"📄 Isi kolom '{col_targets}' di sheet 'targets_filtered_unique':\")\n",
    "print(df_targets[col_targets].reset_index(drop=True))\n",
    "\n",
    "# --- Statistik ---\n",
    "print(f\"\\n📊 Total UniProt ID di 'targets_filtered_unique' (setelah hapus NaN): {df_targets[col_targets].count()}\")\n",
    "print(f\"📊 Jumlah UniProt ID unik: {df_targets[col_targets].nunique()}\")\n"
   ]
  },
  {
   "cell_type": "code",
   "execution_count": 3,
   "id": "3b4dcacb-5a70-437c-97b6-de893ee34b25",
   "metadata": {},
   "outputs": [
    {
     "name": "stdout",
     "output_type": "stream",
     "text": [
      "✅ Sheet Sheet16 berhasil dibaca, baris: 100\n",
      "✅ Sheet Sheet12 berhasil dibaca, baris: 100\n",
      "✅ Sheet Sheet14(limone) berhasil dibaca, baris: 93\n",
      "\n",
      "✅ Semua sheet berhasil digabungkan. Total baris: 293\n",
      "\n",
      "📊 Statistik UniProt ID setelah gabungan:\n",
      "Total UniProt ID (dihitung semua, termasuk duplikat): 305\n",
      "Jumlah UniProt ID unik: 263\n",
      "Jumlah UniProt ID duplikat: 42\n",
      "\n",
      "✅ Daftar UniProt ID unik:\n",
      "0      P51679\n",
      "1      P51681\n",
      "2      Q12809\n",
      "3      O95136\n",
      "4      Q8TDU6\n",
      "        ...  \n",
      "258    P27361\n",
      "259    P24723\n",
      "260    P80365\n",
      "261    P30304\n",
      "262    Q06124\n",
      "Name: Uniprot ID, Length: 263, dtype: object\n",
      "\n",
      "✅ Data gabungan dan UniProt ID unik berhasil disimpan di file Excel.\n"
     ]
    }
   ],
   "source": [
    "import pandas as pd\n",
    "\n",
    "# File Excel sumber dan tujuan\n",
    "input_file = 'D:/semhas/Data/target.xlsx'\n",
    "output_file = 'D:/semhas/Data/target.xlsx'  # bisa sama dengan file sumber\n",
    "\n",
    "# Sheet yang ingin digabungkan\n",
    "sheet_names = ['Sheet16', 'Sheet12', 'Sheet14(limone)']\n",
    "\n",
    "all_data = []\n",
    "\n",
    "for sheet in sheet_names:\n",
    "    try:\n",
    "        df = pd.read_excel(input_file, sheet_name=sheet, engine='openpyxl', header=1)\n",
    "        df['Sheet'] = sheet  # kolom asal sheet\n",
    "        all_data.append(df)\n",
    "        print(f\"✅ Sheet {sheet} berhasil dibaca, baris: {len(df)}\")\n",
    "    except Exception as e:\n",
    "        print(f\"⚠️ Gagal membaca sheet {sheet}: {e}\")\n",
    "\n",
    "if all_data:\n",
    "    # Gabungkan semua sheet\n",
    "    df_combined = pd.concat(all_data, ignore_index=True)\n",
    "    print(f\"\\n✅ Semua sheet berhasil digabungkan. Total baris: {len(df_combined)}\")\n",
    "\n",
    "    # Hitung total UniProt ID (pecah jika ada lebih dari satu ID dalam satu sel)\n",
    "    if 'Uniprot ID' in df_combined.columns:\n",
    "        df_uniprot_expanded = df_combined['Uniprot ID'].astype(str).str.split(' ').explode()\n",
    "        total_uniprot = len(df_uniprot_expanded)\n",
    "        unique_uniprot = df_uniprot_expanded.drop_duplicates().count()\n",
    "        duplicate_uniprot = total_uniprot - unique_uniprot\n",
    "\n",
    "        print(\"\\n📊 Statistik UniProt ID setelah gabungan:\")\n",
    "        print(f\"Total UniProt ID (dihitung semua, termasuk duplikat): {total_uniprot}\")\n",
    "        print(f\"Jumlah UniProt ID unik: {unique_uniprot}\")\n",
    "        print(f\"Jumlah UniProt ID duplikat: {duplicate_uniprot}\")\n",
    "\n",
    "        # Ambil dan tampilkan UniProt ID unik\n",
    "        df_unique_uniprot = df_uniprot_expanded.drop_duplicates().reset_index(drop=True)\n",
    "        print(\"\\n✅ Daftar UniProt ID unik:\")\n",
    "        print(df_unique_uniprot)\n",
    "\n",
    "        # Simpan daftar unik ke sheet baru (opsional)\n",
    "        with pd.ExcelWriter(output_file, engine='openpyxl', mode='a', if_sheet_exists='replace') as writer:\n",
    "            df_combined.to_excel(writer, sheet_name='swisstarget_gabungan', index=False)\n",
    "            df_unique_uniprot.to_excel(writer, sheet_name='UniProt_ID_unique', index=False)\n",
    "\n",
    "        print(\"\\n✅ Data gabungan dan UniProt ID unik berhasil disimpan di file Excel.\")\n",
    "    else:\n",
    "        print(\"⚠️ Kolom 'Uniprot ID' tidak ditemukan di sheet gabungan.\")\n",
    "else:\n",
    "    print(\"❌ Tidak ada data yang berhasil dibaca.\")\n"
   ]
  },
  {
   "cell_type": "code",
   "execution_count": 6,
   "id": "858ff0a2-96b6-47c6-96bc-a1049734ec79",
   "metadata": {},
   "outputs": [
    {
     "name": "stdout",
     "output_type": "stream",
     "text": [
      "✅ Daftar baris dengan UniProt ID unik dan Probability* > 0:\n",
      "                                               Target   Common name  \\\n",
      "0                       C-C chemokine receptor type 4          CCR4   \n",
      "1                       C-C chemokine receptor type 5          CCR5   \n",
      "2                                                HERG         KCNH2   \n",
      "3              Sphingosine 1-phosphate receptor Edg-5         S1PR2   \n",
      "4              G-protein coupled bile acid receptor 1        GPBAR1   \n",
      "5                                    Integrin alpha-4         ITGA4   \n",
      "6                 Squalene synthetase   (by homology)         FDFT1   \n",
      "7                             Integrin alpha-V/beta-3   ITGAV ITGB3   \n",
      "8                             Integrin alpha-V/beta-3   ITGAV ITGB3   \n",
      "9                           Integrin alpha-IIb/beta-3  ITGA2B ITGB3   \n",
      "10                            Integrin alpha-V/beta-5   ITGB5 ITGAV   \n",
      "11                            Integrin alpha-V/beta-6   ITGAV ITGB6   \n",
      "12                        Protein farnesyltransferase     FNTA FNTB   \n",
      "13                        Protein farnesyltransferase     FNTA FNTB   \n",
      "14                                           Thrombin            F2   \n",
      "15                           FK506-binding protein 1A        FKBP1A   \n",
      "16          Peptidyl-prolyl cis-trans isomerase FKBP5         FKBP5   \n",
      "17                            FK506 binding protein 4         FKBP4   \n",
      "18  11-beta-hydroxysteroid dehydrogenase 1   (by h...       HSD11B1   \n",
      "19                      PI3-kinase p110-alpha subunit        PIK3CA   \n",
      "\n",
      "       Uniprot ID      ChEMBL ID                         Target Class  \\\n",
      "0          P51679     CHEMBL2414  Family A G protein-coupled receptor   \n",
      "1          P51681      CHEMBL274  Family A G protein-coupled receptor   \n",
      "2          Q12809      CHEMBL240            Voltage-gated ion channel   \n",
      "3          O95136     CHEMBL2955  Family A G protein-coupled receptor   \n",
      "4          Q8TDU6     CHEMBL5409  Family A G protein-coupled receptor   \n",
      "5          P13612      CHEMBL278                    Membrane receptor   \n",
      "6          P37268     CHEMBL3338                               Enzyme   \n",
      "7   P06756 P05106  CHEMBL1907598                    Membrane receptor   \n",
      "8   P06756 P05106  CHEMBL1907598                    Membrane receptor   \n",
      "9   P08514 P05106  CHEMBL2093869                    Membrane receptor   \n",
      "10  P18084 P06756  CHEMBL2096675                    Membrane receptor   \n",
      "11  P06756 P18564  CHEMBL2111416                    Membrane receptor   \n",
      "12  P49354 P49356  CHEMBL2094108                               Enzyme   \n",
      "13  P49354 P49356  CHEMBL2094108                               Enzyme   \n",
      "14         P00734      CHEMBL204                             Protease   \n",
      "15         P62942     CHEMBL1902                            Isomerase   \n",
      "16         Q13451  CHEMBL2052031                               Enzyme   \n",
      "17         Q02790     CHEMBL4050                               Enzyme   \n",
      "18         P28845     CHEMBL4235                               Enzyme   \n",
      "19         P42336     CHEMBL4005                               Enzyme   \n",
      "\n",
      "    Probability* Known actives (3D/2D)    Sheet Uniprot_ID_single  \n",
      "0       0.074565           4 /  0       Sheet16            P51679  \n",
      "1       0.074565          52 /  0       Sheet16            P51681  \n",
      "2       0.074565          24 /  0       Sheet16            Q12809  \n",
      "3       0.074565          19 /  0       Sheet16            O95136  \n",
      "4       0.074565           9 /  0       Sheet16            Q8TDU6  \n",
      "5       0.074565          48 /  0       Sheet16            P13612  \n",
      "6       0.074565          49 /  0       Sheet16            P37268  \n",
      "7       0.074565         354 /  0       Sheet16            P06756  \n",
      "8       0.074565         354 /  0       Sheet16            P05106  \n",
      "9       0.074565         142 /  0       Sheet16            P08514  \n",
      "10      0.074565          53 /  0       Sheet16            P18084  \n",
      "11      0.074565          54 /  0       Sheet16            P18564  \n",
      "12      0.074565          74 /  0       Sheet16            P49354  \n",
      "13      0.074565          74 /  0       Sheet16            P49356  \n",
      "14      0.074565          25 /  0       Sheet16            P00734  \n",
      "15      0.074565          38 /  0       Sheet16            P62942  \n",
      "16      0.074565          14 /  0       Sheet16            Q13451  \n",
      "17      0.074565           9 /  0       Sheet16            Q02790  \n",
      "18      0.074565          12 /  0       Sheet16            P28845  \n",
      "19      0.074565           6 /  0       Sheet16            P42336  \n",
      "\n",
      "✅ Data dengan kolom lengkap dan UniProt ID unik berhasil disimpan di sheet 'UniProt_ID_unique_filtered'\n"
     ]
    }
   ],
   "source": [
    "import pandas as pd\n",
    "\n",
    "# File Excel\n",
    "file_path = 'D:/semhas/Data/target.xlsx'\n",
    "\n",
    "# Baca sheet gabungan\n",
    "df = pd.read_excel(file_path, sheet_name='swisstarget_gabungan', engine='openpyxl', header=0)\n",
    "\n",
    "if 'Uniprot ID' in df.columns and 'Probability*' in df.columns:\n",
    "    # Filter baris dengan Probability* > 0\n",
    "    df_filtered = df[df['Probability*'] > 0]\n",
    "\n",
    "    # Pecah UniProt ID menjadi baris terpisah sambil tetap menjaga kolom lain\n",
    "    df_expanded = df_filtered.assign(Uniprot_ID_single=df_filtered['Uniprot ID'].astype(str).str.split(' ')).explode('Uniprot_ID_single')\n",
    "\n",
    "    # Hapus duplikat berdasarkan UniProt ID (tetap simpan baris pertama dari setiap ID)\n",
    "    df_unique = df_expanded.drop_duplicates(subset='Uniprot_ID_single').reset_index(drop=True)\n",
    "\n",
    "    # Tampilkan preview\n",
    "    print(\"✅ Daftar baris dengan UniProt ID unik dan Probability* > 0:\")\n",
    "    print(df_unique.head(20))\n",
    "\n",
    "    # Simpan ke sheet baru\n",
    "    with pd.ExcelWriter(file_path, engine='openpyxl', mode='a', if_sheet_exists='replace') as writer:\n",
    "        df_unique.to_excel(writer, sheet_name='UniProt_ID_unique_filtered', index=False)\n",
    "\n",
    "    print(\"\\n✅ Data dengan kolom lengkap dan UniProt ID unik berhasil disimpan di sheet 'UniProt_ID_unique_filtered'\")\n",
    "\n",
    "else:\n",
    "    if 'Uniprot ID' not in df.columns:\n",
    "        print(\"⚠️ Kolom 'Uniprot ID' tidak ditemukan di sheet.\")\n",
    "    if 'Probability*' not in df.columns:\n",
    "        print(\"⚠️ Kolom 'Probability*' tidak ditemukan di sheet.\")\n"
   ]
  },
  {
   "cell_type": "code",
   "execution_count": 7,
   "id": "d2d44c5a-582b-414c-9f1e-2ae39dd4593c",
   "metadata": {},
   "outputs": [
    {
     "name": "stdout",
     "output_type": "stream",
     "text": [
      "✅ UniProt ID unik gabungan (50 baris pertama):\n",
      "   Uniprot ID\n",
      "0      P16473\n",
      "1      Q9Y5S8\n",
      "2      P51151\n",
      "3      Q13887\n",
      "4      O15118\n",
      "5      O15164\n",
      "6      P20618\n",
      "7      Q99714\n",
      "8      P23219\n",
      "9      P02766\n",
      "10     P49721\n",
      "11     P28482\n",
      "12     P34995\n",
      "13     Q06124\n",
      "14     Q92753\n",
      "15     Q9Y345\n",
      "16     P19838\n",
      "17     P30926\n",
      "18     P27695\n",
      "19     P24557\n",
      "20     P11166\n",
      "21     O15151\n",
      "22     P42224\n",
      "23     P02708\n",
      "24     P23415\n",
      "25     P30305\n",
      "26     O14672\n",
      "27     P07384\n",
      "28     P09211\n",
      "29     P21462\n",
      "30     Q9HC97\n",
      "31     P08684\n",
      "32     O00257\n",
      "33     Q16236\n",
      "34     Q6V1X1\n",
      "35     P25090\n",
      "36     Q16288\n",
      "37     P67870\n",
      "38     P51955\n",
      "39     P08173\n",
      "40     O75469\n",
      "41     P17706\n",
      "42     P11387\n",
      "43     P43116\n",
      "44     P22736\n",
      "45     P08912\n",
      "46     P07477\n",
      "47     P42680\n",
      "48     Q00535\n",
      "49     O60341\n",
      "\n",
      "📊 Total UniProt ID setelah gabungan (termasuk duplikat): 282\n",
      "📊 Jumlah UniProt ID unik: 273\n",
      "\n",
      "✅ Hasil UniProt ID unik gabungan berhasil disimpan di sheet 'UniProt_ID_merged_unique'\n"
     ]
    }
   ],
   "source": [
    "import pandas as pd\n",
    "\n",
    "# File Excel\n",
    "target_file = 'D:/semhas/Data/target.xlsx'\n",
    "\n",
    "# --- Baca sheet ---\n",
    "df_targets = pd.read_excel(target_file, sheet_name='targets_filtered_unique', engine='openpyxl')\n",
    "df_swiss = pd.read_excel(target_file, sheet_name='UniProt_ID_unique_filtered', engine='openpyxl')\n",
    "\n",
    "# Nama kolom UniProt ID\n",
    "col_targets = 'UniProt ID'        # dari sheet targets_filtered_unique\n",
    "col_swiss = 'Uniprot_ID_single'   # dari sheet UniProt_ID_unique_filtered\n",
    "\n",
    "# --- Hapus baris kosong (NaN) ---\n",
    "df_targets = df_targets.dropna(subset=[col_targets])\n",
    "df_swiss = df_swiss.dropna(subset=[col_swiss])\n",
    "\n",
    "# --- Ambil hanya kolom UniProt ID masing-masing sheet ---\n",
    "df_targets_id = df_targets[[col_targets]].rename(columns={col_targets: 'Uniprot ID'})\n",
    "df_swiss_id = df_swiss[[col_swiss]].rename(columns={col_swiss: 'Uniprot ID'})\n",
    "\n",
    "# --- Gabungkan keduanya ---\n",
    "df_combined = pd.concat([df_targets_id, df_swiss_id], ignore_index=True)\n",
    "\n",
    "# --- Ambil UniProt ID unik ---\n",
    "df_unique = df_combined.drop_duplicates().reset_index(drop=True)\n",
    "\n",
    "# --- Tampilkan preview ---\n",
    "print(\"✅ UniProt ID unik gabungan (50 baris pertama):\")\n",
    "print(df_unique.head(50))\n",
    "\n",
    "# --- Statistik ---\n",
    "print(f\"\\n📊 Total UniProt ID setelah gabungan (termasuk duplikat): {len(df_combined)}\")\n",
    "print(f\"📊 Jumlah UniProt ID unik: {len(df_unique)}\")\n",
    "\n",
    "# --- Simpan ke sheet baru ---\n",
    "with pd.ExcelWriter(target_file, engine='openpyxl', mode='a', if_sheet_exists='replace') as writer:\n",
    "    df_unique.to_excel(writer, sheet_name='UniProt_ID_merged_unique', index=False)\n",
    "\n",
    "print(\"\\n✅ Hasil UniProt ID unik gabungan berhasil disimpan di sheet 'UniProt_ID_merged_unique'\")\n"
   ]
  },
  {
   "cell_type": "code",
   "execution_count": null,
   "id": "523f75b7-b9b1-4f38-bb0c-aa040844744f",
   "metadata": {},
   "outputs": [],
   "source": [
    "# Jumlah Entrez Gene ID Dari OMIM"
   ]
  },
  {
   "cell_type": "code",
   "execution_count": 23,
   "id": "3bdeb955-9539-4692-ba31-61ccd01ed016",
   "metadata": {},
   "outputs": [
    {
     "name": "stdout",
     "output_type": "stream",
     "text": [
      "📊 Ringkasan:\n",
      "🔹 Setelah filter (Entrez Gene ID tidak kosong): 176\n",
      "🔹 Jumlah baris duplikat berdasarkan Entrez Gene ID: 0\n"
     ]
    }
   ],
   "source": [
    "import pandas as pd\n",
    "\n",
    "# 📁 Path ke file Excel\n",
    "file_path = \"D:/semhas/Data/OMIM-Entry.xlsx\"\n",
    "\n",
    "# 🔹 Baca file dari baris ke-5 (karena header berada di baris ke-5)\n",
    "df = pd.read_excel(file_path, header=4)\n",
    "\n",
    "# 🔹 Filter baris dengan Entrez Gene ID tidak kosong\n",
    "df_filtered = df[df[\"Entrez Gene ID\"].notna()].copy()\n",
    "total_filtered = len(df_filtered)\n",
    "\n",
    "# 🔹 Cari duplikat berdasarkan Entrez Gene ID\n",
    "df_duplicates = df_filtered[df_filtered.duplicated(subset=[\"Entrez Gene ID\"], keep=False)].copy()\n",
    "total_duplikat = len(df_duplicates)\n",
    "\n",
    "# 🔹 Simpan ke file (Filtered: Sheet2, Duplicates: Sheet3)\n",
    "with pd.ExcelWriter(file_path, engine=\"openpyxl\", mode=\"a\", if_sheet_exists=\"replace\") as writer:\n",
    "    df_filtered.to_excel(writer, sheet_name=\"Filtered\", index=False)\n",
    "    df_duplicates.to_excel(writer, sheet_name=\"Duplicates\", index=False)\n",
    "\n",
    "# 🔹 Tampilkan ringkasan\n",
    "print(\"📊 Ringkasan:\")\n",
    "print(f\"🔹 Setelah filter (Entrez Gene ID tidak kosong): {total_filtered}\")\n",
    "print(f\"🔹 Jumlah baris duplikat berdasarkan Entrez Gene ID: {total_duplikat}\")\n"
   ]
  },
  {
   "cell_type": "code",
   "execution_count": null,
   "id": "625114db-d034-4636-99f1-ef4960ed4ce5",
   "metadata": {},
   "outputs": [],
   "source": [
    "# Cek Validasi UniProt ID dengan Taxonomy ID: 9606(Homo sapiens)  dari target"
   ]
  },
  {
   "cell_type": "code",
   "execution_count": 37,
   "id": "1d60a590-f561-416f-b660-ca5bda2b7a00",
   "metadata": {},
   "outputs": [
    {
     "name": "stdout",
     "output_type": "stream",
     "text": [
      "✅ Hasil validasi sudah disimpan ke sheet 'SuperPred_UniProt_validated'\n",
      "   No. ID Asal UniProt       Status Verifikasi Gene Name     Sumber\n",
      "0    1  P16473  P16473  ✅ Valid (Homo sapiens)      TSHR  SuperPred\n",
      "1    2  Q9Y5S8  Q9Y5S8  ✅ Valid (Homo sapiens)      NOX1  SuperPred\n",
      "2    3  P51151  P51151  ✅ Valid (Homo sapiens)     RAB9A  SuperPred\n",
      "3    4  Q13887  Q13887  ✅ Valid (Homo sapiens)      KLF5  SuperPred\n",
      "4    5  O15118  O15118  ✅ Valid (Homo sapiens)      NPC1  SuperPred\n",
      "5    6  O15164  O15164  ✅ Valid (Homo sapiens)    TRIM24  SuperPred\n",
      "6    7  P20618  P20618  ✅ Valid (Homo sapiens)     PSMB1  SuperPred\n",
      "7    8  Q99714  Q99714  ✅ Valid (Homo sapiens)  HSD17B10  SuperPred\n",
      "8    9  P23219  P23219  ✅ Valid (Homo sapiens)     PTGS1  SuperPred\n",
      "9   10  P02766  P02766  ✅ Valid (Homo sapiens)       TTR  SuperPred\n"
     ]
    }
   ],
   "source": [
    "import pandas as pd\n",
    "\n",
    "# --- File input ---\n",
    "target_file = \"D:/semhas/Data/target.xlsx\"\n",
    "mapping_file = \"D:/semhas/Data/HUMAN_9606_idmapping.dat\"\n",
    "\n",
    "# --- Baca sheet \"UniProt_ID_merged_unique\" ---\n",
    "df_target = pd.read_excel(target_file, sheet_name=\"UniProt_ID_merged_unique\")\n",
    "\n",
    "# Normalisasi nama kolom\n",
    "df_target.columns = df_target.columns.str.strip()\n",
    "\n",
    "# Pastikan nama kolom UniProt sesuai\n",
    "col_uniprot = \"Uniprot ID\"\n",
    "\n",
    "# --- Baca file mapping UniProt ---\n",
    "df_map = pd.read_csv(mapping_file, sep=\"\\t\", header=None,\n",
    "                     names=[\"UniProtKB-AC\", \"ID_Type\", \"Value\"])\n",
    "\n",
    "# --- Ambil mapping UniProt → Gene Name ---\n",
    "df_gene = df_map[df_map[\"ID_Type\"] == \"Gene_Name\"][[\"UniProtKB-AC\", \"Value\"]]\n",
    "df_gene.rename(columns={\"UniProtKB-AC\": \"UniProt\", \"Value\": \"Gene Name\"}, inplace=True)\n",
    "\n",
    "# --- Merge dengan gene name ---\n",
    "df_merge = df_target.merge(df_gene, how=\"left\", left_on=col_uniprot, right_on=\"UniProt\")\n",
    "\n",
    "# --- Tambahkan Status Verifikasi ---\n",
    "valid_uniprot_set = set(df_map[\"UniProtKB-AC\"].unique())\n",
    "df_merge[\"Status Verifikasi\"] = df_merge[col_uniprot].apply(\n",
    "    lambda x: \"✅ Valid (Homo sapiens)\" if pd.notna(x) and x in valid_uniprot_set else \"❌ Tidak valid\"\n",
    ")\n",
    "\n",
    "# --- Tambahkan kolom Sumber ---\n",
    "df_merge[\"Sumber\"] = \"SuperPred\"\n",
    "\n",
    "# --- Format final ---\n",
    "df_final = pd.DataFrame({\n",
    "    \"No.\": range(1, len(df_merge) + 1),\n",
    "    \"ID Asal\": df_merge[col_uniprot],\n",
    "    \"UniProt\": df_merge[col_uniprot],\n",
    "    \"Status Verifikasi\": df_merge[\"Status Verifikasi\"],\n",
    "    \"Gene Name\": df_merge[\"Gene Name\"],\n",
    "    \"Sumber\": df_merge[\"Sumber\"]\n",
    "})\n",
    "\n",
    "# --- Simpan ke sheet baru ---\n",
    "with pd.ExcelWriter(target_file, engine=\"openpyxl\", mode=\"a\", if_sheet_exists=\"replace\") as writer:\n",
    "    df_final.to_excel(writer, sheet_name=\"SuperPred_UniProt_validated\", index=False)\n",
    "\n",
    "print(\"✅ Hasil validasi sudah disimpan ke sheet 'SuperPred_UniProt_validated'\")\n",
    "print(df_final.head(10))\n"
   ]
  },
  {
   "cell_type": "code",
   "execution_count": null,
   "id": "8c128718-1128-442a-9323-fccf91205f3d",
   "metadata": {},
   "outputs": [],
   "source": [
    "# Cek Validasi UniProt ID dengan Taxonomy ID: 9606(Homo sapiens)  dari omim"
   ]
  },
  {
   "cell_type": "code",
   "execution_count": 35,
   "id": "a064fce5-be77-4fb8-99d8-54d3913c3c6e",
   "metadata": {},
   "outputs": [
    {
     "name": "stdout",
     "output_type": "stream",
     "text": [
      "✅ Hasil validasi sudah disimpan ke sheet 'OMIM_UniProt_validated'\n",
      "   No. ID Asal UniProt       Status Verifikasi Gene Name Sumber\n",
      "0    1    7350  P25874  ✅ Valid (Homo sapiens)      UCP1   OMIM\n",
      "1    2    7350  Q4KMT7  ✅ Valid (Homo sapiens)      UCP1   OMIM\n",
      "2    3   26027  Q8WXI4  ✅ Valid (Homo sapiens)    ACOT11   OMIM\n",
      "3    4   54976  Q9GZN8  ✅ Valid (Homo sapiens)    ADISSP   OMIM\n",
      "4    5  388581  Q5T7M4  ✅ Valid (Homo sapiens)  C1QTNF12   OMIM\n",
      "5    6   56246  Q8TCY5  ✅ Valid (Homo sapiens)      MRAP   OMIM\n",
      "6    7   51129  Q9BY76  ✅ Valid (Homo sapiens)   ANGPTL4   OMIM\n",
      "7    8   10891  Q9UBK2  ✅ Valid (Homo sapiens)  PPARGC1A   OMIM\n",
      "8    9    8841  O15379  ✅ Valid (Homo sapiens)     HDAC3   OMIM\n",
      "9   10    5743  P35354  ✅ Valid (Homo sapiens)     PTGS2   OMIM\n"
     ]
    }
   ],
   "source": [
    "import pandas as pd\n",
    "\n",
    "# --- File input ---\n",
    "target_file = \"D:/semhas/Data/OMIM-Entry.xlsx\"\n",
    "mapping_file = \"D:/semhas/Data/HUMAN_9606_idmapping.dat\"\n",
    "\n",
    "# --- Baca sheet \"Filtered\" ---\n",
    "df_target = pd.read_excel(target_file, sheet_name=\"Filtered\")\n",
    "\n",
    "# Normalisasi nama kolom\n",
    "df_target.columns = df_target.columns.str.strip()\n",
    "\n",
    "# Tentukan nama kolom ID Asal\n",
    "col_id_asal = \"Entrez Gene ID\"\n",
    "\n",
    "# Pastikan kolom Entrez di target jadi string\n",
    "df_target[col_id_asal] = df_target[col_id_asal].astype(str)\n",
    "\n",
    "# --- Baca file mapping UniProt ---\n",
    "df_map = pd.read_csv(mapping_file, sep=\"\\t\", header=None,\n",
    "                     names=[\"UniProtKB-AC\", \"ID_Type\", \"Value\"])\n",
    "\n",
    "# --- Ambil mapping Entrez Gene ID → UniProt ---\n",
    "df_entrez2uniprot = df_map[df_map[\"ID_Type\"] == \"GeneID\"][[\"Value\", \"UniProtKB-AC\"]]\n",
    "df_entrez2uniprot.rename(columns={\"Value\": col_id_asal, \"UniProtKB-AC\": \"UniProt\"}, inplace=True)\n",
    "\n",
    "# Pastikan kolom Entrez di mapping juga string\n",
    "df_entrez2uniprot[col_id_asal] = df_entrez2uniprot[col_id_asal].astype(str)\n",
    "\n",
    "# --- Ambil mapping UniProt → Gene Name ---\n",
    "df_gene = df_map[df_map[\"ID_Type\"] == \"Gene_Name\"][[\"UniProtKB-AC\", \"Value\"]]\n",
    "df_gene.rename(columns={\"UniProtKB-AC\": \"UniProt\", \"Value\": \"Gene Name\"}, inplace=True)\n",
    "\n",
    "# --- Merge Entrez dengan UniProt ---\n",
    "df_merge = df_target.merge(df_entrez2uniprot, how=\"left\", on=col_id_asal)\n",
    "\n",
    "# --- Tambahkan Gene Name ---\n",
    "df_merge = df_merge.merge(df_gene, how=\"left\", on=\"UniProt\")\n",
    "\n",
    "# --- Tambahkan Status Verifikasi ---\n",
    "valid_uniprot_set = set(df_map[\"UniProtKB-AC\"].unique())\n",
    "df_merge[\"Status Verifikasi\"] = df_merge[\"UniProt\"].apply(\n",
    "    lambda x: \"✅ Valid (Homo sapiens)\" if pd.notna(x) and x in valid_uniprot_set else \"❌ Tidak valid\"\n",
    ")\n",
    "\n",
    "# --- Tambahkan kolom Sumber ---\n",
    "df_merge[\"Sumber\"] = \"OMIM\"\n",
    "\n",
    "# --- Format final ---\n",
    "df_final = pd.DataFrame({\n",
    "    \"No.\": range(1, len(df_merge) + 1),\n",
    "    \"ID Asal\": df_merge[col_id_asal],\n",
    "    \"UniProt\": df_merge[\"UniProt\"],\n",
    "    \"Status Verifikasi\": df_merge[\"Status Verifikasi\"],\n",
    "    \"Gene Name\": df_merge[\"Gene Name\"],\n",
    "    \"Sumber\": df_merge[\"Sumber\"]\n",
    "})\n",
    "\n",
    "# --- Simpan ke sheet baru ---\n",
    "with pd.ExcelWriter(target_file, engine=\"openpyxl\", mode=\"a\", if_sheet_exists=\"replace\") as writer:\n",
    "    df_final.to_excel(writer, sheet_name=\"OMIM_UniProt_validated\", index=False)\n",
    "\n",
    "print(\"✅ Hasil validasi sudah disimpan ke sheet 'OMIM_UniProt_validated'\")\n",
    "print(df_final.head(10))\n"
   ]
  },
  {
   "cell_type": "code",
   "execution_count": null,
   "id": "c7a5eccb-9f3d-4437-a341-9659a2c121ec",
   "metadata": {},
   "outputs": [],
   "source": [
    "# Mengabungkan omim dan superpred"
   ]
  },
  {
   "cell_type": "code",
   "execution_count": 38,
   "id": "7a88f813-ba87-46e6-aac6-57d36b137d8e",
   "metadata": {},
   "outputs": [
    {
     "name": "stdout",
     "output_type": "stream",
     "text": [
      "✅ Gabungan OMIM + SuperPred sudah disimpan ke file: D:/semhas/Data/All_UniProt_validated.xlsx\n",
      "   No. ID Asal UniProt       Status Verifikasi Gene Name     Sumber\n",
      "0    1  P16473  P16473  ✅ Valid (Homo sapiens)      TSHR  SuperPred\n",
      "1    2  Q9Y5S8  Q9Y5S8  ✅ Valid (Homo sapiens)      NOX1  SuperPred\n",
      "2    3  P51151  P51151  ✅ Valid (Homo sapiens)     RAB9A  SuperPred\n",
      "3    4  Q13887  Q13887  ✅ Valid (Homo sapiens)      KLF5  SuperPred\n",
      "4    5  O15118  O15118  ✅ Valid (Homo sapiens)      NPC1  SuperPred\n",
      "5    6  O15164  O15164  ✅ Valid (Homo sapiens)    TRIM24  SuperPred\n",
      "6    7  P20618  P20618  ✅ Valid (Homo sapiens)     PSMB1  SuperPred\n",
      "7    8  Q99714  Q99714  ✅ Valid (Homo sapiens)  HSD17B10  SuperPred\n",
      "8    9  P23219  P23219  ✅ Valid (Homo sapiens)     PTGS1  SuperPred\n",
      "9   10  P02766  P02766  ✅ Valid (Homo sapiens)       TTR  SuperPred\n"
     ]
    }
   ],
   "source": [
    "import pandas as pd\n",
    "\n",
    "# --- File input ---\n",
    "omim_file = \"D:/semhas/Data/OMIM-Entry.xlsx\"\n",
    "superpred_file = \"D:/semhas/Data/target.xlsx\"\n",
    "output_file = \"D:/semhas/Data/All_UniProt_validated.xlsx\"  # bisa jadi file gabungan baru\n",
    "\n",
    "# --- Baca masing-masing sheet hasil validasi ---\n",
    "df_omim = pd.read_excel(omim_file, sheet_name=\"OMIM_UniProt_validated\")\n",
    "df_superpred = pd.read_excel(superpred_file, sheet_name=\"SuperPred_UniProt_validated\")\n",
    "\n",
    "# --- Gabungkan keduanya ---\n",
    "df_combined = pd.concat([df_superpred, df_omim], ignore_index=True)\n",
    "\n",
    "# --- Reset nomor urut ---\n",
    "df_combined[\"No.\"] = range(1, len(df_combined) + 1)\n",
    "\n",
    "# --- Simpan ke file baru ---\n",
    "df_combined.to_excel(output_file, sheet_name=\"All_UniProt_validated\", index=False)\n",
    "\n",
    "print(\"✅ Gabungan OMIM + SuperPred sudah disimpan ke file:\", output_file)\n",
    "print(df_combined.head(10))\n"
   ]
  },
  {
   "cell_type": "code",
   "execution_count": null,
   "id": "f5b0a570-8753-435b-b776-4e0792ab6b67",
   "metadata": {},
   "outputs": [],
   "source": [
    "#cek duplikat"
   ]
  },
  {
   "cell_type": "code",
   "execution_count": 41,
   "id": "48374d5b-3363-46af-8195-05795884e88e",
   "metadata": {},
   "outputs": [
    {
     "name": "stdout",
     "output_type": "stream",
     "text": [
      "Kolom tersedia: ['No.', 'ID Asal', 'UniProt', 'Status Verifikasi', 'Gene Name', 'Sumber']\n",
      "\n",
      "📊 Statistik Data All_UniProt_validated\n",
      "Total data gabungan : 578\n",
      "Jumlah duplikat     : 0\n",
      "Jumlah unik         : 578\n",
      "\n",
      "✅ Hasil duplikat, unik, dan statistik sudah disimpan di file D:/semhas/Data/All_UniProt_validated.xlsx\n"
     ]
    }
   ],
   "source": [
    "import pandas as pd\n",
    "\n",
    "# --- File input/output ---\n",
    "file_path = \"D:/semhas/Data/All_UniProt_validated.xlsx\"\n",
    "\n",
    "# --- Baca sheet gabungan ---\n",
    "df_all = pd.read_excel(file_path, sheet_name=\"All_UniProt_validated\")\n",
    "\n",
    "# --- Pastikan kolom yang dipakai ada ---\n",
    "print(\"Kolom tersedia:\", df_all.columns.tolist())\n",
    "\n",
    "# --- Cari duplikat berdasarkan kombinasi ID Asal + UniProt ---\n",
    "dupes = df_all[df_all.duplicated(subset=[\"ID Asal\", \"UniProt\"], keep=False)]\n",
    "\n",
    "# --- Data unik (hapus duplikat) ---\n",
    "df_unique = df_all.drop_duplicates(subset=[\"ID Asal\", \"UniProt\"]).reset_index(drop=True)\n",
    "df_unique[\"No.\"] = range(1, len(df_unique) + 1)\n",
    "\n",
    "# --- Statistik ---\n",
    "total_data = len(df_all)\n",
    "total_dupes = len(dupes)\n",
    "total_unique = len(df_unique)\n",
    "\n",
    "print(\"\\n📊 Statistik Data All_UniProt_validated\")\n",
    "print(f\"Total data gabungan : {total_data}\")\n",
    "print(f\"Jumlah duplikat     : {total_dupes}\")\n",
    "print(f\"Jumlah unik         : {total_unique}\")\n",
    "\n",
    "# --- Buat DataFrame ringkasan statistik ---\n",
    "df_stats = pd.DataFrame({\n",
    "    \"Keterangan\": [\"Total Data\", \"Jumlah Duplikat\", \"Jumlah Unik\"],\n",
    "    \"Jumlah\": [total_data, total_dupes, total_unique]\n",
    "})\n",
    "\n",
    "# --- Simpan ke file Excel ---\n",
    "with pd.ExcelWriter(file_path, engine=\"openpyxl\", mode=\"a\", if_sheet_exists=\"replace\") as writer:\n",
    "    dupes.to_excel(writer, sheet_name=\"Duplicated\", index=False)\n",
    "    df_unique.to_excel(writer, sheet_name=\"Unique_UniProt\", index=False)\n",
    "    df_stats.to_excel(writer, sheet_name=\"Statistik\", index=False)\n",
    "\n",
    "print(f\"\\n✅ Hasil duplikat, unik, dan statistik sudah disimpan di file {file_path}\")\n"
   ]
  },
  {
   "cell_type": "code",
   "execution_count": 50,
   "id": "e09bb7f5-765e-4a43-8fcc-1c7da8e54237",
   "metadata": {},
   "outputs": [
    {
     "name": "stdout",
     "output_type": "stream",
     "text": [
      "📂 Membaca file: D:/semhas/Data/hasil_Superpred\\Targets1 - 2025-07-19T054204.825.xlsx\n",
      "   🔹 Sheet: Sheet1\n",
      "📂 Membaca file: D:/semhas/Data/hasil_Superpred\\Targets1 - 2025-07-19T054214.688.xlsx\n",
      "   🔹 Sheet: Sheet1\n",
      "📂 Membaca file: D:/semhas/Data/hasil_Superpred\\Targets10 - 2025-07-19T055450.251.xlsx\n",
      "   🔹 Sheet: Sheet1\n",
      "📂 Membaca file: D:/semhas/Data/hasil_Superpred\\Targets11 - 2025-07-19T055542.195.xlsx\n",
      "   🔹 Sheet: Sheet1\n",
      "📂 Membaca file: D:/semhas/Data/hasil_Superpred\\Targets13 - 2025-07-19T055930.578.xlsx\n",
      "   🔹 Sheet: Sheet1\n",
      "📂 Membaca file: D:/semhas/Data/hasil_Superpred\\Targets2 - 2025-07-19T054402.358.xlsx\n",
      "   🔹 Sheet: Sheet1\n",
      "📂 Membaca file: D:/semhas/Data/hasil_Superpred\\Targets3 - 2025-07-19T054634.502.xlsx\n",
      "   🔹 Sheet: Sheet1\n",
      "📂 Membaca file: D:/semhas/Data/hasil_Superpred\\Targets4 - 2025-07-19T054832.108.xlsx\n",
      "   🔹 Sheet: Sheet1\n",
      "📂 Membaca file: D:/semhas/Data/hasil_Superpred\\Targets5 - 2025-07-19T054941.371.xlsx\n",
      "   🔹 Sheet: Sheet1\n",
      "📂 Membaca file: D:/semhas/Data/hasil_Superpred\\Targets5 - 2025-07-19T054943.349.xlsx\n",
      "   🔹 Sheet: Sheet1\n",
      "📂 Membaca file: D:/semhas/Data/hasil_Superpred\\Targets7 - 2025-07-19T055126.939.xlsx\n",
      "   🔹 Sheet: Sheet1\n",
      "📂 Membaca file: D:/semhas/Data/hasil_Superpred\\Targets8 - 2025-07-19T055214.882.xlsx\n",
      "   🔹 Sheet: Sheet1\n",
      "📂 Membaca file: D:/semhas/Data/hasil_Superpred\\Targets9 - 2025-07-19T055342.274.xlsx\n",
      "   🔹 Sheet: Sheet1\n",
      "✅ Selesai. Data disimpan di: D:/semhas/Data/Superpred_Dipilih.xlsx\n"
     ]
    }
   ],
   "source": [
    "import pandas as pd\n",
    "import os\n",
    "\n",
    "# 📁 Folder sumber & file output\n",
    "folder_path = \"D:/semhas/Data/hasil_Superpred\"\n",
    "output_file = \"D:/semhas/Data/Superpred_Dipilih.xlsx\"\n",
    "\n",
    "# Kolom penting\n",
    "selected_columns = [\"Target Name\", \"UniProt ID\", \"Min Activity\", \"Assay type\", \n",
    "                    \"Probability\", \"Model accuracy\"]\n",
    "\n",
    "dataframes = []\n",
    "excel_files = [f for f in os.listdir(folder_path) if f.endswith(\".xlsx\")]\n",
    "\n",
    "for file in excel_files:\n",
    "    file_path = os.path.join(folder_path, file)\n",
    "    print(f\"📂 Membaca file: {file_path}\")\n",
    "\n",
    "    try:\n",
    "        xls = pd.ExcelFile(file_path, engine=\"openpyxl\")\n",
    "        for sheet_name in xls.sheet_names:\n",
    "            print(f\"   🔹 Sheet: {sheet_name}\")\n",
    "            df = pd.read_excel(xls, sheet_name=sheet_name, header=1, engine=\"openpyxl\")\n",
    "            df.columns = df.columns.str.strip()\n",
    "\n",
    "            available_columns = [col for col in selected_columns if col in df.columns]\n",
    "            if not available_columns:\n",
    "                continue\n",
    "\n",
    "            df_filtered = df[available_columns].copy()\n",
    "            df_filtered[\"Source_File\"] = file\n",
    "            df_filtered[\"Source_Sheet\"] = sheet_name\n",
    "            dataframes.append(df_filtered)\n",
    "\n",
    "    except Exception as e:\n",
    "        print(f\"❌ Gagal membaca {file_path}: {e}\")\n",
    "\n",
    "# Gabungkan dan proses data\n",
    "if dataframes:\n",
    "    merged_df = pd.concat(dataframes, ignore_index=True)\n",
    "    merged_df = merged_df.dropna(subset=[\"UniProt ID\"])\n",
    "\n",
    "    # Data terpilih berdasarkan dua kondisi:\n",
    "    # 1. Probability >= 0.5 (jika kolom tersedia)\n",
    "    # 2. ATAU Assay type == \"Potency\" dan Min Activity tidak kosong\n",
    "    cond_probability = (merged_df.get(\"Probability\") >= 0.5) if \"Probability\" in merged_df.columns else False\n",
    "    cond_activity = (merged_df[\"Assay type\"].fillna(\"\") == \"Potency\") & (merged_df[\"Min Activity\"].notna())\n",
    "\n",
    "    df_dipilih = merged_df[(cond_probability | cond_activity)].copy()\n",
    "\n",
    "    # Hilangkan duplikat berdasarkan UniProt ID\n",
    "    df_dipilih = df_dipilih.drop_duplicates(subset=[\"UniProt ID\"], keep=\"first\").reset_index(drop=True)\n",
    "\n",
    "    # Ringkasan\n",
    "    unique_proteins = merged_df[\"UniProt ID\"].nunique()\n",
    "    summary_df = pd.DataFrame({\n",
    "        \"Keterangan\": [\"Jumlah Total Entri\", \"Jumlah Protein Target Unik\", \"Jumlah Terpilih\"],\n",
    "        \"Jumlah\": [len(merged_df), unique_proteins, len(df_dipilih)]\n",
    "    })\n",
    "\n",
    "    # Simpan ke Excel\n",
    "    with pd.ExcelWriter(output_file, engine=\"openpyxl\", mode=\"w\") as writer:\n",
    "        merged_df.to_excel(writer, index=False, sheet_name=\"Data Gabungan\")\n",
    "        df_dipilih.to_excel(writer, index=False, sheet_name=\"Dipilih\")\n",
    "        summary_df.to_excel(writer, index=False, sheet_name=\"Ringkasan\")\n",
    "\n",
    "    print(f\"✅ Selesai. Data disimpan di: {output_file}\")\n",
    "else:\n",
    "    print(\"❌ Tidak ada file Excel valid ditemukan.\")\n"
   ]
  },
  {
   "cell_type": "code",
   "execution_count": 12,
   "id": "46720e64-2b9a-49cc-8640-d26f43f9e743",
   "metadata": {},
   "outputs": [
    {
     "name": "stdout",
     "output_type": "stream",
     "text": [
      "Kolom yang tersedia: ['MIM Number', 'Title', 'Included Titles', 'Cytogenetic Location', 'Genomic Coordinates (From NCBI/GRCh38)', 'Entrez Gene ID', 'UniProt', 'Gene_Name', 'Status Verifikasi']\n"
     ]
    }
   ],
   "source": [
    "print(\"Kolom yang tersedia:\", df.columns.tolist())\n"
   ]
  },
  {
   "cell_type": "code",
   "execution_count": null,
   "id": "2c7418d0-8f3d-4fe3-a465-f65c260ed7d0",
   "metadata": {},
   "outputs": [],
   "source": [
    "# Cek Validasi UniProt ID dengan Taxonomy ID: 9606(Homo sapiens) dari superpred"
   ]
  },
  {
   "cell_type": "code",
   "execution_count": 14,
   "id": "6aa2feb9-fb8c-458d-b5e2-51a08b84ca45",
   "metadata": {},
   "outputs": [
    {
     "ename": "KeyError",
     "evalue": "'UniProt ID'",
     "output_type": "error",
     "traceback": [
      "\u001b[1;31m---------------------------------------------------------------------------\u001b[0m",
      "\u001b[1;31mKeyError\u001b[0m                                  Traceback (most recent call last)",
      "\u001b[1;32m~\\AppData\\Local\\Temp\\ipykernel_10920\\275083037.py\u001b[0m in \u001b[0;36m?\u001b[1;34m()\u001b[0m\n\u001b[0;32m     18\u001b[0m \u001b[0mdf_gene\u001b[0m \u001b[1;33m=\u001b[0m \u001b[0mdf_mapping\u001b[0m\u001b[1;33m[\u001b[0m\u001b[0mdf_mapping\u001b[0m\u001b[1;33m[\u001b[0m\u001b[1;34m'ID Type'\u001b[0m\u001b[1;33m]\u001b[0m \u001b[1;33m==\u001b[0m \u001b[1;34m'Gene_Name'\u001b[0m\u001b[1;33m]\u001b[0m\u001b[1;33m[\u001b[0m\u001b[1;33m[\u001b[0m\u001b[1;34m'UniProt ID'\u001b[0m\u001b[1;33m,\u001b[0m \u001b[1;34m'ID'\u001b[0m\u001b[1;33m]\u001b[0m\u001b[1;33m]\u001b[0m\u001b[1;33m\u001b[0m\u001b[1;33m\u001b[0m\u001b[0m\n\u001b[0;32m     19\u001b[0m \u001b[0mdf_gene\u001b[0m \u001b[1;33m=\u001b[0m \u001b[0mdf_gene\u001b[0m\u001b[1;33m.\u001b[0m\u001b[0mrename\u001b[0m\u001b[1;33m(\u001b[0m\u001b[0mcolumns\u001b[0m\u001b[1;33m=\u001b[0m\u001b[1;33m{\u001b[0m\u001b[1;34m'ID'\u001b[0m\u001b[1;33m:\u001b[0m \u001b[1;34m'Gene Name'\u001b[0m\u001b[1;33m}\u001b[0m\u001b[1;33m)\u001b[0m\u001b[1;33m\u001b[0m\u001b[1;33m\u001b[0m\u001b[0m\n\u001b[0;32m     20\u001b[0m \u001b[1;33m\u001b[0m\u001b[0m\n\u001b[0;32m     21\u001b[0m \u001b[1;31m# --- Merge dengan UniProt ID unik ---\u001b[0m\u001b[1;33m\u001b[0m\u001b[1;33m\u001b[0m\u001b[0m\n\u001b[1;32m---> 22\u001b[1;33m \u001b[0mdf_merged\u001b[0m \u001b[1;33m=\u001b[0m \u001b[0mpd\u001b[0m\u001b[1;33m.\u001b[0m\u001b[0mmerge\u001b[0m\u001b[1;33m(\u001b[0m\u001b[0mdf_uniprot\u001b[0m\u001b[1;33m,\u001b[0m \u001b[0mdf_gene\u001b[0m\u001b[1;33m,\u001b[0m \u001b[0mon\u001b[0m\u001b[1;33m=\u001b[0m\u001b[1;34m'UniProt ID'\u001b[0m\u001b[1;33m,\u001b[0m \u001b[0mhow\u001b[0m\u001b[1;33m=\u001b[0m\u001b[1;34m'left'\u001b[0m\u001b[1;33m)\u001b[0m\u001b[1;33m\u001b[0m\u001b[1;33m\u001b[0m\u001b[0m\n\u001b[0m\u001b[0;32m     23\u001b[0m \u001b[1;33m\u001b[0m\u001b[0m\n\u001b[0;32m     24\u001b[0m \u001b[1;31m# --- Tambahkan kolom Status Verifikasi ---\u001b[0m\u001b[1;33m\u001b[0m\u001b[1;33m\u001b[0m\u001b[0m\n\u001b[0;32m     25\u001b[0m \u001b[0mdf_merged\u001b[0m\u001b[1;33m[\u001b[0m\u001b[1;34m'Status Verifikasi'\u001b[0m\u001b[1;33m]\u001b[0m \u001b[1;33m=\u001b[0m \u001b[1;34m'✅ Valid (Homo sapiens)'\u001b[0m\u001b[1;33m\u001b[0m\u001b[1;33m\u001b[0m\u001b[0m\n",
      "\u001b[1;32mD:\\Python\\Lib\\site-packages\\pandas\\core\\reshape\\merge.py\u001b[0m in \u001b[0;36m?\u001b[1;34m(left, right, how, on, left_on, right_on, left_index, right_index, sort, suffixes, copy, indicator, validate)\u001b[0m\n\u001b[0;32m    166\u001b[0m             \u001b[0mvalidate\u001b[0m\u001b[1;33m=\u001b[0m\u001b[0mvalidate\u001b[0m\u001b[1;33m,\u001b[0m\u001b[1;33m\u001b[0m\u001b[1;33m\u001b[0m\u001b[0m\n\u001b[0;32m    167\u001b[0m             \u001b[0mcopy\u001b[0m\u001b[1;33m=\u001b[0m\u001b[0mcopy\u001b[0m\u001b[1;33m,\u001b[0m\u001b[1;33m\u001b[0m\u001b[1;33m\u001b[0m\u001b[0m\n\u001b[0;32m    168\u001b[0m         \u001b[1;33m)\u001b[0m\u001b[1;33m\u001b[0m\u001b[1;33m\u001b[0m\u001b[0m\n\u001b[0;32m    169\u001b[0m     \u001b[1;32melse\u001b[0m\u001b[1;33m:\u001b[0m\u001b[1;33m\u001b[0m\u001b[1;33m\u001b[0m\u001b[0m\n\u001b[1;32m--> 170\u001b[1;33m         op = _MergeOperation(\n\u001b[0m\u001b[0;32m    171\u001b[0m             \u001b[0mleft_df\u001b[0m\u001b[1;33m,\u001b[0m\u001b[1;33m\u001b[0m\u001b[1;33m\u001b[0m\u001b[0m\n\u001b[0;32m    172\u001b[0m             \u001b[0mright_df\u001b[0m\u001b[1;33m,\u001b[0m\u001b[1;33m\u001b[0m\u001b[1;33m\u001b[0m\u001b[0m\n\u001b[0;32m    173\u001b[0m             \u001b[0mhow\u001b[0m\u001b[1;33m=\u001b[0m\u001b[0mhow\u001b[0m\u001b[1;33m,\u001b[0m\u001b[1;33m\u001b[0m\u001b[1;33m\u001b[0m\u001b[0m\n",
      "\u001b[1;32mD:\\Python\\Lib\\site-packages\\pandas\\core\\reshape\\merge.py\u001b[0m in \u001b[0;36m?\u001b[1;34m(self, left, right, how, on, left_on, right_on, left_index, right_index, sort, suffixes, indicator, validate)\u001b[0m\n\u001b[0;32m    790\u001b[0m             \u001b[0mself\u001b[0m\u001b[1;33m.\u001b[0m\u001b[0mright_join_keys\u001b[0m\u001b[1;33m,\u001b[0m\u001b[1;33m\u001b[0m\u001b[1;33m\u001b[0m\u001b[0m\n\u001b[0;32m    791\u001b[0m             \u001b[0mself\u001b[0m\u001b[1;33m.\u001b[0m\u001b[0mjoin_names\u001b[0m\u001b[1;33m,\u001b[0m\u001b[1;33m\u001b[0m\u001b[1;33m\u001b[0m\u001b[0m\n\u001b[0;32m    792\u001b[0m             \u001b[0mleft_drop\u001b[0m\u001b[1;33m,\u001b[0m\u001b[1;33m\u001b[0m\u001b[1;33m\u001b[0m\u001b[0m\n\u001b[0;32m    793\u001b[0m             \u001b[0mright_drop\u001b[0m\u001b[1;33m,\u001b[0m\u001b[1;33m\u001b[0m\u001b[1;33m\u001b[0m\u001b[0m\n\u001b[1;32m--> 794\u001b[1;33m         \u001b[1;33m)\u001b[0m \u001b[1;33m=\u001b[0m \u001b[0mself\u001b[0m\u001b[1;33m.\u001b[0m\u001b[0m_get_merge_keys\u001b[0m\u001b[1;33m(\u001b[0m\u001b[1;33m)\u001b[0m\u001b[1;33m\u001b[0m\u001b[1;33m\u001b[0m\u001b[0m\n\u001b[0m\u001b[0;32m    795\u001b[0m \u001b[1;33m\u001b[0m\u001b[0m\n\u001b[0;32m    796\u001b[0m         \u001b[1;32mif\u001b[0m \u001b[0mleft_drop\u001b[0m\u001b[1;33m:\u001b[0m\u001b[1;33m\u001b[0m\u001b[1;33m\u001b[0m\u001b[0m\n\u001b[0;32m    797\u001b[0m             \u001b[0mself\u001b[0m\u001b[1;33m.\u001b[0m\u001b[0mleft\u001b[0m \u001b[1;33m=\u001b[0m \u001b[0mself\u001b[0m\u001b[1;33m.\u001b[0m\u001b[0mleft\u001b[0m\u001b[1;33m.\u001b[0m\u001b[0m_drop_labels_or_levels\u001b[0m\u001b[1;33m(\u001b[0m\u001b[0mleft_drop\u001b[0m\u001b[1;33m)\u001b[0m\u001b[1;33m\u001b[0m\u001b[1;33m\u001b[0m\u001b[0m\n",
      "\u001b[1;32mD:\\Python\\Lib\\site-packages\\pandas\\core\\reshape\\merge.py\u001b[0m in \u001b[0;36m?\u001b[1;34m(self)\u001b[0m\n\u001b[0;32m   1306\u001b[0m                     \u001b[1;32mif\u001b[0m \u001b[0mlk\u001b[0m \u001b[1;32mis\u001b[0m \u001b[1;32mnot\u001b[0m \u001b[1;32mNone\u001b[0m\u001b[1;33m:\u001b[0m\u001b[1;33m\u001b[0m\u001b[1;33m\u001b[0m\u001b[0m\n\u001b[0;32m   1307\u001b[0m                         \u001b[1;31m# Then we're either Hashable or a wrong-length arraylike,\u001b[0m\u001b[1;33m\u001b[0m\u001b[1;33m\u001b[0m\u001b[0m\n\u001b[0;32m   1308\u001b[0m                         \u001b[1;31m#  the latter of which will raise\u001b[0m\u001b[1;33m\u001b[0m\u001b[1;33m\u001b[0m\u001b[0m\n\u001b[0;32m   1309\u001b[0m                         \u001b[0mlk\u001b[0m \u001b[1;33m=\u001b[0m \u001b[0mcast\u001b[0m\u001b[1;33m(\u001b[0m\u001b[0mHashable\u001b[0m\u001b[1;33m,\u001b[0m \u001b[0mlk\u001b[0m\u001b[1;33m)\u001b[0m\u001b[1;33m\u001b[0m\u001b[1;33m\u001b[0m\u001b[0m\n\u001b[1;32m-> 1310\u001b[1;33m                         \u001b[0mleft_keys\u001b[0m\u001b[1;33m.\u001b[0m\u001b[0mappend\u001b[0m\u001b[1;33m(\u001b[0m\u001b[0mleft\u001b[0m\u001b[1;33m.\u001b[0m\u001b[0m_get_label_or_level_values\u001b[0m\u001b[1;33m(\u001b[0m\u001b[0mlk\u001b[0m\u001b[1;33m)\u001b[0m\u001b[1;33m)\u001b[0m\u001b[1;33m\u001b[0m\u001b[1;33m\u001b[0m\u001b[0m\n\u001b[0m\u001b[0;32m   1311\u001b[0m                         \u001b[0mjoin_names\u001b[0m\u001b[1;33m.\u001b[0m\u001b[0mappend\u001b[0m\u001b[1;33m(\u001b[0m\u001b[0mlk\u001b[0m\u001b[1;33m)\u001b[0m\u001b[1;33m\u001b[0m\u001b[1;33m\u001b[0m\u001b[0m\n\u001b[0;32m   1312\u001b[0m                     \u001b[1;32melse\u001b[0m\u001b[1;33m:\u001b[0m\u001b[1;33m\u001b[0m\u001b[1;33m\u001b[0m\u001b[0m\n\u001b[0;32m   1313\u001b[0m                         \u001b[1;31m# work-around for merge_asof(left_index=True)\u001b[0m\u001b[1;33m\u001b[0m\u001b[1;33m\u001b[0m\u001b[0m\n",
      "\u001b[1;32mD:\\Python\\Lib\\site-packages\\pandas\\core\\generic.py\u001b[0m in \u001b[0;36m?\u001b[1;34m(self, key, axis)\u001b[0m\n\u001b[0;32m   1907\u001b[0m             \u001b[0mvalues\u001b[0m \u001b[1;33m=\u001b[0m \u001b[0mself\u001b[0m\u001b[1;33m.\u001b[0m\u001b[0mxs\u001b[0m\u001b[1;33m(\u001b[0m\u001b[0mkey\u001b[0m\u001b[1;33m,\u001b[0m \u001b[0maxis\u001b[0m\u001b[1;33m=\u001b[0m\u001b[0mother_axes\u001b[0m\u001b[1;33m[\u001b[0m\u001b[1;36m0\u001b[0m\u001b[1;33m]\u001b[0m\u001b[1;33m)\u001b[0m\u001b[1;33m.\u001b[0m\u001b[0m_values\u001b[0m\u001b[1;33m\u001b[0m\u001b[1;33m\u001b[0m\u001b[0m\n\u001b[0;32m   1908\u001b[0m         \u001b[1;32melif\u001b[0m \u001b[0mself\u001b[0m\u001b[1;33m.\u001b[0m\u001b[0m_is_level_reference\u001b[0m\u001b[1;33m(\u001b[0m\u001b[0mkey\u001b[0m\u001b[1;33m,\u001b[0m \u001b[0maxis\u001b[0m\u001b[1;33m=\u001b[0m\u001b[0maxis\u001b[0m\u001b[1;33m)\u001b[0m\u001b[1;33m:\u001b[0m\u001b[1;33m\u001b[0m\u001b[1;33m\u001b[0m\u001b[0m\n\u001b[0;32m   1909\u001b[0m             \u001b[0mvalues\u001b[0m \u001b[1;33m=\u001b[0m \u001b[0mself\u001b[0m\u001b[1;33m.\u001b[0m\u001b[0maxes\u001b[0m\u001b[1;33m[\u001b[0m\u001b[0maxis\u001b[0m\u001b[1;33m]\u001b[0m\u001b[1;33m.\u001b[0m\u001b[0mget_level_values\u001b[0m\u001b[1;33m(\u001b[0m\u001b[0mkey\u001b[0m\u001b[1;33m)\u001b[0m\u001b[1;33m.\u001b[0m\u001b[0m_values\u001b[0m\u001b[1;33m\u001b[0m\u001b[1;33m\u001b[0m\u001b[0m\n\u001b[0;32m   1910\u001b[0m         \u001b[1;32melse\u001b[0m\u001b[1;33m:\u001b[0m\u001b[1;33m\u001b[0m\u001b[1;33m\u001b[0m\u001b[0m\n\u001b[1;32m-> 1911\u001b[1;33m             \u001b[1;32mraise\u001b[0m \u001b[0mKeyError\u001b[0m\u001b[1;33m(\u001b[0m\u001b[0mkey\u001b[0m\u001b[1;33m)\u001b[0m\u001b[1;33m\u001b[0m\u001b[1;33m\u001b[0m\u001b[0m\n\u001b[0m\u001b[0;32m   1912\u001b[0m \u001b[1;33m\u001b[0m\u001b[0m\n\u001b[0;32m   1913\u001b[0m         \u001b[1;31m# Check for duplicates\u001b[0m\u001b[1;33m\u001b[0m\u001b[1;33m\u001b[0m\u001b[0m\n\u001b[0;32m   1914\u001b[0m         \u001b[1;32mif\u001b[0m \u001b[0mvalues\u001b[0m\u001b[1;33m.\u001b[0m\u001b[0mndim\u001b[0m \u001b[1;33m>\u001b[0m \u001b[1;36m1\u001b[0m\u001b[1;33m:\u001b[0m\u001b[1;33m\u001b[0m\u001b[1;33m\u001b[0m\u001b[0m\n",
      "\u001b[1;31mKeyError\u001b[0m: 'UniProt ID'"
     ]
    }
   ],
   "source": [
    "import pandas as pd\n",
    "\n",
    "# File Excel dengan UniProt ID unik\n",
    "target_file = \"D:/semhas/Data/target.xlsx\"\n",
    "sheet_name = \"UniProt_ID_merged_unique\"\n",
    "\n",
    "# File mapping UniProt -> Gene Name\n",
    "mapping_file = \"D:/semhas/Data/HUMAN_9606_idmapping.dat\"\n",
    "\n",
    "# --- Baca sheet UniProt ID unik ---\n",
    "df_uniprot = pd.read_excel(target_file, sheet_name=sheet_name, engine='openpyxl')\n",
    "\n",
    "# --- Baca file mapping UniProt ---\n",
    "# File .dat biasanya tab-delimited: UniProtKB-AC  ID-type  ID\n",
    "df_mapping = pd.read_csv(mapping_file, sep='\\t', header=None, names=['UniProt ID', 'ID Type', 'ID'])\n",
    "\n",
    "# --- Filter mapping hanya untuk Gene Name ---\n",
    "df_gene = df_mapping[df_mapping['ID Type'] == 'Gene_Name'][['UniProt ID', 'ID']]\n",
    "df_gene = df_gene.rename(columns={'ID': 'Gene Name'})\n",
    "\n",
    "# --- Merge dengan UniProt ID unik ---\n",
    "df_merged = pd.merge(df_uniprot, df_gene, on='Uniprot ID', how='left')\n",
    "\n",
    "# --- Tambahkan kolom Status Verifikasi ---\n",
    "df_merged['Status Verifikasi'] = '✅ Valid (Homo sapiens)'\n",
    "\n",
    "# --- Preview ---\n",
    "print(\"✅ Preview hasil dengan Gene Name:\")\n",
    "print(df_merged.head(20))\n",
    "\n",
    "# --- Simpan ke sheet baru ---\n",
    "with pd.ExcelWriter(target_file, engine='openpyxl', mode='a', if_sheet_exists='replace') as writer:\n",
    "    df_merged.to_excel(writer, sheet_name='UniProt_with_GeneName', index=False)\n",
    "\n",
    "print(\"\\n✅ Hasil berhasil disimpan di sheet 'UniProt_with_GeneName'\")\n"
   ]
  },
  {
   "cell_type": "code",
   "execution_count": 9,
   "id": "e270112c-fc9d-41c5-a788-337aa35ff6ee",
   "metadata": {},
   "outputs": [
    {
     "name": "stdout",
     "output_type": "stream",
     "text": [
      "\n",
      "📊 Rekapitulasi Status Verifikasi:\n",
      "Status Verifikasi\n",
      "✅ Valid (Homo sapiens)    269\n",
      "Name: count, dtype: int64\n",
      "\n",
      "📌 Contoh hasil dengan Gene Name:\n",
      "  UniProt ID Gene Name       Status Verifikasi\n",
      "0     P16473      TSHR  ✅ Valid (Homo sapiens)\n",
      "1     Q9Y5S8      NOX1  ✅ Valid (Homo sapiens)\n",
      "2     P51151     RAB9A  ✅ Valid (Homo sapiens)\n",
      "3     Q13887      KLF5  ✅ Valid (Homo sapiens)\n",
      "4     O15118      NPC1  ✅ Valid (Homo sapiens)\n"
     ]
    }
   ],
   "source": [
    "import pandas as pd\n",
    "\n",
    "# === 1. File sumber ===\n",
    "superpred_file = \"D:/semhas/Data/SuperPred_Dipilih.xlsx\"\n",
    "mapping_file = \"D:/semhas/Data/HUMAN_9606_idmapping.dat\"\n",
    "\n",
    "# === 2. Baca data SuperPred ===\n",
    "df_superpred = pd.read_excel(superpred_file, sheet_name=\"Dipilih\")\n",
    "df_superpred = df_superpred.rename(columns=lambda x: x.strip())  # hapus spasi tersembunyi\n",
    "\n",
    "# === 3. Baca data mapping\n",
    "mapping_df = pd.read_csv(mapping_file, sep='\\t', header=None, names=[\"UniProt\", \"DB\", \"ID\"])\n",
    "\n",
    "# === 4. Ambil semua UniProt valid\n",
    "valid_uniprot = mapping_df[\"UniProt\"].unique()\n",
    "\n",
    "# === 5. Tambahkan kolom status verifikasi\n",
    "df_superpred['Status Verifikasi'] = df_superpred['UniProt ID'].isin(valid_uniprot).map(\n",
    "    lambda x: '✅ Valid (Homo sapiens)' if x else '❌ Tidak valid / Non-Human'\n",
    ")\n",
    "\n",
    "# === 6. Tambahkan kolom Gene Name\n",
    "gene_map = mapping_df[mapping_df[\"DB\"] == \"Gene_Name\"].copy()\n",
    "gene_map = gene_map.rename(columns={\"UniProt\": \"UniProt ID\", \"ID\": \"Gene Name\"}).drop(columns=[\"DB\"])\n",
    "\n",
    "# Gabungkan dengan DataFrame SuperPred berdasarkan UniProt ID\n",
    "df_superpred = pd.merge(df_superpred, gene_map, on=\"UniProt ID\", how=\"left\")\n",
    "\n",
    "# === 7. Simpan ke sheet baru\n",
    "with pd.ExcelWriter(superpred_file, mode='a', engine='openpyxl', if_sheet_exists='replace') as writer:\n",
    "    df_superpred.to_excel(writer, sheet_name='Verifikasi-UniProt', index=False)\n",
    "\n",
    "# === 8. Rekap jumlah hasil verifikasi\n",
    "rekap = df_superpred['Status Verifikasi'].value_counts()\n",
    "print(\"\\n📊 Rekapitulasi Status Verifikasi:\")\n",
    "print(rekap)\n",
    "\n",
    "# === 9. Contoh hasil\n",
    "print(\"\\n📌 Contoh hasil dengan Gene Name:\")\n",
    "print(df_superpred[['UniProt ID', 'Gene Name', 'Status Verifikasi']].head())\n"
   ]
  },
  {
   "cell_type": "code",
   "execution_count": null,
   "id": "5a06da88-6bcc-4f93-9b18-1c37c3066ec7",
   "metadata": {},
   "outputs": [],
   "source": [
    "# Gabungkan OMIM dan Superpred"
   ]
  },
  {
   "cell_type": "code",
   "execution_count": 11,
   "id": "d77706be-2088-4995-850c-01e657ba15e2",
   "metadata": {},
   "outputs": [
    {
     "name": "stdout",
     "output_type": "stream",
     "text": [
      "    No. ID Asal     UniProt       Status Verifikasi Gene Name Sumber\n",
      "0     1    7350      P25874  ✅ Valid (Homo sapiens)      UCP1   OMIM\n",
      "1     2    7350      Q4KMT7  ✅ Valid (Homo sapiens)      UCP1   OMIM\n",
      "2     3   26027      Q8WXI4  ✅ Valid (Homo sapiens)    ACOT11   OMIM\n",
      "3     4   54976      Q9GZN8  ✅ Valid (Homo sapiens)    ADISSP   OMIM\n",
      "4     5  388581      Q5T7M4  ✅ Valid (Homo sapiens)  C1QTNF12   OMIM\n",
      "5     6   56246      Q8TCY5  ✅ Valid (Homo sapiens)      MRAP   OMIM\n",
      "6     7   51129      Q9BY76  ✅ Valid (Homo sapiens)   ANGPTL4   OMIM\n",
      "7     8   10891      Q9UBK2  ✅ Valid (Homo sapiens)  PPARGC1A   OMIM\n",
      "8     9    8841      O15379  ✅ Valid (Homo sapiens)     HDAC3   OMIM\n",
      "9    10    5743      P35354  ✅ Valid (Homo sapiens)     PTGS2   OMIM\n",
      "10   11     657      P36894  ✅ Valid (Homo sapiens)    BMPR1A   OMIM\n",
      "11   12    9572      P20393  ✅ Valid (Homo sapiens)     NR1D1   OMIM\n",
      "12   13    9572      F1D8S3  ✅ Valid (Homo sapiens)     NR1D1   OMIM\n",
      "13   14  133522      Q86YN6  ✅ Valid (Homo sapiens)  PPARGC1B   OMIM\n",
      "14   15  133522      B7ZM40  ✅ Valid (Homo sapiens)  PPARGC1B   OMIM\n",
      "15   16   26291      Q9NSA1  ✅ Valid (Homo sapiens)     FGF21   OMIM\n",
      "16   17   26291  A0A7U3L5M7  ✅ Valid (Homo sapiens)     FGF8C   OMIM\n",
      "17   18    1734      Q92813  ✅ Valid (Homo sapiens)      DIO2   OMIM\n",
      "18   19    1734      A8K845  ✅ Valid (Homo sapiens)       NaN   OMIM\n",
      "19   20    1149      O60543  ✅ Valid (Homo sapiens)     CIDEA   OMIM\n",
      "\n",
      "✅ Total gabungan entri: 574\n"
     ]
    }
   ],
   "source": [
    "# === Sumber: Proses penggabungan data protein target dari OMIM dan SuperPred ===\n",
    "# Tujuan: Membuat satu tabel gabungan yang berisi ID asal, UniProt ID, status verifikasi, nama gen, dan sumber data\n",
    "\n",
    "import pandas as pd\n",
    "\n",
    "# === 1. File sumber ===\n",
    "omim_file = \"D:/semhas/Data/OMIM-Entry.xlsx\"                # Sumber data OMIM (Filtered)\n",
    "superpred_file = \"D:/semhas/Data/SuperPred_Dipilih.xlsx\"    # Sumber data hasil verifikasi SuperPred\n",
    "\n",
    "# === 2. Baca sheet 'Filtered' dari OMIM ===\n",
    "df_omim = pd.read_excel(omim_file, sheet_name=\"Filtered\")\n",
    "df_omim = df_omim.rename(columns=lambda x: x.strip())  # Hilangkan spasi tersembunyi pada nama kolom\n",
    "\n",
    "# Ambil kolom yang dibutuhkan & ganti nama kolom agar konsisten\n",
    "df_omim = df_omim[['Entrez Gene ID', 'UniProt', 'Gene_Name', 'Status Verifikasi']].copy()\n",
    "df_omim = df_omim.rename(columns={\n",
    "    'Entrez Gene ID': 'ID Asal',\n",
    "    'UniProt': 'UniProt',\n",
    "    'Gene_Name': 'Gene Name'\n",
    "})\n",
    "df_omim['ID Asal'] = df_omim['ID Asal'].astype(str)  # Pastikan ID Asal berupa string\n",
    "df_omim['Sumber'] = 'OMIM'\n",
    "\n",
    "# === 3. Baca sheet 'Verifikasi-UniProt' dari SuperPred ===\n",
    "df_superpred = pd.read_excel(superpred_file, sheet_name=\"Verifikasi-UniProt\")\n",
    "df_superpred = df_superpred.rename(columns=lambda x: x.strip())  # Hilangkan spasi tersembunyi\n",
    "\n",
    "# Ambil kolom yang dibutuhkan & samakan nama kolom\n",
    "df_superpred = df_superpred[['UniProt ID', 'Status Verifikasi', 'Gene Name']].copy()\n",
    "df_superpred = df_superpred.rename(columns={'UniProt ID': 'UniProt'})\n",
    "df_superpred['ID Asal'] = df_superpred['UniProt']\n",
    "df_superpred['Sumber'] = 'SuperPred'\n",
    "\n",
    "# Susun ulang kolom agar sama\n",
    "df_superpred = df_superpred[['ID Asal', 'UniProt', 'Status Verifikasi', 'Gene Name', 'Sumber']]\n",
    "df_omim = df_omim[['ID Asal', 'UniProt', 'Status Verifikasi', 'Gene Name', 'Sumber']]\n",
    "\n",
    "# === 4. Gabungkan data dari OMIM dan SuperPred ===\n",
    "df_all = pd.concat([df_omim, df_superpred], ignore_index=True)\n",
    "\n",
    "# Tambahkan kolom nomor urut di paling kiri\n",
    "df_all.insert(0, 'No.', range(1, len(df_all) + 1))\n",
    "\n",
    "# === 5. Tampilkan hasil ===\n",
    "print(df_all.head(20))  # Tampilkan 20 baris pertama\n",
    "print(f\"\\n✅ Total gabungan entri: {len(df_all)}\")\n",
    "\n",
    "# (Opsional) Simpan ke file Excel jika diinginkan:\n",
    "df_all.to_excel(\"D:/semhas/Data/Target_Protein.xlsx\", index=False)\n"
   ]
  },
  {
   "cell_type": "code",
   "execution_count": 12,
   "id": "6c1079d4-abb4-48dd-a600-2a2bd285b286",
   "metadata": {},
   "outputs": [
    {
     "name": "stdout",
     "output_type": "stream",
     "text": [
      "📊 Rekapitulasi Status Verifikasi per Sumber:\n",
      "Status Verifikasi  ✅ Valid (Homo sapiens)  ❌ Tidak ditemukan\n",
      "Sumber                                                      \n",
      "OMIM                                  301                  4\n",
      "SuperPred                             269                  0\n",
      "\n",
      "🔢 Total Data Valid dari Semua Sumber: 570\n"
     ]
    }
   ],
   "source": [
    "import pandas as pd\n",
    "\n",
    "# === 1. Baca file Excel ===\n",
    "input_file = \"D:/semhas/Data/Target_Protein.xlsx\"\n",
    "\n",
    "# Baca sheet pertama (diasumsikan gabungan data)\n",
    "xls = pd.ExcelFile(input_file)\n",
    "df = pd.read_excel(xls, sheet_name=xls.sheet_names[0])\n",
    "df.columns = df.columns.str.strip()\n",
    "\n",
    "# Tambahkan kolom sumber berdasarkan nilai ID Asal (OMIM: angka, SuperPred: string UniProt)\n",
    "df['Sumber'] = df['ID Asal'].apply(lambda x: 'OMIM' if str(x).isdigit() else 'SuperPred')\n",
    "\n",
    "# === 2. Filter yang valid (case-insensitive) ===\n",
    "df['Status Verifikasi'] = df['Status Verifikasi'].str.strip()\n",
    "df_valid = df[df['Status Verifikasi'].str.lower() == '✅ Valid (Homo sapiens)'].copy()\n",
    "\n",
    "# === 3. Simpan ke sheet baru 'Dipilih' ===\n",
    "with pd.ExcelWriter(input_file, mode='a', engine='openpyxl', if_sheet_exists='replace') as writer:\n",
    "    df_valid.to_excel(writer, sheet_name='Dipilih', index=False)\n",
    "\n",
    "# === 4. Hitung jumlah valid/tidak valid per sumber ===\n",
    "rekap = df.groupby(['Sumber', 'Status Verifikasi']).size().unstack(fill_value=0)\n",
    "\n",
    "# === 6. Tampilkan hasil ===\n",
    "print(\"📊 Rekapitulasi Status Verifikasi per Sumber:\")\n",
    "print(rekap)\n",
    "\n",
    "\n",
    "# Hitung total valid\n",
    "valid_df = df_all[df_all['Status Verifikasi'].str.contains(\"Valid\", na=False)]\n",
    "\n",
    "# Total valid semua sumber\n",
    "total_valid = len(valid_df)\n",
    "\n",
    "# Cetak hasil\n",
    "print(f\"\\n🔢 Total Data Valid dari Semua Sumber: {total_valid}\")\n",
    "\n"
   ]
  },
  {
   "cell_type": "code",
   "execution_count": 13,
   "id": "0e1b368b-57de-4bb2-b827-7eb0ad2cc1a6",
   "metadata": {},
   "outputs": [
    {
     "name": "stdout",
     "output_type": "stream",
     "text": [
      "✅ Data valid berhasil disimpan ke sheet 'Dipilih'.\n",
      "\n",
      "📊 Rekapitulasi Status Verifikasi per Sumber:\n",
      "Status Verifikasi  ✅ Valid (Homo sapiens)  ❌ Tidak ditemukan\n",
      "Sumber                                                      \n",
      "OMIM                                  301                  4\n",
      "SuperPred                             269                  0\n",
      "\n",
      "🔢 Total Data Valid dari Semua Sumber: 570\n"
     ]
    }
   ],
   "source": [
    "import pandas as pd\n",
    "\n",
    "# === 1. Baca file Excel ===\n",
    "input_file = \"D:/semhas/Data/Target_Protein.xlsx\"\n",
    "\n",
    "# Baca sheet pertama (diasumsikan gabungan data)\n",
    "xls = pd.ExcelFile(input_file)\n",
    "df = pd.read_excel(xls, sheet_name=xls.sheet_names[0])\n",
    "df.columns = df.columns.str.strip()\n",
    "\n",
    "# === 2. Tambahkan kolom 'Sumber' berdasarkan ID Asal (OMIM: angka, SuperPred: UniProt)\n",
    "df['Sumber'] = df['ID Asal'].apply(lambda x: 'OMIM' if str(x).isdigit() else 'SuperPred')\n",
    "\n",
    "# === 3. Bersihkan kolom Status Verifikasi\n",
    "df['Status Verifikasi'] = df['Status Verifikasi'].str.strip()\n",
    "\n",
    "# === 4. Filter data valid\n",
    "df_valid = df[df['Status Verifikasi'].str.lower().str.contains(\"valid\")].copy()\n",
    "\n",
    "# === 5. Simpan hasil valid ke sheet baru \"Dipilih\"\n",
    "with pd.ExcelWriter(input_file, mode='a', engine='openpyxl', if_sheet_exists='replace') as writer:\n",
    "    df_valid.to_excel(writer, sheet_name='Dipilih', index=False)\n",
    "print(\"✅ Data valid berhasil disimpan ke sheet 'Dipilih'.\")\n",
    "\n",
    "# === 6. Rekap status verifikasi berdasarkan sumber\n",
    "rekap = df.groupby(['Sumber', 'Status Verifikasi']).size().unstack(fill_value=0)\n",
    "\n",
    "# === 7. Hitung total valid dari semua sumber\n",
    "total_valid = len(df_valid)\n",
    "\n",
    "# === 8. Tampilkan hasil\n",
    "print(\"\\n📊 Rekapitulasi Status Verifikasi per Sumber:\")\n",
    "print(rekap)\n",
    "print(f\"\\n🔢 Total Data Valid dari Semua Sumber: {total_valid}\")\n"
   ]
  },
  {
   "cell_type": "code",
   "execution_count": null,
   "id": "1e8bb644-529f-4547-a113-4346f9f9a0cc",
   "metadata": {},
   "outputs": [],
   "source": [
    "# Hapus duplikat Gabungan"
   ]
  },
  {
   "cell_type": "code",
   "execution_count": 14,
   "id": "1dc00630-c0c5-4cd3-804d-3b7e12f96089",
   "metadata": {},
   "outputs": [
    {
     "name": "stdout",
     "output_type": "stream",
     "text": [
      "Kolom tersedia: Index(['No.', 'ID Asal', 'UniProt', 'Status Verifikasi', 'Gene Name',\n",
      "       'Sumber'],\n",
      "      dtype='object')\n",
      "\n",
      "Jumlah duplikat ditemukan: 18\n",
      "Hasil tanpa duplikat disimpan ke sheet 'Tanpa_Duplikat'.\n"
     ]
    }
   ],
   "source": [
    "import pandas as pd\n",
    "\n",
    "# Baca file dan sheet\n",
    "file_path = 'D:/semhas/Data/Target_Protein.xlsx'\n",
    "sheet_asal = 'Dipilih'\n",
    "sheet_tujuan = 'Tanpa_Duplikat'\n",
    "\n",
    "# Baca data\n",
    "df = pd.read_excel(file_path, sheet_name=sheet_asal)\n",
    "\n",
    "# Tampilkan kolom yang tersedia\n",
    "print(\"Kolom tersedia:\", df.columns)\n",
    "\n",
    "# Nama kolom UniProt\n",
    "kolom_uniprot = 'UniProt'\n",
    "\n",
    "# Cek apakah kolom tersedia\n",
    "if kolom_uniprot in df.columns:\n",
    "    # Cek dan tampilkan duplikat\n",
    "    duplikat = df[df.duplicated(subset=[kolom_uniprot], keep=False)]\n",
    "    print(f\"\\nJumlah duplikat ditemukan: {duplikat.shape[0]}\")\n",
    "\n",
    "    # Hapus duplikat dan simpan hasil\n",
    "    df_tanpa_duplikat = df.drop_duplicates(subset=[kolom_uniprot], keep='first')\n",
    "\n",
    "    # Simpan ke sheet baru di file yang sama\n",
    "    with pd.ExcelWriter(file_path, engine='openpyxl', mode='a', if_sheet_exists='replace') as writer:\n",
    "        df_tanpa_duplikat.to_excel(writer, sheet_name=sheet_tujuan, index=False)\n",
    "\n",
    "    print(f\"Hasil tanpa duplikat disimpan ke sheet '{sheet_tujuan}'.\")\n",
    "else:\n",
    "    print(f\"Kolom '{kolom_uniprot}' tidak ditemukan.\")\n"
   ]
  },
  {
   "cell_type": "code",
   "execution_count": 16,
   "id": "84826886-6c45-4846-88b7-bafd156f3e2b",
   "metadata": {},
   "outputs": [
    {
     "name": "stdout",
     "output_type": "stream",
     "text": [
      "Kolom tersedia: Index(['No.', 'ID Asal', 'UniProt', 'Status Verifikasi', 'Gene Name',\n",
      "       'Sumber'],\n",
      "      dtype='object')\n",
      "\n",
      "Jumlah total entri awal: 570\n",
      "Contoh data awal:\n",
      "  UniProt\n",
      "0  P25874\n",
      "1  Q4KMT7\n",
      "2  Q8WXI4\n",
      "3  Q9GZN8\n",
      "4  Q5T7M4\n",
      "5  Q8TCY5\n",
      "6  Q9BY76\n",
      "7  Q9UBK2\n",
      "8  O15379\n",
      "9  P35354\n",
      "\n",
      "Jumlah duplikat ditemukan: 18\n",
      "Contoh duplikat:\n",
      "    UniProt\n",
      "8    O15379\n",
      "9    P35354\n",
      "48   P08235\n",
      "83   P10275\n",
      "172  Q8TDU6\n",
      "240  P10646\n",
      "247  P05186\n",
      "248  P00750\n",
      "279  Q13370\n",
      "\n",
      "Jumlah entri setelah penghapusan duplikat: 561\n",
      "Hasil tanpa duplikat disimpan ke sheet 'Tanpa_Duplikat'.\n"
     ]
    }
   ],
   "source": [
    "import pandas as pd\n",
    "\n",
    "# Baca file dan sheet\n",
    "file_path = 'D:/semhas/Data/Target_Protein.xlsx'\n",
    "sheet_asal = 'Dipilih'\n",
    "sheet_tujuan = 'Tanpa_Duplikat'\n",
    "\n",
    "# Baca data\n",
    "df = pd.read_excel(file_path, sheet_name=sheet_asal)\n",
    "\n",
    "# Tampilkan kolom yang tersedia\n",
    "print(\"Kolom tersedia:\", df.columns)\n",
    "\n",
    "# Nama kolom UniProt\n",
    "kolom_uniprot = 'UniProt'\n",
    "\n",
    "# Cek apakah kolom tersedia\n",
    "if kolom_uniprot in df.columns:\n",
    "    print(f\"\\nJumlah total entri awal: {len(df)}\")\n",
    "    print(f\"Contoh data awal:\\n{df[[kolom_uniprot]].head(10)}\")\n",
    "\n",
    "    # Cek dan tampilkan duplikat\n",
    "    duplikat = df[df.duplicated(subset=[kolom_uniprot], keep=False)]\n",
    "    print(f\"\\nJumlah duplikat ditemukan: {len(duplikat)}\")\n",
    "    if not duplikat.empty:\n",
    "        print(f\"Contoh duplikat:\\n{duplikat[[kolom_uniprot]].drop_duplicates().head(10)}\")\n",
    "\n",
    "    # Hapus duplikat dan simpan hasil\n",
    "    df_tanpa_duplikat = df.drop_duplicates(subset=[kolom_uniprot], keep='first')\n",
    "    print(f\"\\nJumlah entri setelah penghapusan duplikat: {len(df_tanpa_duplikat)}\")\n",
    "\n",
    "    # Simpan ke sheet baru di file yang sama\n",
    "    with pd.ExcelWriter(file_path, engine='openpyxl', mode='a', if_sheet_exists='replace') as writer:\n",
    "        df_tanpa_duplikat.to_excel(writer, sheet_name=sheet_tujuan, index=False)\n",
    "\n",
    "    print(f\"Hasil tanpa duplikat disimpan ke sheet '{sheet_tujuan}'.\")\n",
    "else:\n",
    "    print(f\"Kolom '{kolom_uniprot}' tidak ditemukan.\")\n"
   ]
  },
  {
   "cell_type": "code",
   "execution_count": null,
   "id": "b2e27d8d-0a53-41ee-9b43-c8cda0c016b9",
   "metadata": {},
   "outputs": [],
   "source": []
  },
  {
   "cell_type": "markdown",
   "id": "fb463f42-4d38-4fbd-93da-69c35f0433c6",
   "metadata": {},
   "source": [
    "# Data PPI"
   ]
  },
  {
   "cell_type": "code",
   "execution_count": 111,
   "id": "184ea5bb-0c55-474d-9a83-e5b22cd660e7",
   "metadata": {},
   "outputs": [
    {
     "name": "stdout",
     "output_type": "stream",
     "text": [
      "🚀 Memproses batch 1 dari 6 (100 ID)...\n",
      "✅ Batch 1 selesai! Data disimpan di ppi_batch_1.tsv\n",
      "🚀 Memproses batch 2 dari 6 (100 ID)...\n",
      "✅ Batch 2 selesai! Data disimpan di ppi_batch_2.tsv\n",
      "🚀 Memproses batch 3 dari 6 (100 ID)...\n",
      "✅ Batch 3 selesai! Data disimpan di ppi_batch_3.tsv\n",
      "🚀 Memproses batch 4 dari 6 (100 ID)...\n",
      "✅ Batch 4 selesai! Data disimpan di ppi_batch_4.tsv\n",
      "🚀 Memproses batch 5 dari 6 (100 ID)...\n",
      "✅ Batch 5 selesai! Data disimpan di ppi_batch_5.tsv\n",
      "🚀 Memproses batch 6 dari 6 (61 ID)...\n",
      "✅ Batch 6 selesai! Data disimpan di ppi_batch_6.tsv\n",
      "\n",
      "🎉 Semua batch selesai! Data PPI gabungan disimpan di:\n",
      "D:/semhas/projek/PPI.tsv\n"
     ]
    }
   ],
   "source": [
    "import pandas as pd\n",
    "import requests\n",
    "import time\n",
    "\n",
    "# Path ke file Excel yang berisi UniProt ID\n",
    "file_path = \"D:/semhas/projek/Target_Protein.xlsx\"\n",
    "\n",
    "# Baca kolom UniProt_ID\n",
    "df = pd.read_excel(file_path, sheet_name='Dipilih')\n",
    "uniprot_ids = df[\"UniProt\"].dropna().unique().tolist()\n",
    "\n",
    "# Fungsi untuk memproses batch dan ambil data PPI dari STRING\n",
    "def fetch_ppi_batch(batch_ids, batch_number, total_batches):\n",
    "    print(f\"🚀 Memproses batch {batch_number} dari {total_batches} ({len(batch_ids)} ID)...\")\n",
    "\n",
    "    # Format string untuk query\n",
    "    protein_query = \"%0d%0a\".join(batch_ids)\n",
    "\n",
    "    # URL API STRING, dengan parameter 'species=9606' untuk Homo sapiens dan 'required_score=400' untuk skor minimal 0,4\n",
    "    url = f\"https://string-db.org/api/tsv/network?identifiers={protein_query}&species=9606&required_score=400\"\n",
    "\n",
    "    try:\n",
    "        response = requests.get(url)\n",
    "        if response.status_code == 200:\n",
    "            batch_file = f\"ppi_batch_{batch_number}.tsv\"\n",
    "            with open(batch_file, \"w\", encoding=\"utf-8\") as f:\n",
    "                f.write(response.text)\n",
    "            print(f\"✅ Batch {batch_number} selesai! Data disimpan di {batch_file}\")\n",
    "            return pd.read_csv(batch_file, sep=\"\\t\")\n",
    "        else:\n",
    "            print(f\"❌ Error Batch {batch_number}: {response.status_code} - {response.text}\")\n",
    "            return pd.DataFrame()\n",
    "    except Exception as e:\n",
    "        print(f\"❌ Gagal mengunduh data pada batch {batch_number}: {e}\")\n",
    "        return pd.DataFrame()\n",
    "\n",
    "# 🔄 Looping batch\n",
    "batch_size = 100\n",
    "all_results = []\n",
    "total_batches = (len(uniprot_ids) + batch_size - 1) // batch_size\n",
    "\n",
    "for i in range(0, len(uniprot_ids), batch_size):\n",
    "    batch_ids = uniprot_ids[i:i+batch_size]\n",
    "    batch_number = (i // batch_size) + 1\n",
    "    df_batch = fetch_ppi_batch(batch_ids, batch_number, total_batches)\n",
    "    if not df_batch.empty:\n",
    "        all_results.append(df_batch)\n",
    "    time.sleep(1.5)  # Hindari overload server STRING\n",
    "\n",
    "# 🔗 Gabungkan semua hasil\n",
    "if all_results:\n",
    "    combined_df = pd.concat(all_results, ignore_index=True)\n",
    "    output_file = \"D:/semhas/projek/PPI.tsv\"\n",
    "    combined_df.to_csv(output_file, sep=\"\\t\", index=False)\n",
    "    print(f\"\\n🎉 Semua batch selesai! Data PPI gabungan disimpan di:\\n{output_file}\")\n",
    "else:\n",
    "    print(\"⚠️ Tidak ada data PPI yang berhasil diambil.\")\n"
   ]
  },
  {
   "cell_type": "code",
   "execution_count": 113,
   "id": "cecdea09-40ed-4935-977c-621227bad26b",
   "metadata": {},
   "outputs": [
    {
     "name": "stdout",
     "output_type": "stream",
     "text": [
      "Jumlah protein (node) yang berinteraksi: 332\n",
      "Jumlah interaksi antar protein (edge): 933\n",
      "             stringId_A            stringId_B UniProt_ID_1 UniProt_ID_2\n",
      "0  9606.ENSP00000216180  9606.ENSP00000471477   uc003bei.1   uc002pkn.2\n",
      "1  9606.ENSP00000216180  9606.ENSP00000287820   uc003bei.1   uc003bwr.4\n",
      "2  9606.ENSP00000216180  9606.ENSP00000312652   uc003bei.1   uc003vml.3\n",
      "3  9606.ENSP00000216180  9606.ENSP00000348069   uc003bei.1   uc002grt.3\n",
      "4  9606.ENSP00000216180  9606.ENSP00000244289   uc003bei.1   uc002otr.4\n"
     ]
    }
   ],
   "source": [
    "import pandas as pd\n",
    "import networkx as nx\n",
    "\n",
    "# File PPI dan mapping\n",
    "ppi_file = 'D:/semhas/projek/PPI.tsv'\n",
    "mapping_file = 'D:/semhas/projek/9606.protein.aliases.v12.0.txt'\n",
    "\n",
    "# Baca data PPI\n",
    "df = pd.read_csv(ppi_file, sep='\\t')\n",
    "\n",
    "# Baca mapping STRING ID ke UniProt\n",
    "mapping_df = pd.read_csv(mapping_file, sep='\\t', header=None, names=['string_id', 'alias', 'source'])\n",
    "uniprot_map = mapping_df[mapping_df['source'].str.contains('UniProt', case=False, na=False)]\n",
    "string_to_uniprot = dict(zip(uniprot_map['string_id'], uniprot_map['alias']))\n",
    "\n",
    "# Mapping UniProt ID berdasarkan stringId_A dan stringId_B\n",
    "df['UniProt_ID_1'] = df['stringId_A'].map(string_to_uniprot)\n",
    "df['UniProt_ID_2'] = df['stringId_B'].map(string_to_uniprot)\n",
    "\n",
    "# Hapus baris yang tidak berhasil dimapping\n",
    "df_clean = df.dropna(subset=['UniProt_ID_1', 'UniProt_ID_2'])\n",
    "\n",
    "# Buat graph dari pasangan UniProt ID\n",
    "G = nx.from_pandas_edgelist(df_clean, 'UniProt_ID_1', 'UniProt_ID_2')\n",
    "\n",
    "# Hitung node dan edge\n",
    "jumlah_node = G.number_of_nodes()\n",
    "jumlah_interaksi = G.number_of_edges()\n",
    "\n",
    "print(f\"Jumlah protein (node) yang berinteraksi: {jumlah_node}\")\n",
    "print(f\"Jumlah interaksi antar protein (edge): {jumlah_interaksi}\")\n",
    "print(df_clean[['stringId_A', 'stringId_B', 'UniProt_ID_1', 'UniProt_ID_2']].head())\n"
   ]
  },
  {
   "cell_type": "code",
   "execution_count": 18,
   "id": "c682a029-6dc9-47e3-bdb6-24dbc7ee0445",
   "metadata": {},
   "outputs": [
    {
     "name": "stdout",
     "output_type": "stream",
     "text": [
      "             stringId_A            stringId_B UniProt_ID_1 UniProt_ID_2  \\\n",
      "0  9606.ENSP00000215832  9606.ENSP00000381607   uc010gtk.2       V9HWE9   \n",
      "1  9606.ENSP00000215832  9606.ENSP00000411532   uc010gtk.2   uc002huq.4   \n",
      "2  9606.ENSP00000215832  9606.ENSP00000380252   uc010gtk.2   uc002ulg.6   \n",
      "3  9606.ENSP00000215832  9606.ENSP00000351908   uc010gtk.2   uc003qhc.4   \n",
      "4  9606.ENSP00000215832  9606.ENSP00000216714   uc010gtk.2   uc058yte.1   \n",
      "5  9606.ENSP00000215832  9606.ENSP00000321656   uc010gtk.2   uc003lcp.3   \n",
      "6  9606.ENSP00000215832  9606.ENSP00000501150   uc010gtk.2   uc011bmq.4   \n",
      "7  9606.ENSP00000215832  9606.ENSP00000355966   uc010gtk.2   uc001hir.3   \n",
      "8  9606.ENSP00000215832  9606.ENSP00000428056   uc010gtk.2   uc003jva.4   \n",
      "9  9606.ENSP00000215832  9606.ENSP00000354558   uc010gtk.2   uc001asd.4   \n",
      "\n",
      "   combined_score  \n",
      "0           0.411  \n",
      "1           0.421  \n",
      "2           0.430  \n",
      "3           0.495  \n",
      "4           0.513  \n",
      "5           0.563  \n",
      "6           0.618  \n",
      "7           0.656  \n",
      "8           0.659  \n",
      "9           0.678  \n",
      "\n",
      "📊 Ringkasan Interaksi PPI:\n",
      "🔹 Jumlah total interaksi (edge)         : 1464\n",
      "🔸 Jumlah protein unik yang berinteraksi : 399\n",
      "\n",
      "⚙️ Parameter ekstraksi STRING:\n",
      "- Organisme: Homo sapiens (TaxID: 9606)\n",
      "- Jenis interaksi: full STRING network (eksperimental, prediktif, dan teks)\n",
      "- Skor kepercayaan minimum (combined_score): 0.4 (medium confidence)\n",
      "\n",
      "✅ Tabel PPI dengan mapping UniProt disimpan.\n"
     ]
    }
   ],
   "source": [
    "import pandas as pd\n",
    "\n",
    "# 📂 File PPI dan mapping\n",
    "ppi_file = 'D:/semhas/projek/hasil/PPI_Combined_Final.tsv'\n",
    "mapping_file = 'D:/semhas/projek/hasil/9606.protein.aliases.v12.0.txt'\n",
    "\n",
    "# 📥 Baca file PPI\n",
    "df_ppi = pd.read_csv(ppi_file, sep='\\t')\n",
    "\n",
    "# Rename kolom 'score' menjadi 'combined_score' jika perlu\n",
    "df_ppi = df_ppi.rename(columns={'score': 'combined_score'})\n",
    "\n",
    "# Filter hanya interaksi dengan combined_score ≥ 0.4\n",
    "df_filtered = df_ppi[df_ppi['combined_score'] >= 0.4].copy()\n",
    "\n",
    "# 📥 Baca mapping STRING ID → UniProt ID\n",
    "df_map = pd.read_csv(mapping_file, sep='\\t', header=None, names=['string_id', 'alias', 'source'])\n",
    "df_map_uniprot = df_map[df_map['source'].str.contains('UniProt', case=False, na=False)]\n",
    "\n",
    "# Buat dictionary untuk mapping\n",
    "string_to_uniprot = dict(zip(df_map_uniprot['string_id'], df_map_uniprot['alias']))\n",
    "\n",
    "# 🧭 Mapping ke UniProt ID\n",
    "df_filtered['UniProt_ID_1'] = df_filtered['stringId_A'].map(string_to_uniprot)\n",
    "df_filtered['UniProt_ID_2'] = df_filtered['stringId_B'].map(string_to_uniprot)\n",
    "\n",
    "# Hapus baris yang tidak berhasil dimapping\n",
    "df_final = df_filtered.dropna(subset=['UniProt_ID_1', 'UniProt_ID_2'])\n",
    "\n",
    "# 🎯 Tabel akhir yang ingin ditampilkan\n",
    "result = df_final[['stringId_A', 'stringId_B', 'UniProt_ID_1', 'UniProt_ID_2', 'combined_score']]\n",
    "print(result.head(10))\n",
    "\n",
    "# 📊 Statistik\n",
    "jumlah_interaksi = len(result)\n",
    "protein_unik = pd.unique(result[['UniProt_ID_1', 'UniProt_ID_2']].values.ravel())\n",
    "jumlah_protein_unik = len(protein_unik)\n",
    "\n",
    "print(\"\\n📊 Ringkasan Interaksi PPI:\")\n",
    "print(f\"🔹 Jumlah total interaksi (edge)         : {jumlah_interaksi}\")\n",
    "print(f\"🔸 Jumlah protein unik yang berinteraksi : {jumlah_protein_unik}\")\n",
    "\n",
    "# 📝 Parameter ekstraksi dari STRING\n",
    "print(\"\\n⚙️ Parameter ekstraksi STRING:\")\n",
    "print(\"- Organisme: Homo sapiens (TaxID: 9606)\")\n",
    "print(\"- Jenis interaksi: full STRING network (eksperimental, prediktif, dan teks)\")\n",
    "print(\"- Skor kepercayaan minimum (combined_score): 0.4 (medium confidence)\")\n",
    "\n",
    "# 💾 Simpan hasil\n",
    "result.to_csv('D:/semhas/projek/hasil/PPI_Table_Filtered_0.4.tsv', sep='\\t', index=False)\n",
    "print(\"\\n✅ Tabel PPI dengan mapping UniProt disimpan.\")\n"
   ]
  },
  {
   "cell_type": "markdown",
   "id": "a7f3d20f-5bc1-4fe7-a8b9-bbe5c4e384cf",
   "metadata": {},
   "source": [
    "# Data ddi"
   ]
  },
  {
   "cell_type": "code",
   "execution_count": null,
   "id": "4b09b363-eddd-46d4-b565-2b5199439b72",
   "metadata": {},
   "outputs": [],
   "source": [
    "#UniProt --> Domain PFam"
   ]
  },
  {
   "cell_type": "code",
   "execution_count": 14,
   "id": "6e0dd2a7-41cb-4530-aa64-89cbfcf64287",
   "metadata": {},
   "outputs": [
    {
     "name": "stdout",
     "output_type": "stream",
     "text": [
      "🔍 Memulai pemetaan 561 UniProt ID ke domain Pfam...\n",
      "\n"
     ]
    },
    {
     "name": "stderr",
     "output_type": "stream",
     "text": [
      "Memproses:   0%|                                                                               | 0/561 [00:00<?, ?it/s]"
     ]
    },
    {
     "name": "stdout",
     "output_type": "stream",
     "text": [
      "[1] P25874 → 1 domain: PF00153\n"
     ]
    },
    {
     "name": "stderr",
     "output_type": "stream",
     "text": [
      "Memproses:   0%|▏                                                                      | 1/561 [00:02<27:53,  2.99s/it]"
     ]
    },
    {
     "name": "stdout",
     "output_type": "stream",
     "text": [
      "[2] Q4KMT7 → 1 domain: PF00153\n"
     ]
    },
    {
     "name": "stderr",
     "output_type": "stream",
     "text": [
      "Memproses:   0%|▎                                                                      | 2/561 [00:05<22:48,  2.45s/it]"
     ]
    },
    {
     "name": "stdout",
     "output_type": "stream",
     "text": [
      "[3] Q8WXI4 → 2 domain: PF01852, PF03061\n"
     ]
    },
    {
     "name": "stderr",
     "output_type": "stream",
     "text": [
      "Memproses:   1%|▍                                                                      | 3/561 [00:07<21:09,  2.28s/it]"
     ]
    },
    {
     "name": "stdout",
     "output_type": "stream",
     "text": [
      "[4] Q9GZN8 → 1 domain: PF15006\n"
     ]
    },
    {
     "name": "stderr",
     "output_type": "stream",
     "text": [
      "Memproses:   1%|▌                                                                      | 4/561 [00:09<20:28,  2.21s/it]"
     ]
    },
    {
     "name": "stdout",
     "output_type": "stream",
     "text": [
      "[5] Q5T7M4 → Tidak ditemukan domain Pfam.\n"
     ]
    },
    {
     "name": "stderr",
     "output_type": "stream",
     "text": [
      "Memproses:   1%|▋                                                                      | 5/561 [00:11<21:07,  2.28s/it]"
     ]
    },
    {
     "name": "stdout",
     "output_type": "stream",
     "text": [
      "[6] Q8TCY5 → 1 domain: PF15183\n"
     ]
    },
    {
     "name": "stderr",
     "output_type": "stream",
     "text": [
      "Memproses:   1%|▊                                                                      | 6/561 [00:13<20:38,  2.23s/it]"
     ]
    },
    {
     "name": "stdout",
     "output_type": "stream",
     "text": [
      "[7] Q9BY76 → 1 domain: PF00147\n"
     ]
    },
    {
     "name": "stderr",
     "output_type": "stream",
     "text": [
      "Memproses:   1%|▉                                                                      | 7/561 [00:15<20:16,  2.20s/it]"
     ]
    },
    {
     "name": "stdout",
     "output_type": "stream",
     "text": [
      "[8] Q9UBK2 → 1 domain: PF00076\n"
     ]
    },
    {
     "name": "stderr",
     "output_type": "stream",
     "text": [
      "Memproses:   1%|█                                                                      | 8/561 [00:17<19:56,  2.16s/it]"
     ]
    },
    {
     "name": "stdout",
     "output_type": "stream",
     "text": [
      "[9] O15379 → 1 domain: PF00850\n"
     ]
    },
    {
     "name": "stderr",
     "output_type": "stream",
     "text": [
      "Memproses:   2%|█▏                                                                     | 9/561 [00:20<19:40,  2.14s/it]"
     ]
    },
    {
     "name": "stdout",
     "output_type": "stream",
     "text": [
      "[10] P35354 → 1 domain: PF03098\n"
     ]
    },
    {
     "name": "stderr",
     "output_type": "stream",
     "text": [
      "Memproses:   2%|█▏                                                                    | 10/561 [00:22<19:33,  2.13s/it]"
     ]
    },
    {
     "name": "stdout",
     "output_type": "stream",
     "text": [
      "[11] P36894 → 3 domain: PF00069, PF01064, PF08515\n"
     ]
    },
    {
     "name": "stderr",
     "output_type": "stream",
     "text": [
      "Memproses:   2%|█▎                                                                    | 11/561 [00:24<19:27,  2.12s/it]"
     ]
    },
    {
     "name": "stdout",
     "output_type": "stream",
     "text": [
      "[12] P20393 → 2 domain: PF00104, PF00105\n"
     ]
    },
    {
     "name": "stderr",
     "output_type": "stream",
     "text": [
      "Memproses:   2%|█▍                                                                    | 12/561 [00:26<19:20,  2.11s/it]"
     ]
    },
    {
     "name": "stdout",
     "output_type": "stream",
     "text": [
      "[13] F1D8S3 → 2 domain: PF00104, PF00105\n"
     ]
    },
    {
     "name": "stderr",
     "output_type": "stream",
     "text": [
      "Memproses:   2%|█▌                                                                    | 13/561 [00:28<19:25,  2.13s/it]"
     ]
    },
    {
     "name": "stdout",
     "output_type": "stream",
     "text": [
      "[14] Q86YN6 → 1 domain: PF00076\n"
     ]
    },
    {
     "name": "stderr",
     "output_type": "stream",
     "text": [
      "Memproses:   2%|█▋                                                                    | 14/561 [00:30<19:20,  2.12s/it]"
     ]
    },
    {
     "name": "stdout",
     "output_type": "stream",
     "text": [
      "[15] B7ZM40 → 1 domain: PF00076\n"
     ]
    },
    {
     "name": "stderr",
     "output_type": "stream",
     "text": [
      "Memproses:   3%|█▊                                                                    | 15/561 [00:32<19:10,  2.11s/it]"
     ]
    },
    {
     "name": "stdout",
     "output_type": "stream",
     "text": [
      "[16] Q9NSA1 → 1 domain: PF00167\n"
     ]
    },
    {
     "name": "stderr",
     "output_type": "stream",
     "text": [
      "Memproses:   3%|█▉                                                                    | 16/561 [00:34<19:00,  2.09s/it]"
     ]
    },
    {
     "name": "stdout",
     "output_type": "stream",
     "text": [
      "[17] A0A7U3L5M7 → 1 domain: PF00167\n"
     ]
    },
    {
     "name": "stderr",
     "output_type": "stream",
     "text": [
      "Memproses:   3%|██                                                                    | 17/561 [00:36<18:53,  2.08s/it]"
     ]
    },
    {
     "name": "stdout",
     "output_type": "stream",
     "text": [
      "[18] Q92813 → 1 domain: PF00837\n"
     ]
    },
    {
     "name": "stderr",
     "output_type": "stream",
     "text": [
      "Memproses:   3%|██▏                                                                   | 18/561 [00:38<18:53,  2.09s/it]"
     ]
    },
    {
     "name": "stdout",
     "output_type": "stream",
     "text": [
      "[19] A8K845 → 1 domain: PF00837\n"
     ]
    },
    {
     "name": "stderr",
     "output_type": "stream",
     "text": [
      "Memproses:   3%|██▎                                                                   | 19/561 [00:41<18:58,  2.10s/it]"
     ]
    },
    {
     "name": "stdout",
     "output_type": "stream",
     "text": [
      "[20] O60543 → 1 domain: PF02017\n"
     ]
    },
    {
     "name": "stderr",
     "output_type": "stream",
     "text": [
      "Memproses:   4%|██▍                                                                   | 20/561 [00:43<18:49,  2.09s/it]"
     ]
    },
    {
     "name": "stdout",
     "output_type": "stream",
     "text": [
      "[21] Q8N5P9 → 1 domain: PF02017\n"
     ]
    },
    {
     "name": "stderr",
     "output_type": "stream",
     "text": [
      "Memproses:   4%|██▌                                                                   | 21/561 [00:45<18:44,  2.08s/it]"
     ]
    },
    {
     "name": "stdout",
     "output_type": "stream",
     "text": [
      "[22] B3KVA2 → Tidak ditemukan domain Pfam.\n"
     ]
    },
    {
     "name": "stderr",
     "output_type": "stream",
     "text": [
      "Memproses:   4%|██▋                                                                   | 22/561 [00:47<18:40,  2.08s/it]"
     ]
    },
    {
     "name": "stdout",
     "output_type": "stream",
     "text": [
      "[23] Q8NA29 → 1 domain: PF13347\n"
     ]
    },
    {
     "name": "stderr",
     "output_type": "stream",
     "text": [
      "Memproses:   4%|██▊                                                                   | 23/561 [00:49<18:41,  2.08s/it]"
     ]
    },
    {
     "name": "stdout",
     "output_type": "stream",
     "text": [
      "[24] Q71RE4 → 1 domain: PF13347\n"
     ]
    },
    {
     "name": "stderr",
     "output_type": "stream",
     "text": [
      "Memproses:   4%|██▉                                                                   | 24/561 [00:51<18:37,  2.08s/it]"
     ]
    },
    {
     "name": "stdout",
     "output_type": "stream",
     "text": [
      "[25] E7EPI8 → 1 domain: PF13347\n"
     ]
    },
    {
     "name": "stderr",
     "output_type": "stream",
     "text": [
      "Memproses:   4%|███                                                                   | 25/561 [00:53<18:36,  2.08s/it]"
     ]
    },
    {
     "name": "stdout",
     "output_type": "stream",
     "text": [
      "[26] B4DNN7 → 1 domain: PF13347\n"
     ]
    },
    {
     "name": "stderr",
     "output_type": "stream",
     "text": [
      "Memproses:   5%|███▏                                                                  | 26/561 [00:55<19:33,  2.19s/it]"
     ]
    },
    {
     "name": "stdout",
     "output_type": "stream",
     "text": [
      "[27] P51688 → 2 domain: PF00884, PF16347\n"
     ]
    },
    {
     "name": "stderr",
     "output_type": "stream",
     "text": [
      "Memproses:   5%|███▎                                                                  | 27/561 [00:58<19:11,  2.16s/it]"
     ]
    },
    {
     "name": "stdout",
     "output_type": "stream",
     "text": [
      "[28] P06213 → 5 domain: PF00041, PF00757, PF01030, PF07714, PF17870\n"
     ]
    },
    {
     "name": "stderr",
     "output_type": "stream",
     "text": [
      "Memproses:   5%|███▍                                                                  | 28/561 [01:00<18:55,  2.13s/it]"
     ]
    },
    {
     "name": "stdout",
     "output_type": "stream",
     "text": [
      "[29] P55851 → 1 domain: PF00153\n"
     ]
    },
    {
     "name": "stderr",
     "output_type": "stream",
     "text": [
      "Memproses:   5%|███▌                                                                  | 29/561 [01:02<18:46,  2.12s/it]"
     ]
    },
    {
     "name": "stdout",
     "output_type": "stream",
     "text": [
      "[30] P34820 → 2 domain: PF00019, PF00688\n"
     ]
    },
    {
     "name": "stderr",
     "output_type": "stream",
     "text": [
      "Memproses:   5%|███▋                                                                  | 30/561 [01:05<21:06,  2.39s/it]"
     ]
    },
    {
     "name": "stdout",
     "output_type": "stream",
     "text": [
      "[31] P55916 → 1 domain: PF00153\n"
     ]
    },
    {
     "name": "stderr",
     "output_type": "stream",
     "text": [
      "Memproses:   6%|███▊                                                                  | 31/561 [01:07<20:14,  2.29s/it]"
     ]
    },
    {
     "name": "stdout",
     "output_type": "stream",
     "text": [
      "[32] A0A0S2Z4G5 → 1 domain: PF00153\n"
     ]
    },
    {
     "name": "stderr",
     "output_type": "stream",
     "text": [
      "Memproses:   6%|███▉                                                                  | 32/561 [01:11<25:08,  2.85s/it]"
     ]
    },
    {
     "name": "stdout",
     "output_type": "stream",
     "text": [
      "[33] Q9HD89 → 1 domain: PF06954\n"
     ]
    },
    {
     "name": "stderr",
     "output_type": "stream",
     "text": [
      "Memproses:   6%|████                                                                  | 33/561 [01:13<23:02,  2.62s/it]"
     ]
    },
    {
     "name": "stdout",
     "output_type": "stream",
     "text": [
      "[34] Q96AD5 → 1 domain: PF01734\n"
     ]
    },
    {
     "name": "stderr",
     "output_type": "stream",
     "text": [
      "Memproses:   6%|████▏                                                                 | 34/561 [01:15<21:32,  2.45s/it]"
     ]
    },
    {
     "name": "stdout",
     "output_type": "stream",
     "text": [
      "[35] P35558 → 2 domain: PF00821, PF17297\n"
     ]
    },
    {
     "name": "stderr",
     "output_type": "stream",
     "text": [
      "Memproses:   6%|████▎                                                                 | 35/561 [01:17<20:28,  2.34s/it]"
     ]
    },
    {
     "name": "stdout",
     "output_type": "stream",
     "text": [
      "[36] P01137 → 2 domain: PF00019, PF00688\n"
     ]
    },
    {
     "name": "stderr",
     "output_type": "stream",
     "text": [
      "Memproses:   6%|████▍                                                                 | 36/561 [01:19<20:01,  2.29s/it]"
     ]
    },
    {
     "name": "stdout",
     "output_type": "stream",
     "text": [
      "[37] A0A499FJK2 → 2 domain: PF00019, PF00688\n"
     ]
    },
    {
     "name": "stderr",
     "output_type": "stream",
     "text": [
      "Memproses:   7%|████▌                                                                 | 37/561 [01:21<19:28,  2.23s/it]"
     ]
    },
    {
     "name": "stdout",
     "output_type": "stream",
     "text": [
      "[38] P31040 → 2 domain: PF00890, PF02910\n"
     ]
    },
    {
     "name": "stderr",
     "output_type": "stream",
     "text": [
      "Memproses:   7%|████▋                                                                 | 38/561 [01:23<18:59,  2.18s/it]"
     ]
    },
    {
     "name": "stdout",
     "output_type": "stream",
     "text": [
      "[39] D6RFM5 → 1 domain: PF00890\n"
     ]
    },
    {
     "name": "stderr",
     "output_type": "stream",
     "text": [
      "Memproses:   7%|████▊                                                                 | 39/561 [01:26<18:46,  2.16s/it]"
     ]
    },
    {
     "name": "stdout",
     "output_type": "stream",
     "text": [
      "[40] P13726 → 2 domain: PF01108, PF09294\n"
     ]
    },
    {
     "name": "stderr",
     "output_type": "stream",
     "text": [
      "Memproses:   7%|████▉                                                                 | 40/561 [01:28<18:28,  2.13s/it]"
     ]
    },
    {
     "name": "stdout",
     "output_type": "stream",
     "text": [
      "[41] Q9NST1 → 1 domain: PF01734\n"
     ]
    },
    {
     "name": "stderr",
     "output_type": "stream",
     "text": [
      "Memproses:   7%|█████                                                                 | 41/561 [01:30<18:17,  2.11s/it]"
     ]
    },
    {
     "name": "stdout",
     "output_type": "stream",
     "text": [
      "[42] Q9UM22 → 1 domain: PF00811\n"
     ]
    },
    {
     "name": "stderr",
     "output_type": "stream",
     "text": [
      "Memproses:   7%|█████▏                                                                | 42/561 [01:32<18:10,  2.10s/it]"
     ]
    },
    {
     "name": "stdout",
     "output_type": "stream",
     "text": [
      "[43] Q96J80 → 1 domain: PF00811\n"
     ]
    },
    {
     "name": "stderr",
     "output_type": "stream",
     "text": [
      "Memproses:   8%|█████▎                                                                | 43/561 [01:34<18:03,  2.09s/it]"
     ]
    },
    {
     "name": "stdout",
     "output_type": "stream",
     "text": [
      "[44] P09172 → 3 domain: PF01082, PF03351, PF03712\n"
     ]
    },
    {
     "name": "stderr",
     "output_type": "stream",
     "text": [
      "Memproses:   8%|█████▍                                                                | 44/561 [01:36<18:12,  2.11s/it]"
     ]
    },
    {
     "name": "stdout",
     "output_type": "stream",
     "text": [
      "[45] Q13795 → 1 domain: PF00025\n"
     ]
    },
    {
     "name": "stderr",
     "output_type": "stream",
     "text": [
      "Memproses:   8%|█████▌                                                                | 45/561 [01:38<18:07,  2.11s/it]"
     ]
    },
    {
     "name": "stdout",
     "output_type": "stream",
     "text": [
      "[46] B7ZKY8 → 1 domain: PF00025\n"
     ]
    },
    {
     "name": "stderr",
     "output_type": "stream",
     "text": [
      "Memproses:   8%|█████▋                                                                | 46/561 [01:40<17:58,  2.09s/it]"
     ]
    },
    {
     "name": "stdout",
     "output_type": "stream",
     "text": [
      "[47] A0A384P5U7 → 1 domain: PF00025\n"
     ]
    },
    {
     "name": "stderr",
     "output_type": "stream",
     "text": [
      "Memproses:   8%|█████▊                                                                | 47/561 [01:42<17:58,  2.10s/it]"
     ]
    },
    {
     "name": "stdout",
     "output_type": "stream",
     "text": [
      "[48] Q9HB03 → 1 domain: PF01151\n"
     ]
    },
    {
     "name": "stderr",
     "output_type": "stream",
     "text": [
      "Memproses:   9%|█████▉                                                                | 48/561 [01:44<18:00,  2.11s/it]"
     ]
    },
    {
     "name": "stdout",
     "output_type": "stream",
     "text": [
      "[49] P08235 → 2 domain: PF00104, PF00105\n"
     ]
    },
    {
     "name": "stderr",
     "output_type": "stream",
     "text": [
      "Memproses:   9%|██████                                                                | 49/561 [01:46<17:52,  2.09s/it]"
     ]
    },
    {
     "name": "stdout",
     "output_type": "stream",
     "text": [
      "[50] B0ZBF6 → 2 domain: PF00104, PF00105\n"
     ]
    },
    {
     "name": "stderr",
     "output_type": "stream",
     "text": [
      "Memproses:   9%|██████▏                                                               | 50/561 [01:49<17:46,  2.09s/it]"
     ]
    },
    {
     "name": "stdout",
     "output_type": "stream",
     "text": [
      "[51] Q15788 → 7 domain: PF00989, PF07469, PF08815, PF08832, PF14598, PF16665, PF23172\n"
     ]
    },
    {
     "name": "stderr",
     "output_type": "stream",
     "text": [
      "Memproses:   9%|██████▎                                                               | 51/561 [01:51<17:42,  2.08s/it]"
     ]
    },
    {
     "name": "stdout",
     "output_type": "stream",
     "text": [
      "[52] Q15596 → 8 domain: PF00989, PF07469, PF08815, PF08832, PF14598, PF16279, PF16665, PF23172\n"
     ]
    },
    {
     "name": "stderr",
     "output_type": "stream",
     "text": [
      "Memproses:   9%|██████▍                                                               | 52/561 [01:53<17:38,  2.08s/it]"
     ]
    },
    {
     "name": "stdout",
     "output_type": "stream",
     "text": [
      "[53] B4DPW8 → 2 domain: PF07469, PF08815\n"
     ]
    },
    {
     "name": "stderr",
     "output_type": "stream",
     "text": [
      "Memproses:   9%|██████▌                                                               | 53/561 [01:55<17:34,  2.08s/it]"
     ]
    },
    {
     "name": "stdout",
     "output_type": "stream",
     "text": [
      "[54] O95140 → 2 domain: PF00350, PF04799\n"
     ]
    },
    {
     "name": "stderr",
     "output_type": "stream",
     "text": [
      "Memproses:  10%|██████▋                                                               | 54/561 [01:57<17:37,  2.09s/it]"
     ]
    },
    {
     "name": "stdout",
     "output_type": "stream",
     "text": [
      "[55] Q8N912 → 1 domain: PF15555\n"
     ]
    },
    {
     "name": "stderr",
     "output_type": "stream",
     "text": [
      "Memproses:  10%|██████▊                                                               | 55/561 [01:59<17:35,  2.09s/it]"
     ]
    },
    {
     "name": "stdout",
     "output_type": "stream",
     "text": [
      "[56] J3KNP8 → 1 domain: PF15555\n"
     ]
    },
    {
     "name": "stderr",
     "output_type": "stream",
     "text": [
      "Memproses:  10%|██████▉                                                               | 56/561 [02:01<17:31,  2.08s/it]"
     ]
    },
    {
     "name": "stdout",
     "output_type": "stream",
     "text": [
      "[57] B4DN93 → 1 domain: PF15555\n"
     ]
    },
    {
     "name": "stderr",
     "output_type": "stream",
     "text": [
      "Memproses:  10%|███████                                                               | 57/561 [02:03<17:27,  2.08s/it]"
     ]
    },
    {
     "name": "stdout",
     "output_type": "stream",
     "text": [
      "[58] Q8N6M3 → 1 domain: PF10261\n"
     ]
    },
    {
     "name": "stderr",
     "output_type": "stream",
     "text": [
      "Memproses:  10%|███████▏                                                              | 58/561 [02:06<19:46,  2.36s/it]"
     ]
    },
    {
     "name": "stdout",
     "output_type": "stream",
     "text": [
      "[59] Q9NTG7 → 1 domain: PF02146\n"
     ]
    },
    {
     "name": "stderr",
     "output_type": "stream",
     "text": [
      "Memproses:  11%|███████▎                                                              | 59/561 [02:08<18:58,  2.27s/it]"
     ]
    },
    {
     "name": "stdout",
     "output_type": "stream",
     "text": [
      "[60] P41159 → 1 domain: PF02024\n"
     ]
    },
    {
     "name": "stderr",
     "output_type": "stream",
     "text": [
      "Memproses:  11%|███████▍                                                              | 60/561 [02:10<18:35,  2.23s/it]"
     ]
    },
    {
     "name": "stdout",
     "output_type": "stream",
     "text": [
      "[61] A4D0Y8 → 1 domain: PF02024\n"
     ]
    },
    {
     "name": "stderr",
     "output_type": "stream",
     "text": [
      "Memproses:  11%|███████▌                                                              | 61/561 [02:12<18:10,  2.18s/it]"
     ]
    },
    {
     "name": "stdout",
     "output_type": "stream",
     "text": [
      "[62] P84996 → Tidak ditemukan domain Pfam.\n"
     ]
    },
    {
     "name": "stderr",
     "output_type": "stream",
     "text": [
      "Memproses:  11%|███████▋                                                              | 62/561 [02:15<18:01,  2.17s/it]"
     ]
    },
    {
     "name": "stdout",
     "output_type": "stream",
     "text": [
      "[63] Q5JWF2 → 1 domain: PF00503\n"
     ]
    },
    {
     "name": "stderr",
     "output_type": "stream",
     "text": [
      "Memproses:  11%|███████▊                                                              | 63/561 [02:17<17:59,  2.17s/it]"
     ]
    },
    {
     "name": "stdout",
     "output_type": "stream",
     "text": [
      "[64] P63092 → 1 domain: PF00503\n"
     ]
    },
    {
     "name": "stderr",
     "output_type": "stream",
     "text": [
      "Memproses:  11%|███████▉                                                              | 64/561 [02:19<17:41,  2.14s/it]"
     ]
    },
    {
     "name": "stdout",
     "output_type": "stream",
     "text": [
      "[65] O95467 → 1 domain: PF06390\n"
     ]
    },
    {
     "name": "stderr",
     "output_type": "stream",
     "text": [
      "Memproses:  12%|████████                                                              | 65/561 [02:21<17:41,  2.14s/it]"
     ]
    },
    {
     "name": "stdout",
     "output_type": "stream",
     "text": [
      "[66] A0A590UJF0 → 1 domain: PF00503\n"
     ]
    },
    {
     "name": "stderr",
     "output_type": "stream",
     "text": [
      "Memproses:  12%|████████▏                                                             | 66/561 [02:23<17:28,  2.12s/it]"
     ]
    },
    {
     "name": "stdout",
     "output_type": "stream",
     "text": [
      "[67] B0AZR9 → 1 domain: PF00503\n"
     ]
    },
    {
     "name": "stderr",
     "output_type": "stream",
     "text": [
      "Memproses:  12%|████████▎                                                             | 67/561 [02:25<17:19,  2.10s/it]"
     ]
    },
    {
     "name": "stdout",
     "output_type": "stream",
     "text": [
      "[68] A0A0S2Z3S5 → 1 domain: PF00503\n"
     ]
    },
    {
     "name": "stderr",
     "output_type": "stream",
     "text": [
      "Memproses:  12%|████████▍                                                             | 68/561 [02:27<17:15,  2.10s/it]"
     ]
    },
    {
     "name": "stdout",
     "output_type": "stream",
     "text": [
      "[69] Q5JWD1 → 1 domain: PF00503\n"
     ]
    },
    {
     "name": "stderr",
     "output_type": "stream",
     "text": [
      "Memproses:  12%|████████▌                                                             | 69/561 [02:29<17:14,  2.10s/it]"
     ]
    },
    {
     "name": "stdout",
     "output_type": "stream",
     "text": [
      "[70] Q14455 → 1 domain: PF00503\n"
     ]
    },
    {
     "name": "stderr",
     "output_type": "stream",
     "text": [
      "Memproses:  12%|████████▋                                                             | 70/561 [02:31<17:11,  2.10s/it]"
     ]
    },
    {
     "name": "stdout",
     "output_type": "stream",
     "text": [
      "[71] A0A7I2V5R6 → 1 domain: PF00503\n"
     ]
    },
    {
     "name": "stderr",
     "output_type": "stream",
     "text": [
      "Memproses:  13%|████████▊                                                             | 71/561 [02:33<17:07,  2.10s/it]"
     ]
    },
    {
     "name": "stdout",
     "output_type": "stream",
     "text": [
      "[72] Q5FWY2 → 1 domain: PF00503\n"
     ]
    },
    {
     "name": "stderr",
     "output_type": "stream",
     "text": [
      "Memproses:  13%|████████▉                                                             | 72/561 [02:36<17:10,  2.11s/it]"
     ]
    },
    {
     "name": "stdout",
     "output_type": "stream",
     "text": [
      "[73] A0A0S2Z3H8 → 1 domain: PF00503\n"
     ]
    },
    {
     "name": "stderr",
     "output_type": "stream",
     "text": [
      "Memproses:  13%|█████████                                                             | 73/561 [02:38<17:00,  2.09s/it]"
     ]
    },
    {
     "name": "stdout",
     "output_type": "stream",
     "text": [
      "[74] P37231 → 3 domain: PF00104, PF00105, PF12577\n"
     ]
    },
    {
     "name": "stderr",
     "output_type": "stream",
     "text": [
      "Memproses:  13%|█████████▏                                                            | 74/561 [02:40<17:01,  2.10s/it]"
     ]
    },
    {
     "name": "stdout",
     "output_type": "stream",
     "text": [
      "[75] E9PFV2 → 3 domain: PF00104, PF00105, PF12577\n"
     ]
    },
    {
     "name": "stderr",
     "output_type": "stream",
     "text": [
      "Memproses:  13%|█████████▎                                                            | 75/561 [02:42<16:52,  2.08s/it]"
     ]
    },
    {
     "name": "stdout",
     "output_type": "stream",
     "text": [
      "[76] E9PFX5 → 2 domain: PF00105, PF12577\n"
     ]
    },
    {
     "name": "stderr",
     "output_type": "stream",
     "text": [
      "Memproses:  14%|█████████▍                                                            | 76/561 [02:44<16:48,  2.08s/it]"
     ]
    },
    {
     "name": "stdout",
     "output_type": "stream",
     "text": [
      "[77] A0A494C1F9 → 2 domain: PF00105, PF12577\n"
     ]
    },
    {
     "name": "stderr",
     "output_type": "stream",
     "text": [
      "Memproses:  14%|█████████▌                                                            | 77/561 [02:46<16:43,  2.07s/it]"
     ]
    },
    {
     "name": "stdout",
     "output_type": "stream",
     "text": [
      "[78] D2KUA6 → 3 domain: PF00104, PF00105, PF12577\n"
     ]
    },
    {
     "name": "stderr",
     "output_type": "stream",
     "text": [
      "Memproses:  14%|█████████▋                                                            | 78/561 [02:48<16:42,  2.08s/it]"
     ]
    },
    {
     "name": "stdout",
     "output_type": "stream",
     "text": [
      "[79] Q8IY47 → 3 domain: PF00651, PF01344, PF07707\n"
     ]
    },
    {
     "name": "stderr",
     "output_type": "stream",
     "text": [
      "Memproses:  14%|█████████▊                                                            | 79/561 [02:50<16:38,  2.07s/it]"
     ]
    },
    {
     "name": "stdout",
     "output_type": "stream",
     "text": [
      "[80] A0A024RA38 → 3 domain: PF00651, PF01344, PF07707\n"
     ]
    },
    {
     "name": "stderr",
     "output_type": "stream",
     "text": [
      "Memproses:  14%|█████████▉                                                            | 80/561 [02:52<17:16,  2.15s/it]"
     ]
    },
    {
     "name": "stdout",
     "output_type": "stream",
     "text": [
      "[81] Q15672 → 1 domain: PF00010\n"
     ]
    },
    {
     "name": "stderr",
     "output_type": "stream",
     "text": [
      "Memproses:  14%|██████████                                                            | 81/561 [02:54<17:00,  2.13s/it]"
     ]
    },
    {
     "name": "stdout",
     "output_type": "stream",
     "text": [
      "[82] Q76M96 → 1 domain: PF13778\n"
     ]
    },
    {
     "name": "stderr",
     "output_type": "stream",
     "text": [
      "Memproses:  15%|██████████▏                                                           | 82/561 [02:57<16:53,  2.12s/it]"
     ]
    },
    {
     "name": "stdout",
     "output_type": "stream",
     "text": [
      "[83] Q9HAZ2 → 3 domain: PF00096, PF13912, PF21549\n"
     ]
    },
    {
     "name": "stderr",
     "output_type": "stream",
     "text": [
      "Memproses:  15%|██████████▎                                                           | 83/561 [02:59<16:47,  2.11s/it]"
     ]
    },
    {
     "name": "stdout",
     "output_type": "stream",
     "text": [
      "[84] P10275 → 3 domain: PF00104, PF00105, PF02166\n"
     ]
    },
    {
     "name": "stderr",
     "output_type": "stream",
     "text": [
      "Memproses:  15%|██████████▍                                                           | 84/561 [03:01<16:38,  2.09s/it]"
     ]
    },
    {
     "name": "stdout",
     "output_type": "stream",
     "text": [
      "[85] F1D8N5 → 2 domain: PF00104, PF00105\n"
     ]
    },
    {
     "name": "stderr",
     "output_type": "stream",
     "text": [
      "Memproses:  15%|██████████▌                                                           | 85/561 [03:03<16:31,  2.08s/it]"
     ]
    },
    {
     "name": "stdout",
     "output_type": "stream",
     "text": [
      "[86] A0A087WUX9 → 1 domain: PF02166\n"
     ]
    },
    {
     "name": "stderr",
     "output_type": "stream",
     "text": [
      "Memproses:  15%|██████████▋                                                           | 86/561 [03:05<16:30,  2.09s/it]"
     ]
    },
    {
     "name": "stdout",
     "output_type": "stream",
     "text": [
      "[87] G4VV16 → 1 domain: PF02166\n"
     ]
    },
    {
     "name": "stderr",
     "output_type": "stream",
     "text": [
      "Memproses:  16%|██████████▊                                                           | 87/561 [03:07<17:02,  2.16s/it]"
     ]
    },
    {
     "name": "stdout",
     "output_type": "stream",
     "text": [
      "[88] Q9NUA2 → 1 domain: PF02166\n"
     ]
    },
    {
     "name": "stderr",
     "output_type": "stream",
     "text": [
      "Memproses:  16%|██████████▉                                                           | 88/561 [03:09<16:47,  2.13s/it]"
     ]
    },
    {
     "name": "stdout",
     "output_type": "stream",
     "text": [
      "[89] P05112 → 1 domain: PF00727\n"
     ]
    },
    {
     "name": "stderr",
     "output_type": "stream",
     "text": [
      "Memproses:  16%|███████████                                                           | 89/561 [03:11<16:35,  2.11s/it]"
     ]
    },
    {
     "name": "stdout",
     "output_type": "stream",
     "text": [
      "[90] Q5FC01 → 1 domain: PF00727\n"
     ]
    },
    {
     "name": "stderr",
     "output_type": "stream",
     "text": [
      "Memproses:  16%|███████████▏                                                          | 90/561 [03:13<16:27,  2.10s/it]"
     ]
    },
    {
     "name": "stdout",
     "output_type": "stream",
     "text": [
      "[91] D4HNR6 → 1 domain: PF00727\n"
     ]
    },
    {
     "name": "stderr",
     "output_type": "stream",
     "text": [
      "Memproses:  16%|███████████▎                                                          | 91/561 [03:15<16:21,  2.09s/it]"
     ]
    },
    {
     "name": "stdout",
     "output_type": "stream",
     "text": [
      "[92] Q641Q3 → Tidak ditemukan domain Pfam.\n"
     ]
    },
    {
     "name": "stderr",
     "output_type": "stream",
     "text": [
      "Memproses:  16%|███████████▍                                                          | 92/561 [03:18<16:19,  2.09s/it]"
     ]
    },
    {
     "name": "stdout",
     "output_type": "stream",
     "text": [
      "[93] Q15546 → 1 domain: PF03006\n"
     ]
    },
    {
     "name": "stderr",
     "output_type": "stream",
     "text": [
      "Memproses:  17%|███████████▌                                                          | 93/561 [03:20<16:13,  2.08s/it]"
     ]
    },
    {
     "name": "stdout",
     "output_type": "stream",
     "text": [
      "[94] Q9H9B1 → 5 domain: PF00856, PF05033, PF12796, PF13637, PF21533\n"
     ]
    },
    {
     "name": "stderr",
     "output_type": "stream",
     "text": [
      "Memproses:  17%|███████████▋                                                          | 94/561 [03:22<16:14,  2.09s/it]"
     ]
    },
    {
     "name": "stdout",
     "output_type": "stream",
     "text": [
      "[95] A0A1B0GV09 → 5 domain: PF00856, PF05033, PF12796, PF13637, PF21533\n"
     ]
    },
    {
     "name": "stderr",
     "output_type": "stream",
     "text": [
      "Memproses:  17%|███████████▊                                                          | 95/561 [03:24<16:25,  2.11s/it]"
     ]
    },
    {
     "name": "stdout",
     "output_type": "stream",
     "text": [
      "[96] Q05469 → 2 domain: PF06350, PF07859\n"
     ]
    },
    {
     "name": "stderr",
     "output_type": "stream",
     "text": [
      "Memproses:  17%|███████████▉                                                          | 96/561 [03:26<16:29,  2.13s/it]"
     ]
    },
    {
     "name": "stdout",
     "output_type": "stream",
     "text": [
      "[97] A8K8W7 → 2 domain: PF06350, PF07859\n"
     ]
    },
    {
     "name": "stderr",
     "output_type": "stream",
     "text": [
      "Memproses:  17%|████████████                                                          | 97/561 [03:29<17:34,  2.27s/it]"
     ]
    },
    {
     "name": "stdout",
     "output_type": "stream",
     "text": [
      "[98] P36956 → 1 domain: PF00010\n"
     ]
    },
    {
     "name": "stderr",
     "output_type": "stream",
     "text": [
      "Memproses:  17%|████████████▏                                                         | 98/561 [03:32<19:22,  2.51s/it]"
     ]
    },
    {
     "name": "stdout",
     "output_type": "stream",
     "text": [
      "[99] B3KR77 → 1 domain: PF00010\n"
     ]
    },
    {
     "name": "stderr",
     "output_type": "stream",
     "text": [
      "Memproses:  18%|████████████▎                                                         | 99/561 [03:34<18:25,  2.39s/it]"
     ]
    },
    {
     "name": "stdout",
     "output_type": "stream",
     "text": [
      "[100] Q9BQT9 → 1 domain: PF19699\n"
     ]
    },
    {
     "name": "stderr",
     "output_type": "stream",
     "text": [
      "Memproses:  18%|████████████▎                                                        | 100/561 [03:36<17:49,  2.32s/it]"
     ]
    },
    {
     "name": "stdout",
     "output_type": "stream",
     "text": [
      "[101] Q15848 → 2 domain: PF00386, PF01391\n"
     ]
    },
    {
     "name": "stderr",
     "output_type": "stream",
     "text": [
      "Memproses:  18%|████████████▍                                                        | 101/561 [03:38<17:14,  2.25s/it]"
     ]
    },
    {
     "name": "stdout",
     "output_type": "stream",
     "text": [
      "[102] A8K660 → 2 domain: PF00386, PF01391\n"
     ]
    },
    {
     "name": "stderr",
     "output_type": "stream",
     "text": [
      "Memproses:  18%|████████████▌                                                        | 102/561 [03:40<16:51,  2.20s/it]"
     ]
    },
    {
     "name": "stdout",
     "output_type": "stream",
     "text": [
      "[103] B2R773 → 2 domain: PF00386, PF01391\n"
     ]
    },
    {
     "name": "stderr",
     "output_type": "stream",
     "text": [
      "Memproses:  18%|████████████▋                                                        | 103/561 [03:42<16:35,  2.17s/it]"
     ]
    },
    {
     "name": "stdout",
     "output_type": "stream",
     "text": [
      "[104] P49715 → 1 domain: PF07716\n"
     ]
    },
    {
     "name": "stderr",
     "output_type": "stream",
     "text": [
      "Memproses:  19%|████████████▊                                                        | 104/561 [03:44<16:20,  2.15s/it]"
     ]
    },
    {
     "name": "stdout",
     "output_type": "stream",
     "text": [
      "[105] Q9UMX1 → 2 domain: PF05076, PF12470\n"
     ]
    },
    {
     "name": "stderr",
     "output_type": "stream",
     "text": [
      "Memproses:  19%|████████████▉                                                        | 105/561 [03:46<16:13,  2.14s/it]"
     ]
    },
    {
     "name": "stdout",
     "output_type": "stream",
     "text": [
      "[106] A0A223LX15 → 2 domain: PF05076, PF12470\n"
     ]
    },
    {
     "name": "stderr",
     "output_type": "stream",
     "text": [
      "Memproses:  19%|█████████████                                                        | 106/561 [03:49<16:02,  2.12s/it]"
     ]
    },
    {
     "name": "stdout",
     "output_type": "stream",
     "text": [
      "[107] Q9BXJ8 → 1 domain: PF07851\n"
     ]
    },
    {
     "name": "stderr",
     "output_type": "stream",
     "text": [
      "Memproses:  19%|█████████████▏                                                       | 107/561 [03:51<15:54,  2.10s/it]"
     ]
    },
    {
     "name": "stdout",
     "output_type": "stream",
     "text": [
      "[108] A0A087X266 → 1 domain: PF07851\n"
     ]
    },
    {
     "name": "stderr",
     "output_type": "stream",
     "text": [
      "Memproses:  19%|█████████████▎                                                       | 108/561 [03:53<15:47,  2.09s/it]"
     ]
    },
    {
     "name": "stdout",
     "output_type": "stream",
     "text": [
      "[109] Q99958 → 1 domain: PF00250\n"
     ]
    },
    {
     "name": "stderr",
     "output_type": "stream",
     "text": [
      "Memproses:  19%|█████████████▍                                                       | 109/561 [03:55<15:46,  2.09s/it]"
     ]
    },
    {
     "name": "stdout",
     "output_type": "stream",
     "text": [
      "[110] Q8N4Q0 → 2 domain: PF00107, PF08240\n"
     ]
    },
    {
     "name": "stderr",
     "output_type": "stream",
     "text": [
      "Memproses:  20%|█████████████▌                                                       | 110/561 [03:57<15:43,  2.09s/it]"
     ]
    },
    {
     "name": "stdout",
     "output_type": "stream",
     "text": [
      "[111] Q4G1C4 → 2 domain: PF00107, PF08240\n"
     ]
    },
    {
     "name": "stderr",
     "output_type": "stream",
     "text": [
      "Memproses:  20%|█████████████▋                                                       | 111/561 [03:59<15:39,  2.09s/it]"
     ]
    },
    {
     "name": "stdout",
     "output_type": "stream",
     "text": [
      "[112] Q86YS7 → 3 domain: PF00168, PF23025, PF23028\n"
     ]
    },
    {
     "name": "stderr",
     "output_type": "stream",
     "text": [
      "Memproses:  20%|█████████████▊                                                       | 112/561 [04:01<15:40,  2.09s/it]"
     ]
    },
    {
     "name": "stdout",
     "output_type": "stream",
     "text": [
      "[113] B7ZLK1 → 3 domain: PF00168, PF23025, PF23028\n"
     ]
    },
    {
     "name": "stderr",
     "output_type": "stream",
     "text": [
      "Memproses:  20%|█████████████▉                                                       | 113/561 [04:03<15:41,  2.10s/it]"
     ]
    },
    {
     "name": "stdout",
     "output_type": "stream",
     "text": [
      "[114] P23560 → 1 domain: PF00243\n"
     ]
    },
    {
     "name": "stderr",
     "output_type": "stream",
     "text": [
      "Memproses:  20%|██████████████                                                       | 114/561 [04:05<15:49,  2.12s/it]"
     ]
    },
    {
     "name": "stdout",
     "output_type": "stream",
     "text": [
      "[115] A0A0E3SU01 → 1 domain: PF00243\n"
     ]
    },
    {
     "name": "stderr",
     "output_type": "stream",
     "text": [
      "Memproses:  20%|██████████████▏                                                      | 115/561 [04:08<17:51,  2.40s/it]"
     ]
    },
    {
     "name": "stdout",
     "output_type": "stream",
     "text": [
      "[116] Q9H0K1 → 2 domain: PF00069, PF23312\n"
     ]
    },
    {
     "name": "stderr",
     "output_type": "stream",
     "text": [
      "Memproses:  21%|██████████████▎                                                      | 116/561 [04:11<17:16,  2.33s/it]"
     ]
    },
    {
     "name": "stdout",
     "output_type": "stream",
     "text": [
      "[117] Q8TAT2 → 1 domain: PF06473\n"
     ]
    },
    {
     "name": "stderr",
     "output_type": "stream",
     "text": [
      "Memproses:  21%|██████████████▍                                                      | 117/561 [04:13<16:38,  2.25s/it]"
     ]
    },
    {
     "name": "stdout",
     "output_type": "stream",
     "text": [
      "[118] Q6UXH0 → Tidak ditemukan domain Pfam.\n"
     ]
    },
    {
     "name": "stderr",
     "output_type": "stream",
     "text": [
      "Memproses:  21%|██████████████▌                                                      | 118/561 [04:15<16:15,  2.20s/it]"
     ]
    },
    {
     "name": "stdout",
     "output_type": "stream",
     "text": [
      "[119] Q96S06 → 2 domain: PF06762, PF25179\n"
     ]
    },
    {
     "name": "stderr",
     "output_type": "stream",
     "text": [
      "Memproses:  21%|██████████████▋                                                      | 119/561 [04:17<16:00,  2.17s/it]"
     ]
    },
    {
     "name": "stdout",
     "output_type": "stream",
     "text": [
      "[120] O15240 → Tidak ditemukan domain Pfam.\n"
     ]
    },
    {
     "name": "stderr",
     "output_type": "stream",
     "text": [
      "Memproses:  21%|██████████████▊                                                      | 120/561 [04:19<16:40,  2.27s/it]"
     ]
    },
    {
     "name": "stdout",
     "output_type": "stream",
     "text": [
      "[121] Q6UXT9 → Tidak ditemukan domain Pfam.\n"
     ]
    },
    {
     "name": "stderr",
     "output_type": "stream",
     "text": [
      "Memproses:  22%|██████████████▉                                                      | 121/561 [04:21<16:17,  2.22s/it]"
     ]
    },
    {
     "name": "stdout",
     "output_type": "stream",
     "text": [
      "[122] Q9UBU3 → 2 domain: PF04643, PF04644\n"
     ]
    },
    {
     "name": "stderr",
     "output_type": "stream",
     "text": [
      "Memproses:  22%|███████████████                                                      | 122/561 [04:23<15:57,  2.18s/it]"
     ]
    },
    {
     "name": "stdout",
     "output_type": "stream",
     "text": [
      "[123] Q7Z4L0 → 1 domain: PF02285\n"
     ]
    },
    {
     "name": "stderr",
     "output_type": "stream",
     "text": [
      "Memproses:  22%|███████████████▏                                                     | 123/561 [04:26<15:45,  2.16s/it]"
     ]
    },
    {
     "name": "stdout",
     "output_type": "stream",
     "text": [
      "[124] Q53EU6 → 1 domain: PF01553\n"
     ]
    },
    {
     "name": "stderr",
     "output_type": "stream",
     "text": [
      "Memproses:  22%|███████████████▎                                                     | 124/561 [04:28<15:33,  2.14s/it]"
     ]
    },
    {
     "name": "stdout",
     "output_type": "stream",
     "text": [
      "[125] A0A024RDG5 → 1 domain: PF01553\n"
     ]
    },
    {
     "name": "stderr",
     "output_type": "stream",
     "text": [
      "Memproses:  22%|███████████████▎                                                     | 125/561 [04:30<16:13,  2.23s/it]"
     ]
    },
    {
     "name": "stdout",
     "output_type": "stream",
     "text": [
      "[126] Q9UEF7 → 1 domain: PF00232\n"
     ]
    },
    {
     "name": "stderr",
     "output_type": "stream",
     "text": [
      "Memproses:  22%|███████████████▍                                                     | 126/561 [04:32<15:56,  2.20s/it]"
     ]
    },
    {
     "name": "stdout",
     "output_type": "stream",
     "text": [
      "[127] Q8TD20 → 1 domain: PF00083\n"
     ]
    },
    {
     "name": "stderr",
     "output_type": "stream",
     "text": [
      "Memproses:  23%|███████████████▌                                                     | 127/561 [04:34<15:36,  2.16s/it]"
     ]
    },
    {
     "name": "stdout",
     "output_type": "stream",
     "text": [
      "[128] Q96G97 → 1 domain: PF06775\n"
     ]
    },
    {
     "name": "stderr",
     "output_type": "stream",
     "text": [
      "Memproses:  23%|███████████████▋                                                     | 128/561 [04:36<15:22,  2.13s/it]"
     ]
    },
    {
     "name": "stdout",
     "output_type": "stream",
     "text": [
      "[129] A0A024R549 → 1 domain: PF06775\n"
     ]
    },
    {
     "name": "stderr",
     "output_type": "stream",
     "text": [
      "Memproses:  23%|███████████████▊                                                     | 129/561 [04:38<15:15,  2.12s/it]"
     ]
    },
    {
     "name": "stdout",
     "output_type": "stream",
     "text": [
      "[130] Q9H3Z7 → 1 domain: PF00561\n"
     ]
    },
    {
     "name": "stderr",
     "output_type": "stream",
     "text": [
      "Memproses:  23%|███████████████▉                                                     | 130/561 [04:41<15:06,  2.10s/it]"
     ]
    },
    {
     "name": "stdout",
     "output_type": "stream",
     "text": [
      "[131] P13945 → 1 domain: PF00001\n"
     ]
    },
    {
     "name": "stderr",
     "output_type": "stream",
     "text": [
      "Memproses:  23%|████████████████                                                     | 131/561 [04:43<15:00,  2.09s/it]"
     ]
    },
    {
     "name": "stdout",
     "output_type": "stream",
     "text": [
      "[132] A8KAG8 → 1 domain: PF00001\n"
     ]
    },
    {
     "name": "stderr",
     "output_type": "stream",
     "text": [
      "Memproses:  24%|████████████████▏                                                    | 132/561 [04:45<15:19,  2.14s/it]"
     ]
    },
    {
     "name": "stdout",
     "output_type": "stream",
     "text": [
      "[133] Q96AQ7 → 1 domain: PF02017\n"
     ]
    },
    {
     "name": "stderr",
     "output_type": "stream",
     "text": [
      "Memproses:  24%|████████████████▎                                                    | 133/561 [04:47<15:08,  2.12s/it]"
     ]
    },
    {
     "name": "stdout",
     "output_type": "stream",
     "text": [
      "[134] A0A0A0MRY9 → 1 domain: PF02017\n"
     ]
    },
    {
     "name": "stderr",
     "output_type": "stream",
     "text": [
      "Memproses:  24%|████████████████▍                                                    | 134/561 [04:49<15:02,  2.11s/it]"
     ]
    },
    {
     "name": "stdout",
     "output_type": "stream",
     "text": [
      "[135] P23945 → 4 domain: PF00001, PF01462, PF12369, PF13306\n"
     ]
    },
    {
     "name": "stderr",
     "output_type": "stream",
     "text": [
      "Memproses:  24%|████████████████▌                                                    | 135/561 [04:51<14:57,  2.11s/it]"
     ]
    },
    {
     "name": "stdout",
     "output_type": "stream",
     "text": [
      "[136] P49765 → 1 domain: PF00341\n"
     ]
    },
    {
     "name": "stderr",
     "output_type": "stream",
     "text": [
      "Memproses:  24%|████████████████▋                                                    | 136/561 [04:53<14:54,  2.10s/it]"
     ]
    },
    {
     "name": "stdout",
     "output_type": "stream",
     "text": [
      "[137] Q7LAP4 → 1 domain: PF00341\n"
     ]
    },
    {
     "name": "stderr",
     "output_type": "stream",
     "text": [
      "Memproses:  24%|████████████████▊                                                    | 137/561 [04:55<14:52,  2.10s/it]"
     ]
    },
    {
     "name": "stdout",
     "output_type": "stream",
     "text": [
      "[138] P01225 → 1 domain: PF00007\n"
     ]
    },
    {
     "name": "stderr",
     "output_type": "stream",
     "text": [
      "Memproses:  25%|████████████████▉                                                    | 138/561 [04:57<14:45,  2.09s/it]"
     ]
    },
    {
     "name": "stdout",
     "output_type": "stream",
     "text": [
      "[139] A0A0F7RQE8 → 1 domain: PF00007\n"
     ]
    },
    {
     "name": "stderr",
     "output_type": "stream",
     "text": [
      "Memproses:  25%|█████████████████                                                    | 139/561 [04:59<14:40,  2.09s/it]"
     ]
    },
    {
     "name": "stdout",
     "output_type": "stream",
     "text": [
      "[140] Q8IV16 → 1 domain: PF00087\n"
     ]
    },
    {
     "name": "stderr",
     "output_type": "stream",
     "text": [
      "Memproses:  25%|█████████████████▏                                                   | 140/561 [05:02<14:41,  2.09s/it]"
     ]
    },
    {
     "name": "stdout",
     "output_type": "stream",
     "text": [
      "[141] Q86X10 → 1 domain: PF20412\n"
     ]
    },
    {
     "name": "stderr",
     "output_type": "stream",
     "text": [
      "Memproses:  25%|█████████████████▎                                                   | 141/561 [05:04<14:36,  2.09s/it]"
     ]
    },
    {
     "name": "stdout",
     "output_type": "stream",
     "text": [
      "[142] Q6MZJ2 → Tidak ditemukan domain Pfam.\n"
     ]
    },
    {
     "name": "stderr",
     "output_type": "stream",
     "text": [
      "Memproses:  25%|█████████████████▍                                                   | 142/561 [05:06<14:32,  2.08s/it]"
     ]
    },
    {
     "name": "stdout",
     "output_type": "stream",
     "text": [
      "[143] P01033 → 1 domain: PF00965\n"
     ]
    },
    {
     "name": "stderr",
     "output_type": "stream",
     "text": [
      "Memproses:  25%|█████████████████▌                                                   | 143/561 [05:08<14:29,  2.08s/it]"
     ]
    },
    {
     "name": "stdout",
     "output_type": "stream",
     "text": [
      "[144] Q6FGX5 → 1 domain: PF00965\n"
     ]
    },
    {
     "name": "stderr",
     "output_type": "stream",
     "text": [
      "Memproses:  26%|█████████████████▋                                                   | 144/561 [05:12<18:24,  2.65s/it]"
     ]
    },
    {
     "name": "stdout",
     "output_type": "stream",
     "text": [
      "[145] Q05516 → 3 domain: PF00096, PF00651, PF13912\n"
     ]
    },
    {
     "name": "stderr",
     "output_type": "stream",
     "text": [
      "Memproses:  26%|█████████████████▊                                                   | 145/561 [05:14<17:06,  2.47s/it]"
     ]
    },
    {
     "name": "stdout",
     "output_type": "stream",
     "text": [
      "[146] A0A024R3C6 → 3 domain: PF00096, PF00651, PF13912\n"
     ]
    },
    {
     "name": "stderr",
     "output_type": "stream",
     "text": [
      "Memproses:  26%|█████████████████▉                                                   | 146/561 [05:16<16:17,  2.36s/it]"
     ]
    },
    {
     "name": "stdout",
     "output_type": "stream",
     "text": [
      "[147] Q6GTS8 → 2 domain: PF01546, PF07687\n"
     ]
    },
    {
     "name": "stderr",
     "output_type": "stream",
     "text": [
      "Memproses:  26%|██████████████████                                                   | 147/561 [05:18<15:41,  2.28s/it]"
     ]
    },
    {
     "name": "stdout",
     "output_type": "stream",
     "text": [
      "[148] Q5SV97 → Tidak ditemukan domain Pfam.\n"
     ]
    },
    {
     "name": "stderr",
     "output_type": "stream",
     "text": [
      "Memproses:  26%|██████████████████▏                                                  | 148/561 [05:20<15:14,  2.21s/it]"
     ]
    },
    {
     "name": "stdout",
     "output_type": "stream",
     "text": [
      "[149] Q15306 → 2 domain: PF00605, PF10401\n"
     ]
    },
    {
     "name": "stderr",
     "output_type": "stream",
     "text": [
      "Memproses:  27%|██████████████████▎                                                  | 149/561 [05:22<14:59,  2.18s/it]"
     ]
    },
    {
     "name": "stdout",
     "output_type": "stream",
     "text": [
      "[150] Q6ZSB9 → 3 domain: PF00096, PF00651, PF13912\n"
     ]
    },
    {
     "name": "stderr",
     "output_type": "stream",
     "text": [
      "Memproses:  27%|██████████████████▍                                                  | 150/561 [05:25<15:27,  2.26s/it]"
     ]
    },
    {
     "name": "stdout",
     "output_type": "stream",
     "text": [
      "[151] Q96EC8 → 1 domain: PF04893\n"
     ]
    },
    {
     "name": "stderr",
     "output_type": "stream",
     "text": [
      "Memproses:  27%|██████████████████▌                                                  | 151/561 [05:27<15:05,  2.21s/it]"
     ]
    },
    {
     "name": "stdout",
     "output_type": "stream",
     "text": [
      "[152] P06400 → 4 domain: PF01857, PF01858, PF08934, PF11934\n"
     ]
    },
    {
     "name": "stderr",
     "output_type": "stream",
     "text": [
      "Memproses:  27%|██████████████████▋                                                  | 152/561 [05:29<14:45,  2.17s/it]"
     ]
    },
    {
     "name": "stdout",
     "output_type": "stream",
     "text": [
      "[153] O14520 → 1 domain: PF00230\n"
     ]
    },
    {
     "name": "stderr",
     "output_type": "stream",
     "text": [
      "Memproses:  27%|██████████████████▊                                                  | 153/561 [05:31<14:31,  2.14s/it]"
     ]
    },
    {
     "name": "stdout",
     "output_type": "stream",
     "text": [
      "[154] Q5T5M0 → 1 domain: PF00230\n"
     ]
    },
    {
     "name": "stderr",
     "output_type": "stream",
     "text": [
      "Memproses:  27%|██████████████████▉                                                  | 154/561 [05:33<14:21,  2.12s/it]"
     ]
    },
    {
     "name": "stdout",
     "output_type": "stream",
     "text": [
      "[155] B7Z4U2 → 1 domain: PF00230\n"
     ]
    },
    {
     "name": "stderr",
     "output_type": "stream",
     "text": [
      "Memproses:  28%|███████████████████                                                  | 155/561 [05:35<14:14,  2.11s/it]"
     ]
    },
    {
     "name": "stdout",
     "output_type": "stream",
     "text": [
      "[156] Q6P5T0 → 1 domain: PF00230\n"
     ]
    },
    {
     "name": "stderr",
     "output_type": "stream",
     "text": [
      "Memproses:  28%|███████████████████▏                                                 | 156/561 [05:37<14:09,  2.10s/it]"
     ]
    },
    {
     "name": "stdout",
     "output_type": "stream",
     "text": [
      "[157] Q96B42 → 1 domain: PF14770\n"
     ]
    },
    {
     "name": "stderr",
     "output_type": "stream",
     "text": [
      "Memproses:  28%|███████████████████▎                                                 | 157/561 [05:39<14:07,  2.10s/it]"
     ]
    },
    {
     "name": "stdout",
     "output_type": "stream",
     "text": [
      "[158] Q8IW75 → 1 domain: PF00079\n"
     ]
    },
    {
     "name": "stderr",
     "output_type": "stream",
     "text": [
      "Memproses:  28%|███████████████████▍                                                 | 158/561 [05:41<14:04,  2.10s/it]"
     ]
    },
    {
     "name": "stdout",
     "output_type": "stream",
     "text": [
      "[159] Q53EP0 → 1 domain: PF00041\n"
     ]
    },
    {
     "name": "stderr",
     "output_type": "stream",
     "text": [
      "Memproses:  28%|███████████████████▌                                                 | 159/561 [05:43<14:02,  2.10s/it]"
     ]
    },
    {
     "name": "stdout",
     "output_type": "stream",
     "text": [
      "[160] Q15270 → 1 domain: PF00046\n"
     ]
    },
    {
     "name": "stderr",
     "output_type": "stream",
     "text": [
      "Memproses:  29%|███████████████████▋                                                 | 160/561 [05:45<13:59,  2.09s/it]"
     ]
    },
    {
     "name": "stdout",
     "output_type": "stream",
     "text": [
      "[161] Q8IXB3 → 1 domain: PF04505\n"
     ]
    },
    {
     "name": "stderr",
     "output_type": "stream",
     "text": [
      "Memproses:  29%|███████████████████▊                                                 | 161/561 [05:48<13:57,  2.09s/it]"
     ]
    },
    {
     "name": "stdout",
     "output_type": "stream",
     "text": [
      "[162] Q9BVG9 → 1 domain: PF03034\n"
     ]
    },
    {
     "name": "stderr",
     "output_type": "stream",
     "text": [
      "Memproses:  29%|███████████████████▉                                                 | 162/561 [05:50<13:52,  2.09s/it]"
     ]
    },
    {
     "name": "stdout",
     "output_type": "stream",
     "text": [
      "[163] P31323 → 2 domain: PF00027, PF02197\n"
     ]
    },
    {
     "name": "stderr",
     "output_type": "stream",
     "text": [
      "Memproses:  29%|████████████████████                                                 | 163/561 [05:52<13:51,  2.09s/it]"
     ]
    },
    {
     "name": "stdout",
     "output_type": "stream",
     "text": [
      "[164] B3KY43 → 2 domain: PF00027, PF02197\n"
     ]
    },
    {
     "name": "stderr",
     "output_type": "stream",
     "text": [
      "Memproses:  29%|████████████████████▏                                                | 164/561 [05:54<13:47,  2.09s/it]"
     ]
    },
    {
     "name": "stdout",
     "output_type": "stream",
     "text": [
      "[165] P28330 → 3 domain: PF00441, PF02770, PF02771\n"
     ]
    },
    {
     "name": "stderr",
     "output_type": "stream",
     "text": [
      "Memproses:  29%|████████████████████▎                                                | 165/561 [05:56<13:47,  2.09s/it]"
     ]
    },
    {
     "name": "stdout",
     "output_type": "stream",
     "text": [
      "[166] P29474 → 4 domain: PF00175, PF00258, PF00667, PF02898\n"
     ]
    },
    {
     "name": "stderr",
     "output_type": "stream",
     "text": [
      "Memproses:  30%|████████████████████▍                                                | 166/561 [05:58<13:47,  2.10s/it]"
     ]
    },
    {
     "name": "stdout",
     "output_type": "stream",
     "text": [
      "[167] A0S0A6 → 2 domain: PF00258, PF02898\n"
     ]
    },
    {
     "name": "stderr",
     "output_type": "stream",
     "text": [
      "Memproses:  30%|████████████████████▌                                                | 167/561 [06:00<13:44,  2.09s/it]"
     ]
    },
    {
     "name": "stdout",
     "output_type": "stream",
     "text": [
      "[168] Q99541 → 1 domain: PF03036\n"
     ]
    },
    {
     "name": "stderr",
     "output_type": "stream",
     "text": [
      "Memproses:  30%|████████████████████▋                                                | 168/561 [06:03<15:31,  2.37s/it]"
     ]
    },
    {
     "name": "stdout",
     "output_type": "stream",
     "text": [
      "[169] Q6FHZ7 → 1 domain: PF03036\n"
     ]
    },
    {
     "name": "stderr",
     "output_type": "stream",
     "text": [
      "Memproses:  30%|████████████████████▊                                                | 169/561 [06:05<14:56,  2.29s/it]"
     ]
    },
    {
     "name": "stdout",
     "output_type": "stream",
     "text": [
      "[170] O43320 → 1 domain: PF00167\n"
     ]
    },
    {
     "name": "stderr",
     "output_type": "stream",
     "text": [
      "Memproses:  30%|████████████████████▉                                                | 170/561 [06:07<14:29,  2.22s/it]"
     ]
    },
    {
     "name": "stdout",
     "output_type": "stream",
     "text": [
      "[171] A0A7U3L5H2 → 1 domain: PF00167\n"
     ]
    },
    {
     "name": "stderr",
     "output_type": "stream",
     "text": [
      "Memproses:  30%|█████████████████████                                                | 171/561 [06:09<14:11,  2.18s/it]"
     ]
    },
    {
     "name": "stdout",
     "output_type": "stream",
     "text": [
      "[172] Q9NTX5 → 1 domain: PF00378\n"
     ]
    },
    {
     "name": "stderr",
     "output_type": "stream",
     "text": [
      "Memproses:  31%|█████████████████████▏                                               | 172/561 [06:12<15:44,  2.43s/it]"
     ]
    },
    {
     "name": "stdout",
     "output_type": "stream",
     "text": [
      "[173] Q8TDU6 → 1 domain: PF00001\n"
     ]
    },
    {
     "name": "stderr",
     "output_type": "stream",
     "text": [
      "Memproses:  31%|█████████████████████▎                                               | 173/561 [06:14<14:57,  2.31s/it]"
     ]
    },
    {
     "name": "stdout",
     "output_type": "stream",
     "text": [
      "[174] Q99835 → 2 domain: PF01392, PF01534\n"
     ]
    },
    {
     "name": "stderr",
     "output_type": "stream",
     "text": [
      "Memproses:  31%|█████████████████████▍                                               | 174/561 [06:17<14:36,  2.26s/it]"
     ]
    },
    {
     "name": "stdout",
     "output_type": "stream",
     "text": [
      "[175] Q8N5D0 → 1 domain: PF00400\n"
     ]
    },
    {
     "name": "stderr",
     "output_type": "stream",
     "text": [
      "Memproses:  31%|█████████████████████▌                                               | 175/561 [06:19<14:54,  2.32s/it]"
     ]
    },
    {
     "name": "stdout",
     "output_type": "stream",
     "text": [
      "[176] P13349 → 3 domain: PF00010, PF01586, PF12232\n"
     ]
    },
    {
     "name": "stderr",
     "output_type": "stream",
     "text": [
      "Memproses:  31%|█████████████████████▋                                               | 176/561 [06:21<14:26,  2.25s/it]"
     ]
    },
    {
     "name": "stdout",
     "output_type": "stream",
     "text": [
      "[177] Q9NPJ3 → 1 domain: PF03061\n"
     ]
    },
    {
     "name": "stderr",
     "output_type": "stream",
     "text": [
      "Memproses:  32%|█████████████████████▊                                               | 177/561 [06:23<14:06,  2.20s/it]"
     ]
    },
    {
     "name": "stdout",
     "output_type": "stream",
     "text": [
      "[178] Q86SG2 → 2 domain: PF00023, PF12796\n"
     ]
    },
    {
     "name": "stderr",
     "output_type": "stream",
     "text": [
      "Memproses:  32%|█████████████████████▉                                               | 178/561 [06:25<13:49,  2.17s/it]"
     ]
    },
    {
     "name": "stdout",
     "output_type": "stream",
     "text": [
      "[179] Q96H78 → 1 domain: PF00153\n"
     ]
    },
    {
     "name": "stderr",
     "output_type": "stream",
     "text": [
      "Memproses:  32%|██████████████████████                                               | 179/561 [06:27<13:38,  2.14s/it]"
     ]
    },
    {
     "name": "stdout",
     "output_type": "stream",
     "text": [
      "[180] E9PGQ0 → 1 domain: PF00153\n"
     ]
    },
    {
     "name": "stderr",
     "output_type": "stream",
     "text": [
      "Memproses:  32%|██████████████████████▏                                              | 180/561 [06:29<13:28,  2.12s/it]"
     ]
    },
    {
     "name": "stdout",
     "output_type": "stream",
     "text": [
      "[181] P11233 → 1 domain: PF00071\n"
     ]
    },
    {
     "name": "stderr",
     "output_type": "stream",
     "text": [
      "Memproses:  32%|██████████████████████▎                                              | 181/561 [06:32<13:22,  2.11s/it]"
     ]
    },
    {
     "name": "stdout",
     "output_type": "stream",
     "text": [
      "[182] Q687X5 → 2 domain: PF01794, PF03807\n"
     ]
    },
    {
     "name": "stderr",
     "output_type": "stream",
     "text": [
      "Memproses:  32%|██████████████████████▍                                              | 182/561 [06:34<13:26,  2.13s/it]"
     ]
    },
    {
     "name": "stdout",
     "output_type": "stream",
     "text": [
      "[183] O43572 → 1 domain: PF00615\n"
     ]
    },
    {
     "name": "stderr",
     "output_type": "stream",
     "text": [
      "Memproses:  33%|██████████████████████▌                                              | 183/561 [06:36<14:04,  2.24s/it]"
     ]
    },
    {
     "name": "stdout",
     "output_type": "stream",
     "text": [
      "[184] A0A0S2Z4Z7 → 1 domain: PF00615\n"
     ]
    },
    {
     "name": "stderr",
     "output_type": "stream",
     "text": [
      "Memproses:  33%|██████████████████████▋                                              | 184/561 [06:39<15:10,  2.41s/it]"
     ]
    },
    {
     "name": "stdout",
     "output_type": "stream",
     "text": [
      "[185] E7EMD6 → 1 domain: PF00615\n"
     ]
    },
    {
     "name": "stderr",
     "output_type": "stream",
     "text": [
      "Memproses:  33%|██████████████████████▊                                              | 185/561 [06:41<15:09,  2.42s/it]"
     ]
    },
    {
     "name": "stdout",
     "output_type": "stream",
     "text": [
      "[186] Q969Z0 → 3 domain: PF06743, PF08368, PF08373\n"
     ]
    },
    {
     "name": "stderr",
     "output_type": "stream",
     "text": [
      "Memproses:  33%|██████████████████████▉                                              | 186/561 [06:44<15:13,  2.44s/it]"
     ]
    },
    {
     "name": "stdout",
     "output_type": "stream",
     "text": [
      "[187] B3KRS4 → 3 domain: PF06743, PF08368, PF08373\n"
     ]
    },
    {
     "name": "stderr",
     "output_type": "stream",
     "text": [
      "Memproses:  33%|███████████████████████                                              | 187/561 [06:47<15:54,  2.55s/it]"
     ]
    },
    {
     "name": "stdout",
     "output_type": "stream",
     "text": [
      "[188] B3KM73 → 2 domain: PF06743, PF08368\n"
     ]
    },
    {
     "name": "stderr",
     "output_type": "stream",
     "text": [
      "Memproses:  34%|███████████████████████                                              | 188/561 [06:49<16:11,  2.61s/it]"
     ]
    },
    {
     "name": "stdout",
     "output_type": "stream",
     "text": [
      "[189] B4DU42 → 3 domain: PF06743, PF08368, PF08373\n"
     ]
    },
    {
     "name": "stderr",
     "output_type": "stream",
     "text": [
      "Memproses:  34%|███████████████████████▏                                             | 189/561 [06:52<16:48,  2.71s/it]"
     ]
    },
    {
     "name": "stdout",
     "output_type": "stream",
     "text": [
      "[190] Q53R41 → 3 domain: PF06743, PF08368, PF08373\n"
     ]
    },
    {
     "name": "stderr",
     "output_type": "stream",
     "text": [
      "Memproses:  34%|███████████████████████▎                                             | 190/561 [06:55<16:31,  2.67s/it]"
     ]
    },
    {
     "name": "stdout",
     "output_type": "stream",
     "text": [
      "[191] Q05D57 → Tidak ditemukan domain Pfam.\n"
     ]
    },
    {
     "name": "stderr",
     "output_type": "stream",
     "text": [
      "Memproses:  34%|███████████████████████▍                                             | 191/561 [06:57<15:37,  2.53s/it]"
     ]
    },
    {
     "name": "stdout",
     "output_type": "stream",
     "text": [
      "[192] Q9UKU7 → 3 domain: PF00441, PF02770, PF02771\n"
     ]
    },
    {
     "name": "stderr",
     "output_type": "stream",
     "text": [
      "Memproses:  34%|███████████████████████▌                                             | 192/561 [07:00<15:50,  2.57s/it]"
     ]
    },
    {
     "name": "stdout",
     "output_type": "stream",
     "text": [
      "[193] O60266 → 2 domain: PF00211, PF16214\n"
     ]
    },
    {
     "name": "stderr",
     "output_type": "stream",
     "text": [
      "Memproses:  34%|███████████████████████▋                                             | 193/561 [07:02<15:26,  2.52s/it]"
     ]
    },
    {
     "name": "stdout",
     "output_type": "stream",
     "text": [
      "[194] A0A0A0MSC1 → 2 domain: PF00211, PF16214\n"
     ]
    },
    {
     "name": "stderr",
     "output_type": "stream",
     "text": [
      "Memproses:  35%|███████████████████████▊                                             | 194/561 [07:05<15:30,  2.53s/it]"
     ]
    },
    {
     "name": "stdout",
     "output_type": "stream",
     "text": [
      "[195] B7ZLX9 → 2 domain: PF00211, PF16214\n"
     ]
    },
    {
     "name": "stderr",
     "output_type": "stream",
     "text": [
      "Memproses:  35%|███████████████████████▉                                             | 195/561 [07:07<15:23,  2.52s/it]"
     ]
    },
    {
     "name": "stdout",
     "output_type": "stream",
     "text": [
      "[196] Q8N6T7 → 1 domain: PF02146\n"
     ]
    },
    {
     "name": "stderr",
     "output_type": "stream",
     "text": [
      "Memproses:  35%|████████████████████████                                             | 196/561 [07:09<14:30,  2.38s/it]"
     ]
    },
    {
     "name": "stdout",
     "output_type": "stream",
     "text": [
      "[197] M0R1N9 → 1 domain: PF02146\n"
     ]
    },
    {
     "name": "stderr",
     "output_type": "stream",
     "text": [
      "Memproses:  35%|████████████████████████▏                                            | 197/561 [07:12<15:10,  2.50s/it]"
     ]
    },
    {
     "name": "stdout",
     "output_type": "stream",
     "text": [
      "[198] B4DDV3 → 1 domain: PF02146\n"
     ]
    },
    {
     "name": "stderr",
     "output_type": "stream",
     "text": [
      "Memproses:  35%|████████████████████████▎                                            | 198/561 [07:15<16:19,  2.70s/it]"
     ]
    },
    {
     "name": "stdout",
     "output_type": "stream",
     "text": [
      "[199] M0QXA0 → Tidak ditemukan domain Pfam.\n"
     ]
    },
    {
     "name": "stderr",
     "output_type": "stream",
     "text": [
      "Memproses:  35%|████████████████████████▍                                            | 199/561 [07:18<15:50,  2.63s/it]"
     ]
    },
    {
     "name": "stdout",
     "output_type": "stream",
     "text": [
      "[200] Q7KZI7 → 3 domain: PF00069, PF00627, PF02149\n"
     ]
    },
    {
     "name": "stderr",
     "output_type": "stream",
     "text": [
      "Memproses:  36%|████████████████████████▌                                            | 200/561 [07:20<14:49,  2.46s/it]"
     ]
    },
    {
     "name": "stdout",
     "output_type": "stream",
     "text": [
      "[201] A8K2S4 → 3 domain: PF00069, PF00627, PF02149\n"
     ]
    },
    {
     "name": "stderr",
     "output_type": "stream",
     "text": [
      "Memproses:  36%|████████████████████████▋                                            | 201/561 [07:23<15:07,  2.52s/it]"
     ]
    },
    {
     "name": "stdout",
     "output_type": "stream",
     "text": [
      "[202] A0A140VJP1 → 3 domain: PF00069, PF00627, PF02149\n"
     ]
    },
    {
     "name": "stderr",
     "output_type": "stream",
     "text": [
      "Memproses:  36%|████████████████████████▊                                            | 202/561 [07:26<16:23,  2.74s/it]"
     ]
    },
    {
     "name": "stdout",
     "output_type": "stream",
     "text": [
      "[203] O14686 → 6 domain: PF00628, PF00856, PF05964, PF05965, PF13771, PF13832\n"
     ]
    },
    {
     "name": "stderr",
     "output_type": "stream",
     "text": [
      "Memproses:  36%|████████████████████████▉                                            | 203/561 [07:28<15:08,  2.54s/it]"
     ]
    },
    {
     "name": "stdout",
     "output_type": "stream",
     "text": [
      "[204] Q6PIA1 → 3 domain: PF00856, PF05964, PF05965\n"
     ]
    },
    {
     "name": "stderr",
     "output_type": "stream",
     "text": [
      "Memproses:  36%|█████████████████████████                                            | 204/561 [07:31<15:30,  2.61s/it]"
     ]
    },
    {
     "name": "stdout",
     "output_type": "stream",
     "text": [
      "[205] Q59FG6 → 4 domain: PF00856, PF05964, PF05965, PF13832\n"
     ]
    },
    {
     "name": "stderr",
     "output_type": "stream",
     "text": [
      "Memproses:  37%|█████████████████████████▏                                           | 205/561 [07:33<15:42,  2.65s/it]"
     ]
    },
    {
     "name": "stdout",
     "output_type": "stream",
     "text": [
      "[206] Q7Z2T5 → 1 domain: PF02005\n"
     ]
    },
    {
     "name": "stderr",
     "output_type": "stream",
     "text": [
      "Memproses:  37%|█████████████████████████▎                                           | 206/561 [07:36<15:33,  2.63s/it]"
     ]
    },
    {
     "name": "stdout",
     "output_type": "stream",
     "text": [
      "[207] B4DXX1 → 1 domain: PF02005\n"
     ]
    },
    {
     "name": "stderr",
     "output_type": "stream",
     "text": [
      "Memproses:  37%|█████████████████████████▍                                           | 207/561 [07:38<14:58,  2.54s/it]"
     ]
    },
    {
     "name": "stdout",
     "output_type": "stream",
     "text": [
      "[208] P11117 → 1 domain: PF00328\n"
     ]
    },
    {
     "name": "stderr",
     "output_type": "stream",
     "text": [
      "Memproses:  37%|█████████████████████████▌                                           | 208/561 [07:41<14:44,  2.51s/it]"
     ]
    },
    {
     "name": "stdout",
     "output_type": "stream",
     "text": [
      "[209] B7Z7D2 → 1 domain: PF00328\n"
     ]
    },
    {
     "name": "stderr",
     "output_type": "stream",
     "text": [
      "Memproses:  37%|█████████████████████████▋                                           | 209/561 [07:43<14:29,  2.47s/it]"
     ]
    },
    {
     "name": "stdout",
     "output_type": "stream",
     "text": [
      "[210] E9PHY0 → 1 domain: PF00328\n"
     ]
    },
    {
     "name": "stderr",
     "output_type": "stream",
     "text": [
      "Memproses:  37%|█████████████████████████▊                                           | 210/561 [07:46<14:33,  2.49s/it]"
     ]
    },
    {
     "name": "stdout",
     "output_type": "stream",
     "text": [
      "[211] B7Z6T8 → 1 domain: PF00328\n"
     ]
    },
    {
     "name": "stderr",
     "output_type": "stream",
     "text": [
      "Memproses:  38%|█████████████████████████▉                                           | 211/561 [07:54<24:26,  4.19s/it]"
     ]
    },
    {
     "name": "stdout",
     "output_type": "stream",
     "text": [
      "[212] E9PQY3 → 1 domain: PF00328\n"
     ]
    },
    {
     "name": "stderr",
     "output_type": "stream",
     "text": [
      "Memproses:  38%|██████████████████████████                                           | 212/561 [07:56<21:07,  3.63s/it]"
     ]
    },
    {
     "name": "stdout",
     "output_type": "stream",
     "text": [
      "[213] B7Z8T9 → 1 domain: PF00328\n"
     ]
    },
    {
     "name": "stderr",
     "output_type": "stream",
     "text": [
      "Memproses:  38%|██████████████████████████▏                                          | 213/561 [07:58<18:55,  3.26s/it]"
     ]
    },
    {
     "name": "stdout",
     "output_type": "stream",
     "text": [
      "[214] B7Z6L8 → 1 domain: PF00328\n"
     ]
    },
    {
     "name": "stderr",
     "output_type": "stream",
     "text": [
      "Memproses:  38%|██████████████████████████▎                                          | 214/561 [08:01<17:26,  3.02s/it]"
     ]
    },
    {
     "name": "stdout",
     "output_type": "stream",
     "text": [
      "[215] B7Z552 → 1 domain: PF00328\n"
     ]
    },
    {
     "name": "stderr",
     "output_type": "stream",
     "text": [
      "Memproses:  38%|██████████████████████████▍                                          | 215/561 [08:03<16:22,  2.84s/it]"
     ]
    },
    {
     "name": "stdout",
     "output_type": "stream",
     "text": [
      "[216] B7Z4Z2 → 1 domain: PF00328\n"
     ]
    },
    {
     "name": "stderr",
     "output_type": "stream",
     "text": [
      "Memproses:  39%|██████████████████████████▌                                          | 216/561 [08:06<15:45,  2.74s/it]"
     ]
    },
    {
     "name": "stdout",
     "output_type": "stream",
     "text": [
      "[217] P35625 → 1 domain: PF00965\n"
     ]
    },
    {
     "name": "stderr",
     "output_type": "stream",
     "text": [
      "Memproses:  39%|██████████████████████████▋                                          | 217/561 [08:08<14:33,  2.54s/it]"
     ]
    },
    {
     "name": "stdout",
     "output_type": "stream",
     "text": [
      "[218] P04066 → 2 domain: PF01120, PF16757\n"
     ]
    },
    {
     "name": "stderr",
     "output_type": "stream",
     "text": [
      "Memproses:  39%|██████████████████████████▊                                          | 218/561 [08:10<13:46,  2.41s/it]"
     ]
    },
    {
     "name": "stdout",
     "output_type": "stream",
     "text": [
      "[219] Q08043 → 3 domain: PF00307, PF00435, PF08726\n"
     ]
    },
    {
     "name": "stderr",
     "output_type": "stream",
     "text": [
      "Memproses:  39%|██████████████████████████▉                                          | 219/561 [08:13<13:49,  2.43s/it]"
     ]
    },
    {
     "name": "stdout",
     "output_type": "stream",
     "text": [
      "[220] B4DZQ2 → 3 domain: PF00307, PF00435, PF08726\n"
     ]
    },
    {
     "name": "stderr",
     "output_type": "stream",
     "text": [
      "Memproses:  39%|███████████████████████████                                          | 220/561 [08:15<13:57,  2.46s/it]"
     ]
    },
    {
     "name": "stdout",
     "output_type": "stream",
     "text": [
      "[221] A0A087WSZ2 → 3 domain: PF00307, PF00435, PF08726\n"
     ]
    },
    {
     "name": "stderr",
     "output_type": "stream",
     "text": [
      "Memproses:  39%|███████████████████████████▏                                         | 221/561 [08:20<17:59,  3.18s/it]"
     ]
    },
    {
     "name": "stdout",
     "output_type": "stream",
     "text": [
      "[222] P31629 → 1 domain: PF00096\n"
     ]
    },
    {
     "name": "stderr",
     "output_type": "stream",
     "text": [
      "Memproses:  40%|███████████████████████████▎                                         | 222/561 [08:22<16:51,  2.98s/it]"
     ]
    },
    {
     "name": "stdout",
     "output_type": "stream",
     "text": [
      "[223] Q96PD6 → 1 domain: PF03982\n"
     ]
    },
    {
     "name": "stderr",
     "output_type": "stream",
     "text": [
      "Memproses:  40%|███████████████████████████▍                                         | 223/561 [08:25<15:43,  2.79s/it]"
     ]
    },
    {
     "name": "stdout",
     "output_type": "stream",
     "text": [
      "[224] P61366 → 1 domain: PF11037\n"
     ]
    },
    {
     "name": "stderr",
     "output_type": "stream",
     "text": [
      "Memproses:  40%|███████████████████████████▌                                         | 224/561 [08:27<14:53,  2.65s/it]"
     ]
    },
    {
     "name": "stdout",
     "output_type": "stream",
     "text": [
      "[225] Q4G176 → 2 domain: PF00501, PF13193\n"
     ]
    },
    {
     "name": "stderr",
     "output_type": "stream",
     "text": [
      "Memproses:  40%|███████████████████████████▋                                         | 225/561 [08:30<14:33,  2.60s/it]"
     ]
    },
    {
     "name": "stdout",
     "output_type": "stream",
     "text": [
      "[226] F5H5A1 → 2 domain: PF00501, PF13193\n"
     ]
    },
    {
     "name": "stderr",
     "output_type": "stream",
     "text": [
      "Memproses:  40%|███████████████████████████▊                                         | 226/561 [08:32<14:15,  2.55s/it]"
     ]
    },
    {
     "name": "stdout",
     "output_type": "stream",
     "text": [
      "[227] Q9H4I9 → 1 domain: PF10161\n"
     ]
    },
    {
     "name": "stderr",
     "output_type": "stream",
     "text": [
      "Memproses:  40%|███████████████████████████▉                                         | 227/561 [08:35<14:30,  2.61s/it]"
     ]
    },
    {
     "name": "stdout",
     "output_type": "stream",
     "text": [
      "[228] A0PK00 → 1 domain: PF07851\n"
     ]
    },
    {
     "name": "stderr",
     "output_type": "stream",
     "text": [
      "Memproses:  41%|████████████████████████████                                         | 228/561 [08:37<14:11,  2.56s/it]"
     ]
    },
    {
     "name": "stdout",
     "output_type": "stream",
     "text": [
      "[229] A6NFX1 → 1 domain: PF13347\n"
     ]
    },
    {
     "name": "stderr",
     "output_type": "stream",
     "text": [
      "Memproses:  41%|████████████████████████████▏                                        | 229/561 [08:40<14:01,  2.54s/it]"
     ]
    },
    {
     "name": "stdout",
     "output_type": "stream",
     "text": [
      "[230] Q9UK39 → 1 domain: PF03372\n"
     ]
    },
    {
     "name": "stderr",
     "output_type": "stream",
     "text": [
      "Memproses:  41%|████████████████████████████▎                                        | 230/561 [08:42<13:52,  2.52s/it]"
     ]
    },
    {
     "name": "stdout",
     "output_type": "stream",
     "text": [
      "[231] O43184 → 4 domain: PF00200, PF01421, PF01562, PF08516\n"
     ]
    },
    {
     "name": "stderr",
     "output_type": "stream",
     "text": [
      "Memproses:  41%|████████████████████████████▍                                        | 231/561 [08:44<13:26,  2.44s/it]"
     ]
    },
    {
     "name": "stdout",
     "output_type": "stream",
     "text": [
      "[232] Q5JRP2 → 4 domain: PF00200, PF01421, PF01562, PF08516\n"
     ]
    },
    {
     "name": "stderr",
     "output_type": "stream",
     "text": [
      "Memproses:  41%|████████████████████████████▌                                        | 232/561 [08:47<14:16,  2.60s/it]"
     ]
    },
    {
     "name": "stdout",
     "output_type": "stream",
     "text": [
      "[233] A8K6G4 → 4 domain: PF00200, PF01421, PF01562, PF08516\n"
     ]
    },
    {
     "name": "stderr",
     "output_type": "stream",
     "text": [
      "Memproses:  42%|████████████████████████████▋                                        | 233/561 [08:50<14:38,  2.68s/it]"
     ]
    },
    {
     "name": "stdout",
     "output_type": "stream",
     "text": [
      "[234] O95258 → 1 domain: PF00153\n"
     ]
    },
    {
     "name": "stderr",
     "output_type": "stream",
     "text": [
      "Memproses:  42%|████████████████████████████▊                                        | 234/561 [08:53<14:15,  2.61s/it]"
     ]
    },
    {
     "name": "stdout",
     "output_type": "stream",
     "text": [
      "[235] F6SL11 → 1 domain: PF00153\n"
     ]
    },
    {
     "name": "stderr",
     "output_type": "stream",
     "text": [
      "Memproses:  42%|████████████████████████████▉                                        | 235/561 [08:55<14:10,  2.61s/it]"
     ]
    },
    {
     "name": "stdout",
     "output_type": "stream",
     "text": [
      "[236] B4DMK1 → 1 domain: PF00153\n"
     ]
    },
    {
     "name": "stderr",
     "output_type": "stream",
     "text": [
      "Memproses:  42%|█████████████████████████████                                        | 236/561 [08:58<13:56,  2.57s/it]"
     ]
    },
    {
     "name": "stdout",
     "output_type": "stream",
     "text": [
      "[237] P06870 → 1 domain: PF00089\n"
     ]
    },
    {
     "name": "stderr",
     "output_type": "stream",
     "text": [
      "Memproses:  42%|█████████████████████████████▏                                       | 237/561 [09:00<13:05,  2.42s/it]"
     ]
    },
    {
     "name": "stdout",
     "output_type": "stream",
     "text": [
      "[238] A0A1R3UCD2 → 1 domain: PF00089\n"
     ]
    },
    {
     "name": "stderr",
     "output_type": "stream",
     "text": [
      "Memproses:  42%|█████████████████████████████▎                                       | 238/561 [09:02<13:06,  2.43s/it]"
     ]
    },
    {
     "name": "stdout",
     "output_type": "stream",
     "text": [
      "[239] P29622 → 1 domain: PF00079\n"
     ]
    },
    {
     "name": "stderr",
     "output_type": "stream",
     "text": [
      "Memproses:  43%|█████████████████████████████▍                                       | 239/561 [09:05<13:10,  2.45s/it]"
     ]
    },
    {
     "name": "stdout",
     "output_type": "stream",
     "text": [
      "[240] A0A024R6I9 → 1 domain: PF00079\n"
     ]
    },
    {
     "name": "stderr",
     "output_type": "stream",
     "text": [
      "Memproses:  43%|█████████████████████████████▌                                       | 240/561 [09:07<13:02,  2.44s/it]"
     ]
    },
    {
     "name": "stdout",
     "output_type": "stream",
     "text": [
      "[241] P10646 → 1 domain: PF00014\n"
     ]
    },
    {
     "name": "stderr",
     "output_type": "stream",
     "text": [
      "Memproses:  43%|█████████████████████████████▋                                       | 241/561 [09:10<13:06,  2.46s/it]"
     ]
    },
    {
     "name": "stdout",
     "output_type": "stream",
     "text": [
      "[242] P15086 → 2 domain: PF00246, PF02244\n"
     ]
    },
    {
     "name": "stderr",
     "output_type": "stream",
     "text": [
      "Memproses:  43%|█████████████████████████████▊                                       | 242/561 [09:12<13:31,  2.54s/it]"
     ]
    },
    {
     "name": "stdout",
     "output_type": "stream",
     "text": [
      "[243] P29279 → 4 domain: PF00007, PF00093, PF00219, PF19035\n"
     ]
    },
    {
     "name": "stderr",
     "output_type": "stream",
     "text": [
      "Memproses:  43%|█████████████████████████████▉                                       | 243/561 [09:15<12:46,  2.41s/it]"
     ]
    },
    {
     "name": "stdout",
     "output_type": "stream",
     "text": [
      "[244] Q5M8T4 → 4 domain: PF00007, PF00093, PF00219, PF19035\n"
     ]
    },
    {
     "name": "stderr",
     "output_type": "stream",
     "text": [
      "Memproses:  43%|██████████████████████████████                                       | 244/561 [09:18<13:44,  2.60s/it]"
     ]
    },
    {
     "name": "stdout",
     "output_type": "stream",
     "text": [
      "[245] P02775 → 1 domain: PF00048\n"
     ]
    },
    {
     "name": "stderr",
     "output_type": "stream",
     "text": [
      "Memproses:  44%|██████████████████████████████▏                                      | 245/561 [09:21<14:55,  2.83s/it]"
     ]
    },
    {
     "name": "stdout",
     "output_type": "stream",
     "text": [
      "[246] Q13630 → 1 domain: PF01370\n"
     ]
    },
    {
     "name": "stderr",
     "output_type": "stream",
     "text": [
      "Memproses:  44%|██████████████████████████████▎                                      | 246/561 [09:24<14:38,  2.79s/it]"
     ]
    },
    {
     "name": "stdout",
     "output_type": "stream",
     "text": [
      "[247] A0A140VKC8 → 1 domain: PF01370\n"
     ]
    },
    {
     "name": "stderr",
     "output_type": "stream",
     "text": [
      "Memproses:  44%|██████████████████████████████▍                                      | 247/561 [09:26<14:19,  2.74s/it]"
     ]
    },
    {
     "name": "stdout",
     "output_type": "stream",
     "text": [
      "[248] P05186 → 1 domain: PF00245\n"
     ]
    },
    {
     "name": "stderr",
     "output_type": "stream",
     "text": [
      "Memproses:  44%|██████████████████████████████▌                                      | 248/561 [09:28<13:21,  2.56s/it]"
     ]
    },
    {
     "name": "stdout",
     "output_type": "stream",
     "text": [
      "[249] P00750 → 4 domain: PF00008, PF00039, PF00051, PF00089\n"
     ]
    },
    {
     "name": "stderr",
     "output_type": "stream",
     "text": [
      "Memproses:  44%|██████████████████████████████▋                                      | 249/561 [09:31<12:33,  2.41s/it]"
     ]
    },
    {
     "name": "stdout",
     "output_type": "stream",
     "text": [
      "[250] B4DN26 → 4 domain: PF00008, PF00039, PF00051, PF00089\n"
     ]
    },
    {
     "name": "stderr",
     "output_type": "stream",
     "text": [
      "Memproses:  45%|██████████████████████████████▋                                      | 250/561 [09:33<13:07,  2.53s/it]"
     ]
    },
    {
     "name": "stdout",
     "output_type": "stream",
     "text": [
      "[251] P16035 → 1 domain: PF00965\n"
     ]
    },
    {
     "name": "stderr",
     "output_type": "stream",
     "text": [
      "Memproses:  45%|██████████████████████████████▊                                      | 251/561 [09:35<12:22,  2.39s/it]"
     ]
    },
    {
     "name": "stdout",
     "output_type": "stream",
     "text": [
      "[252] A0A140VK57 → 1 domain: PF00965\n"
     ]
    },
    {
     "name": "stderr",
     "output_type": "stream",
     "text": [
      "Memproses:  45%|██████████████████████████████▉                                      | 252/561 [09:38<12:24,  2.41s/it]"
     ]
    },
    {
     "name": "stdout",
     "output_type": "stream",
     "text": [
      "[253] P10644 → 2 domain: PF00027, PF02197\n"
     ]
    },
    {
     "name": "stderr",
     "output_type": "stream",
     "text": [
      "Memproses:  45%|███████████████████████████████                                      | 253/561 [09:40<11:51,  2.31s/it]"
     ]
    },
    {
     "name": "stdout",
     "output_type": "stream",
     "text": [
      "[254] B2R5T5 → 2 domain: PF00027, PF02197\n"
     ]
    },
    {
     "name": "stderr",
     "output_type": "stream",
     "text": [
      "Memproses:  45%|███████████████████████████████▏                                     | 254/561 [09:43<12:17,  2.40s/it]"
     ]
    },
    {
     "name": "stdout",
     "output_type": "stream",
     "text": [
      "[255] P48307 → 1 domain: PF00014\n"
     ]
    },
    {
     "name": "stderr",
     "output_type": "stream",
     "text": [
      "Memproses:  45%|███████████████████████████████▎                                     | 255/561 [09:45<12:20,  2.42s/it]"
     ]
    },
    {
     "name": "stdout",
     "output_type": "stream",
     "text": [
      "[256] Q99727 → 1 domain: PF00965\n"
     ]
    },
    {
     "name": "stderr",
     "output_type": "stream",
     "text": [
      "Memproses:  46%|███████████████████████████████▍                                     | 256/561 [09:48<12:37,  2.48s/it]"
     ]
    },
    {
     "name": "stdout",
     "output_type": "stream",
     "text": [
      "[257] O00585 → 1 domain: PF00048\n"
     ]
    },
    {
     "name": "stderr",
     "output_type": "stream",
     "text": [
      "Memproses:  46%|███████████████████████████████▌                                     | 257/561 [09:50<11:57,  2.36s/it]"
     ]
    },
    {
     "name": "stdout",
     "output_type": "stream",
     "text": [
      "[258] Q9UDY8 → 4 domain: PF00656, PF13895, PF13927, PF18703\n"
     ]
    },
    {
     "name": "stderr",
     "output_type": "stream",
     "text": [
      "Memproses:  46%|███████████████████████████████▋                                     | 258/561 [09:52<11:33,  2.29s/it]"
     ]
    },
    {
     "name": "stdout",
     "output_type": "stream",
     "text": [
      "[259] A8K5S1 → 4 domain: PF00656, PF13895, PF13927, PF18703\n"
     ]
    },
    {
     "name": "stderr",
     "output_type": "stream",
     "text": [
      "Memproses:  46%|███████████████████████████████▊                                     | 259/561 [09:55<12:19,  2.45s/it]"
     ]
    },
    {
     "name": "stdout",
     "output_type": "stream",
     "text": [
      "[260] Q96KP4 → 2 domain: PF01546, PF07687\n"
     ]
    },
    {
     "name": "stderr",
     "output_type": "stream",
     "text": [
      "Memproses:  46%|███████████████████████████████▉                                     | 260/561 [09:57<12:23,  2.47s/it]"
     ]
    },
    {
     "name": "stdout",
     "output_type": "stream",
     "text": [
      "[261] Q9BS40 → 1 domain: PF06907\n"
     ]
    },
    {
     "name": "stderr",
     "output_type": "stream",
     "text": [
      "Memproses:  47%|████████████████████████████████                                     | 261/561 [10:00<12:18,  2.46s/it]"
     ]
    },
    {
     "name": "stdout",
     "output_type": "stream",
     "text": [
      "[262] Q92963 → 1 domain: PF00071\n"
     ]
    },
    {
     "name": "stderr",
     "output_type": "stream",
     "text": [
      "Memproses:  47%|████████████████████████████████▏                                    | 262/561 [10:02<11:44,  2.36s/it]"
     ]
    },
    {
     "name": "stdout",
     "output_type": "stream",
     "text": [
      "[263] Q969Z4 → 1 domain: PF12606\n"
     ]
    },
    {
     "name": "stderr",
     "output_type": "stream",
     "text": [
      "Memproses:  47%|████████████████████████████████▎                                    | 263/561 [10:04<11:55,  2.40s/it]"
     ]
    },
    {
     "name": "stdout",
     "output_type": "stream",
     "text": [
      "[264] P21980 → 3 domain: PF00868, PF00927, PF01841\n"
     ]
    },
    {
     "name": "stderr",
     "output_type": "stream",
     "text": [
      "Memproses:  47%|████████████████████████████████▍                                    | 264/561 [10:06<11:23,  2.30s/it]"
     ]
    },
    {
     "name": "stdout",
     "output_type": "stream",
     "text": [
      "[265] V9HWG3 → 3 domain: PF00868, PF00927, PF01841\n"
     ]
    },
    {
     "name": "stderr",
     "output_type": "stream",
     "text": [
      "Memproses:  47%|████████████████████████████████▌                                    | 265/561 [10:09<11:52,  2.41s/it]"
     ]
    },
    {
     "name": "stdout",
     "output_type": "stream",
     "text": [
      "[266] B4DIT7 → 3 domain: PF00868, PF00927, PF01841\n"
     ]
    },
    {
     "name": "stderr",
     "output_type": "stream",
     "text": [
      "Memproses:  47%|████████████████████████████████▋                                    | 266/561 [10:12<12:10,  2.48s/it]"
     ]
    },
    {
     "name": "stdout",
     "output_type": "stream",
     "text": [
      "[267] B4DTN7 → 3 domain: PF00868, PF00927, PF01841\n"
     ]
    },
    {
     "name": "stderr",
     "output_type": "stream",
     "text": [
      "Memproses:  48%|████████████████████████████████▊                                    | 267/561 [10:14<12:22,  2.53s/it]"
     ]
    },
    {
     "name": "stdout",
     "output_type": "stream",
     "text": [
      "[268] Q8WWW0 → 3 domain: PF00130, PF00788, PF16517\n"
     ]
    },
    {
     "name": "stderr",
     "output_type": "stream",
     "text": [
      "Memproses:  48%|████████████████████████████████▉                                    | 268/561 [10:16<11:39,  2.39s/it]"
     ]
    },
    {
     "name": "stdout",
     "output_type": "stream",
     "text": [
      "[269] A8K5F3 → 3 domain: PF00130, PF00788, PF16517\n"
     ]
    },
    {
     "name": "stderr",
     "output_type": "stream",
     "text": [
      "Memproses:  48%|█████████████████████████████████                                    | 269/561 [10:19<12:10,  2.50s/it]"
     ]
    },
    {
     "name": "stdout",
     "output_type": "stream",
     "text": [
      "[270] Q96IX5 → 1 domain: PF14960\n"
     ]
    },
    {
     "name": "stderr",
     "output_type": "stream",
     "text": [
      "Memproses:  48%|█████████████████████████████████▏                                   | 270/561 [10:22<13:15,  2.73s/it]"
     ]
    },
    {
     "name": "stdout",
     "output_type": "stream",
     "text": [
      "[271] Q86Z23 → 1 domain: PF00386\n"
     ]
    },
    {
     "name": "stderr",
     "output_type": "stream",
     "text": [
      "Memproses:  48%|█████████████████████████████████▎                                   | 271/561 [10:25<12:34,  2.60s/it]"
     ]
    },
    {
     "name": "stdout",
     "output_type": "stream",
     "text": [
      "[272] A0A3B0INP7 → 1 domain: PF00386\n"
     ]
    },
    {
     "name": "stderr",
     "output_type": "stream",
     "text": [
      "Memproses:  48%|█████████████████████████████████▍                                   | 272/561 [10:30<16:42,  3.47s/it]"
     ]
    },
    {
     "name": "stdout",
     "output_type": "stream",
     "text": [
      "[273] Q9H5J4 → 1 domain: PF01151\n"
     ]
    },
    {
     "name": "stderr",
     "output_type": "stream",
     "text": [
      "Memproses:  49%|█████████████████████████████████▌                                   | 273/561 [10:34<16:51,  3.51s/it]"
     ]
    },
    {
     "name": "stdout",
     "output_type": "stream",
     "text": [
      "[274] Q86Z14 → 1 domain: PF00232\n"
     ]
    },
    {
     "name": "stderr",
     "output_type": "stream",
     "text": [
      "Memproses:  49%|█████████████████████████████████▋                                   | 274/561 [10:36<15:41,  3.28s/it]"
     ]
    },
    {
     "name": "stdout",
     "output_type": "stream",
     "text": [
      "[275] B4DYH5 → 1 domain: PF00232\n"
     ]
    },
    {
     "name": "stderr",
     "output_type": "stream",
     "text": [
      "Memproses:  49%|█████████████████████████████████▊                                   | 275/561 [10:39<14:43,  3.09s/it]"
     ]
    },
    {
     "name": "stdout",
     "output_type": "stream",
     "text": [
      "[276] Q9UBY9 → 1 domain: PF00011\n"
     ]
    },
    {
     "name": "stderr",
     "output_type": "stream",
     "text": [
      "Memproses:  49%|█████████████████████████████████▉                                   | 276/561 [10:42<13:47,  2.91s/it]"
     ]
    },
    {
     "name": "stdout",
     "output_type": "stream",
     "text": [
      "[277] P18075 → 2 domain: PF00019, PF00688\n"
     ]
    },
    {
     "name": "stderr",
     "output_type": "stream",
     "text": [
      "Memproses:  49%|██████████████████████████████████                                   | 277/561 [10:44<12:34,  2.66s/it]"
     ]
    },
    {
     "name": "stdout",
     "output_type": "stream",
     "text": [
      "[278] A8K571 → 2 domain: PF00019, PF00688\n"
     ]
    },
    {
     "name": "stderr",
     "output_type": "stream",
     "text": [
      "Memproses:  50%|██████████████████████████████████▏                                  | 278/561 [10:47<12:50,  2.72s/it]"
     ]
    },
    {
     "name": "stdout",
     "output_type": "stream",
     "text": [
      "[279] Q14865 → 1 domain: PF01388\n"
     ]
    },
    {
     "name": "stderr",
     "output_type": "stream",
     "text": [
      "Memproses:  50%|██████████████████████████████████▎                                  | 279/561 [10:49<12:23,  2.64s/it]"
     ]
    },
    {
     "name": "stdout",
     "output_type": "stream",
     "text": [
      "[280] Q13370 → 1 domain: PF00233\n"
     ]
    },
    {
     "name": "stderr",
     "output_type": "stream",
     "text": [
      "Memproses:  50%|██████████████████████████████████▍                                  | 280/561 [10:51<11:34,  2.47s/it]"
     ]
    },
    {
     "name": "stdout",
     "output_type": "stream",
     "text": [
      "[281] A7E2E5 → 1 domain: PF00233\n"
     ]
    },
    {
     "name": "stderr",
     "output_type": "stream",
     "text": [
      "Memproses:  50%|██████████████████████████████████▌                                  | 281/561 [10:54<11:32,  2.47s/it]"
     ]
    },
    {
     "name": "stdout",
     "output_type": "stream",
     "text": [
      "[282] Q00169 → 1 domain: PF02121\n"
     ]
    },
    {
     "name": "stderr",
     "output_type": "stream",
     "text": [
      "Memproses:  50%|██████████████████████████████████▋                                  | 282/561 [10:56<10:55,  2.35s/it]"
     ]
    },
    {
     "name": "stdout",
     "output_type": "stream",
     "text": [
      "[283] V9HWC5 → 1 domain: PF02121\n"
     ]
    },
    {
     "name": "stderr",
     "output_type": "stream",
     "text": [
      "Memproses:  50%|██████████████████████████████████▊                                  | 283/561 [10:58<10:53,  2.35s/it]"
     ]
    },
    {
     "name": "stdout",
     "output_type": "stream",
     "text": [
      "[284] P03372 → 4 domain: PF00104, PF00105, PF02159, PF12743\n"
     ]
    },
    {
     "name": "stderr",
     "output_type": "stream",
     "text": [
      "Memproses:  51%|██████████████████████████████████▉                                  | 284/561 [11:00<10:32,  2.28s/it]"
     ]
    },
    {
     "name": "stdout",
     "output_type": "stream",
     "text": [
      "[285] Q9UBT1 → Tidak ditemukan domain Pfam.\n"
     ]
    },
    {
     "name": "stderr",
     "output_type": "stream",
     "text": [
      "Memproses:  51%|███████████████████████████████████                                  | 285/561 [11:02<10:22,  2.26s/it]"
     ]
    },
    {
     "name": "stdout",
     "output_type": "stream",
     "text": [
      "[286] H0Y4W6 → 2 domain: PF00104, PF00105\n"
     ]
    },
    {
     "name": "stderr",
     "output_type": "stream",
     "text": [
      "Memproses:  51%|███████████████████████████████████▏                                 | 286/561 [11:05<10:41,  2.33s/it]"
     ]
    },
    {
     "name": "stdout",
     "output_type": "stream",
     "text": [
      "[287] G4XH65 → 4 domain: PF00104, PF00105, PF02159, PF12743\n"
     ]
    },
    {
     "name": "stderr",
     "output_type": "stream",
     "text": [
      "Memproses:  51%|███████████████████████████████████▎                                 | 287/561 [11:08<11:10,  2.45s/it]"
     ]
    },
    {
     "name": "stdout",
     "output_type": "stream",
     "text": [
      "[288] A8KAF4 → 4 domain: PF00104, PF00105, PF02159, PF12743\n"
     ]
    },
    {
     "name": "stderr",
     "output_type": "stream",
     "text": [
      "Memproses:  51%|███████████████████████████████████▍                                 | 288/561 [11:10<11:32,  2.54s/it]"
     ]
    },
    {
     "name": "stdout",
     "output_type": "stream",
     "text": [
      "[289] A0A125SXW3 → 3 domain: PF00104, PF00105, PF02159\n"
     ]
    },
    {
     "name": "stderr",
     "output_type": "stream",
     "text": [
      "Memproses:  52%|███████████████████████████████████▌                                 | 289/561 [11:13<12:16,  2.71s/it]"
     ]
    },
    {
     "name": "stdout",
     "output_type": "stream",
     "text": [
      "[290] P43304 → 3 domain: PF01266, PF13499, PF16901\n"
     ]
    },
    {
     "name": "stderr",
     "output_type": "stream",
     "text": [
      "Memproses:  52%|███████████████████████████████████▋                                 | 290/561 [11:16<12:11,  2.70s/it]"
     ]
    },
    {
     "name": "stdout",
     "output_type": "stream",
     "text": [
      "[291] Q03181 → 2 domain: PF00104, PF00105\n"
     ]
    },
    {
     "name": "stderr",
     "output_type": "stream",
     "text": [
      "Memproses:  52%|███████████████████████████████████▊                                 | 291/561 [11:18<11:18,  2.51s/it]"
     ]
    },
    {
     "name": "stdout",
     "output_type": "stream",
     "text": [
      "[292] F1D8S7 → 2 domain: PF00104, PF00105\n"
     ]
    },
    {
     "name": "stderr",
     "output_type": "stream",
     "text": [
      "Memproses:  52%|███████████████████████████████████▉                                 | 292/561 [11:21<11:27,  2.56s/it]"
     ]
    },
    {
     "name": "stdout",
     "output_type": "stream",
     "text": [
      "[293] Q9Y6K1 → 5 domain: PF00145, PF00855, PF17980, PF21255, PF22855\n"
     ]
    },
    {
     "name": "stderr",
     "output_type": "stream",
     "text": [
      "Memproses:  52%|████████████████████████████████████                                 | 293/561 [11:24<11:38,  2.60s/it]"
     ]
    },
    {
     "name": "stdout",
     "output_type": "stream",
     "text": [
      "[294] A0A0C4DG02 → 5 domain: PF00145, PF00855, PF17980, PF21255, PF22855\n"
     ]
    },
    {
     "name": "stderr",
     "output_type": "stream",
     "text": [
      "Memproses:  52%|████████████████████████████████████▏                                | 294/561 [11:26<12:02,  2.71s/it]"
     ]
    },
    {
     "name": "stdout",
     "output_type": "stream",
     "text": [
      "[295] F8WE91 → 5 domain: PF00145, PF00855, PF17980, PF21255, PF22855\n"
     ]
    },
    {
     "name": "stderr",
     "output_type": "stream",
     "text": [
      "Memproses:  53%|████████████████████████████████████▎                                | 295/561 [11:30<12:30,  2.82s/it]"
     ]
    },
    {
     "name": "stdout",
     "output_type": "stream",
     "text": [
      "[296] Q59HC6 → 5 domain: PF00145, PF00855, PF17980, PF21255, PF22855\n"
     ]
    },
    {
     "name": "stderr",
     "output_type": "stream",
     "text": [
      "Memproses:  53%|████████████████████████████████████▍                                | 296/561 [11:32<12:18,  2.79s/it]"
     ]
    },
    {
     "name": "stdout",
     "output_type": "stream",
     "text": [
      "[297] P80370 → 1 domain: PF00008\n"
     ]
    },
    {
     "name": "stderr",
     "output_type": "stream",
     "text": [
      "Memproses:  53%|████████████████████████████████████▌                                | 297/561 [11:34<11:21,  2.58s/it]"
     ]
    },
    {
     "name": "stdout",
     "output_type": "stream",
     "text": [
      "[298] A8K019 → 1 domain: PF00008\n"
     ]
    },
    {
     "name": "stderr",
     "output_type": "stream",
     "text": [
      "Memproses:  53%|████████████████████████████████████▋                                | 298/561 [11:37<11:20,  2.59s/it]"
     ]
    },
    {
     "name": "stdout",
     "output_type": "stream",
     "text": [
      "[299] Q96P20 → 6 domain: PF02758, PF05729, PF13516, PF14484, PF17776, PF17779\n"
     ]
    },
    {
     "name": "stderr",
     "output_type": "stream",
     "text": [
      "Memproses:  53%|████████████████████████████████████▊                                | 299/561 [11:39<10:41,  2.45s/it]"
     ]
    },
    {
     "name": "stdout",
     "output_type": "stream",
     "text": [
      "[300] A0A7I2R3P8 → 6 domain: PF02758, PF05729, PF13516, PF14484, PF17776, PF17779\n"
     ]
    },
    {
     "name": "stderr",
     "output_type": "stream",
     "text": [
      "Memproses:  53%|████████████████████████████████████▉                                | 300/561 [11:42<11:18,  2.60s/it]"
     ]
    },
    {
     "name": "stdout",
     "output_type": "stream",
     "text": [
      "[301] P42127 → 1 domain: PF05039\n"
     ]
    },
    {
     "name": "stderr",
     "output_type": "stream",
     "text": [
      "Memproses:  54%|█████████████████████████████████████                                | 301/561 [11:44<11:01,  2.54s/it]"
     ]
    },
    {
     "name": "stdout",
     "output_type": "stream",
     "text": [
      "[302] P16473 → 2 domain: PF00001, PF13306\n"
     ]
    },
    {
     "name": "stderr",
     "output_type": "stream",
     "text": [
      "Memproses:  54%|█████████████████████████████████████▏                               | 302/561 [11:47<10:23,  2.41s/it]"
     ]
    },
    {
     "name": "stdout",
     "output_type": "stream",
     "text": [
      "[303] Q9Y5S8 → 3 domain: PF01794, PF08022, PF08030\n"
     ]
    },
    {
     "name": "stderr",
     "output_type": "stream",
     "text": [
      "Memproses:  54%|█████████████████████████████████████▎                               | 303/561 [11:49<09:58,  2.32s/it]"
     ]
    },
    {
     "name": "stdout",
     "output_type": "stream",
     "text": [
      "[304] P51151 → 1 domain: PF00071\n"
     ]
    },
    {
     "name": "stderr",
     "output_type": "stream",
     "text": [
      "Memproses:  54%|█████████████████████████████████████▍                               | 304/561 [11:51<10:16,  2.40s/it]"
     ]
    },
    {
     "name": "stdout",
     "output_type": "stream",
     "text": [
      "[305] Q13887 → 1 domain: PF00096\n"
     ]
    },
    {
     "name": "stderr",
     "output_type": "stream",
     "text": [
      "Memproses:  54%|█████████████████████████████████████▌                               | 305/561 [11:53<09:49,  2.30s/it]"
     ]
    },
    {
     "name": "stdout",
     "output_type": "stream",
     "text": [
      "[306] O15118 → 3 domain: PF12349, PF16414, PF22314\n"
     ]
    },
    {
     "name": "stderr",
     "output_type": "stream",
     "text": [
      "Memproses:  55%|█████████████████████████████████████▋                               | 306/561 [11:55<09:32,  2.24s/it]"
     ]
    },
    {
     "name": "stdout",
     "output_type": "stream",
     "text": [
      "[307] O15164 → 3 domain: PF00439, PF00628, PF00643\n"
     ]
    },
    {
     "name": "stderr",
     "output_type": "stream",
     "text": [
      "Memproses:  55%|█████████████████████████████████████▊                               | 307/561 [11:58<09:19,  2.20s/it]"
     ]
    },
    {
     "name": "stdout",
     "output_type": "stream",
     "text": [
      "[308] P20618 → 1 domain: PF00227\n"
     ]
    },
    {
     "name": "stderr",
     "output_type": "stream",
     "text": [
      "Memproses:  55%|█████████████████████████████████████▉                               | 308/561 [12:00<09:08,  2.17s/it]"
     ]
    },
    {
     "name": "stdout",
     "output_type": "stream",
     "text": [
      "[309] Q99714 → 1 domain: PF00106\n"
     ]
    },
    {
     "name": "stderr",
     "output_type": "stream",
     "text": [
      "Memproses:  55%|██████████████████████████████████████                               | 309/561 [12:02<08:59,  2.14s/it]"
     ]
    },
    {
     "name": "stdout",
     "output_type": "stream",
     "text": [
      "[310] P23219 → 1 domain: PF03098\n"
     ]
    },
    {
     "name": "stderr",
     "output_type": "stream",
     "text": [
      "Memproses:  55%|██████████████████████████████████████▏                              | 310/561 [12:04<08:58,  2.15s/it]"
     ]
    },
    {
     "name": "stdout",
     "output_type": "stream",
     "text": [
      "[311] P02766 → 1 domain: PF00576\n"
     ]
    },
    {
     "name": "stderr",
     "output_type": "stream",
     "text": [
      "Memproses:  55%|██████████████████████████████████████▎                              | 311/561 [12:06<08:51,  2.13s/it]"
     ]
    },
    {
     "name": "stdout",
     "output_type": "stream",
     "text": [
      "[312] P49721 → 1 domain: PF00227\n"
     ]
    },
    {
     "name": "stderr",
     "output_type": "stream",
     "text": [
      "Memproses:  56%|██████████████████████████████████████▎                              | 312/561 [12:08<08:45,  2.11s/it]"
     ]
    },
    {
     "name": "stdout",
     "output_type": "stream",
     "text": [
      "[313] P28482 → 1 domain: PF00069\n"
     ]
    },
    {
     "name": "stderr",
     "output_type": "stream",
     "text": [
      "Memproses:  56%|██████████████████████████████████████▍                              | 313/561 [12:10<08:41,  2.10s/it]"
     ]
    },
    {
     "name": "stdout",
     "output_type": "stream",
     "text": [
      "[314] P34995 → 1 domain: PF00001\n"
     ]
    },
    {
     "name": "stderr",
     "output_type": "stream",
     "text": [
      "Memproses:  56%|██████████████████████████████████████▌                              | 314/561 [12:12<08:37,  2.09s/it]"
     ]
    },
    {
     "name": "stdout",
     "output_type": "stream",
     "text": [
      "[315] Q06124 → 2 domain: PF00017, PF00102\n"
     ]
    },
    {
     "name": "stderr",
     "output_type": "stream",
     "text": [
      "Memproses:  56%|██████████████████████████████████████▋                              | 315/561 [12:14<08:39,  2.11s/it]"
     ]
    },
    {
     "name": "stdout",
     "output_type": "stream",
     "text": [
      "[316] Q92753 → 2 domain: PF00104, PF00105\n"
     ]
    },
    {
     "name": "stderr",
     "output_type": "stream",
     "text": [
      "Memproses:  56%|██████████████████████████████████████▊                              | 316/561 [12:16<08:36,  2.11s/it]"
     ]
    },
    {
     "name": "stdout",
     "output_type": "stream",
     "text": [
      "[317] Q9Y345 → 1 domain: PF00209\n"
     ]
    },
    {
     "name": "stderr",
     "output_type": "stream",
     "text": [
      "Memproses:  57%|██████████████████████████████████████▉                              | 317/561 [12:18<08:30,  2.09s/it]"
     ]
    },
    {
     "name": "stdout",
     "output_type": "stream",
     "text": [
      "[318] P19838 → 5 domain: PF00023, PF00531, PF00554, PF12796, PF16179\n"
     ]
    },
    {
     "name": "stderr",
     "output_type": "stream",
     "text": [
      "Memproses:  57%|███████████████████████████████████████                              | 318/561 [12:21<08:34,  2.12s/it]"
     ]
    },
    {
     "name": "stdout",
     "output_type": "stream",
     "text": [
      "[319] P30926 → 2 domain: PF02931, PF02932\n"
     ]
    },
    {
     "name": "stderr",
     "output_type": "stream",
     "text": [
      "Memproses:  57%|███████████████████████████████████████▏                             | 319/561 [12:23<08:29,  2.10s/it]"
     ]
    },
    {
     "name": "stdout",
     "output_type": "stream",
     "text": [
      "[320] P27695 → 1 domain: PF03372\n"
     ]
    },
    {
     "name": "stderr",
     "output_type": "stream",
     "text": [
      "Memproses:  57%|███████████████████████████████████████▎                             | 320/561 [12:26<09:32,  2.38s/it]"
     ]
    },
    {
     "name": "stdout",
     "output_type": "stream",
     "text": [
      "[321] P24557 → 1 domain: PF00067\n"
     ]
    },
    {
     "name": "stderr",
     "output_type": "stream",
     "text": [
      "Memproses:  57%|███████████████████████████████████████▍                             | 321/561 [12:28<09:12,  2.30s/it]"
     ]
    },
    {
     "name": "stdout",
     "output_type": "stream",
     "text": [
      "[322] P11166 → 1 domain: PF00083\n"
     ]
    },
    {
     "name": "stderr",
     "output_type": "stream",
     "text": [
      "Memproses:  57%|███████████████████████████████████████▌                             | 322/561 [12:30<08:52,  2.23s/it]"
     ]
    },
    {
     "name": "stdout",
     "output_type": "stream",
     "text": [
      "[323] O15151 → 2 domain: PF00641, PF13920\n"
     ]
    },
    {
     "name": "stderr",
     "output_type": "stream",
     "text": [
      "Memproses:  58%|███████████████████████████████████████▋                             | 323/561 [12:32<08:38,  2.18s/it]"
     ]
    },
    {
     "name": "stdout",
     "output_type": "stream",
     "text": [
      "[324] P42224 → 6 domain: PF00017, PF01017, PF02864, PF02865, PF12162, PF21354\n"
     ]
    },
    {
     "name": "stderr",
     "output_type": "stream",
     "text": [
      "Memproses:  58%|███████████████████████████████████████▊                             | 324/561 [12:34<08:47,  2.23s/it]"
     ]
    },
    {
     "name": "stdout",
     "output_type": "stream",
     "text": [
      "[325] P02708 → 2 domain: PF02931, PF02932\n"
     ]
    },
    {
     "name": "stderr",
     "output_type": "stream",
     "text": [
      "Memproses:  58%|███████████████████████████████████████▉                             | 325/561 [12:36<08:35,  2.19s/it]"
     ]
    },
    {
     "name": "stdout",
     "output_type": "stream",
     "text": [
      "[326] P23415 → 2 domain: PF02931, PF02932\n"
     ]
    },
    {
     "name": "stderr",
     "output_type": "stream",
     "text": [
      "Memproses:  58%|████████████████████████████████████████                             | 326/561 [12:38<08:26,  2.15s/it]"
     ]
    },
    {
     "name": "stdout",
     "output_type": "stream",
     "text": [
      "[327] P30305 → 2 domain: PF00581, PF06617\n"
     ]
    },
    {
     "name": "stderr",
     "output_type": "stream",
     "text": [
      "Memproses:  58%|████████████████████████████████████████▏                            | 327/561 [12:41<08:17,  2.12s/it]"
     ]
    },
    {
     "name": "stdout",
     "output_type": "stream",
     "text": [
      "[328] O14672 → 3 domain: PF00200, PF13574, PF21299\n"
     ]
    },
    {
     "name": "stderr",
     "output_type": "stream",
     "text": [
      "Memproses:  58%|████████████████████████████████████████▎                            | 328/561 [12:43<08:30,  2.19s/it]"
     ]
    },
    {
     "name": "stdout",
     "output_type": "stream",
     "text": [
      "[329] P07384 → 3 domain: PF00648, PF01067, PF13833\n"
     ]
    },
    {
     "name": "stderr",
     "output_type": "stream",
     "text": [
      "Memproses:  59%|████████████████████████████████████████▍                            | 329/561 [12:45<08:19,  2.15s/it]"
     ]
    },
    {
     "name": "stdout",
     "output_type": "stream",
     "text": [
      "[330] P09211 → 2 domain: PF02798, PF14497\n"
     ]
    },
    {
     "name": "stderr",
     "output_type": "stream",
     "text": [
      "Memproses:  59%|████████████████████████████████████████▌                            | 330/561 [12:47<08:11,  2.13s/it]"
     ]
    },
    {
     "name": "stdout",
     "output_type": "stream",
     "text": [
      "[331] P21462 → 1 domain: PF00001\n"
     ]
    },
    {
     "name": "stderr",
     "output_type": "stream",
     "text": [
      "Memproses:  59%|████████████████████████████████████████▋                            | 331/561 [12:49<08:06,  2.11s/it]"
     ]
    },
    {
     "name": "stdout",
     "output_type": "stream",
     "text": [
      "[332] Q9HC97 → 1 domain: PF00001\n"
     ]
    },
    {
     "name": "stderr",
     "output_type": "stream",
     "text": [
      "Memproses:  59%|████████████████████████████████████████▊                            | 332/561 [12:51<08:02,  2.11s/it]"
     ]
    },
    {
     "name": "stdout",
     "output_type": "stream",
     "text": [
      "[333] P08684 → 1 domain: PF00067\n"
     ]
    },
    {
     "name": "stderr",
     "output_type": "stream",
     "text": [
      "Memproses:  59%|████████████████████████████████████████▉                            | 333/561 [12:53<07:57,  2.09s/it]"
     ]
    },
    {
     "name": "stdout",
     "output_type": "stream",
     "text": [
      "[334] O00257 → 2 domain: PF00385, PF17218\n"
     ]
    },
    {
     "name": "stderr",
     "output_type": "stream",
     "text": [
      "Memproses:  60%|█████████████████████████████████████████                            | 334/561 [12:55<07:56,  2.10s/it]"
     ]
    },
    {
     "name": "stdout",
     "output_type": "stream",
     "text": [
      "[335] Q16236 → 1 domain: PF03131\n"
     ]
    },
    {
     "name": "stderr",
     "output_type": "stream",
     "text": [
      "Memproses:  60%|█████████████████████████████████████████▏                           | 335/561 [12:58<08:09,  2.17s/it]"
     ]
    },
    {
     "name": "stdout",
     "output_type": "stream",
     "text": [
      "[336] Q6V1X1 → 3 domain: PF00326, PF00930, PF19520\n"
     ]
    },
    {
     "name": "stderr",
     "output_type": "stream",
     "text": [
      "Memproses:  60%|█████████████████████████████████████████▎                           | 336/561 [13:00<08:02,  2.15s/it]"
     ]
    },
    {
     "name": "stdout",
     "output_type": "stream",
     "text": [
      "[337] P25090 → 1 domain: PF00001\n"
     ]
    },
    {
     "name": "stderr",
     "output_type": "stream",
     "text": [
      "Memproses:  60%|█████████████████████████████████████████▍                           | 337/561 [13:02<07:55,  2.12s/it]"
     ]
    },
    {
     "name": "stdout",
     "output_type": "stream",
     "text": [
      "[338] Q16288 → 6 domain: PF00047, PF01462, PF07679, PF07714, PF13855, PF16920\n"
     ]
    },
    {
     "name": "stderr",
     "output_type": "stream",
     "text": [
      "Memproses:  60%|█████████████████████████████████████████▌                           | 338/561 [13:04<07:51,  2.12s/it]"
     ]
    },
    {
     "name": "stdout",
     "output_type": "stream",
     "text": [
      "[339] P67870 → 1 domain: PF01214\n"
     ]
    },
    {
     "name": "stderr",
     "output_type": "stream",
     "text": [
      "Memproses:  60%|█████████████████████████████████████████▋                           | 339/561 [13:06<07:47,  2.11s/it]"
     ]
    },
    {
     "name": "stdout",
     "output_type": "stream",
     "text": [
      "[340] P51955 → 1 domain: PF00069\n"
     ]
    },
    {
     "name": "stderr",
     "output_type": "stream",
     "text": [
      "Memproses:  61%|█████████████████████████████████████████▊                           | 340/561 [13:09<08:09,  2.22s/it]"
     ]
    },
    {
     "name": "stdout",
     "output_type": "stream",
     "text": [
      "[341] P08173 → 1 domain: PF00001\n"
     ]
    },
    {
     "name": "stderr",
     "output_type": "stream",
     "text": [
      "Memproses:  61%|█████████████████████████████████████████▉                           | 341/561 [13:11<08:00,  2.18s/it]"
     ]
    },
    {
     "name": "stdout",
     "output_type": "stream",
     "text": [
      "[342] O75469 → 2 domain: PF00104, PF00105\n"
     ]
    },
    {
     "name": "stderr",
     "output_type": "stream",
     "text": [
      "Memproses:  61%|██████████████████████████████████████████                           | 342/561 [13:13<08:13,  2.26s/it]"
     ]
    },
    {
     "name": "stdout",
     "output_type": "stream",
     "text": [
      "[343] P17706 → 1 domain: PF00102\n"
     ]
    },
    {
     "name": "stderr",
     "output_type": "stream",
     "text": [
      "Memproses:  61%|██████████████████████████████████████████▏                          | 343/561 [13:15<08:02,  2.21s/it]"
     ]
    },
    {
     "name": "stdout",
     "output_type": "stream",
     "text": [
      "[344] P11387 → 3 domain: PF01028, PF02919, PF14370\n"
     ]
    },
    {
     "name": "stderr",
     "output_type": "stream",
     "text": [
      "Memproses:  61%|██████████████████████████████████████████▎                          | 344/561 [13:17<07:52,  2.18s/it]"
     ]
    },
    {
     "name": "stdout",
     "output_type": "stream",
     "text": [
      "[345] P43116 → 1 domain: PF00001\n"
     ]
    },
    {
     "name": "stderr",
     "output_type": "stream",
     "text": [
      "Memproses:  61%|██████████████████████████████████████████▍                          | 345/561 [13:19<07:43,  2.15s/it]"
     ]
    },
    {
     "name": "stdout",
     "output_type": "stream",
     "text": [
      "[346] P22736 → 2 domain: PF00104, PF00105\n"
     ]
    },
    {
     "name": "stderr",
     "output_type": "stream",
     "text": [
      "Memproses:  62%|██████████████████████████████████████████▌                          | 346/561 [13:21<07:37,  2.13s/it]"
     ]
    },
    {
     "name": "stdout",
     "output_type": "stream",
     "text": [
      "[347] P08912 → 1 domain: PF00001\n"
     ]
    },
    {
     "name": "stderr",
     "output_type": "stream",
     "text": [
      "Memproses:  62%|██████████████████████████████████████████▋                          | 347/561 [13:23<07:31,  2.11s/it]"
     ]
    },
    {
     "name": "stdout",
     "output_type": "stream",
     "text": [
      "[348] P07477 → 1 domain: PF00089\n"
     ]
    },
    {
     "name": "stderr",
     "output_type": "stream",
     "text": [
      "Memproses:  62%|██████████████████████████████████████████▊                          | 348/561 [13:26<08:16,  2.33s/it]"
     ]
    },
    {
     "name": "stdout",
     "output_type": "stream",
     "text": [
      "[349] P42680 → 5 domain: PF00017, PF00018, PF00169, PF00779, PF07714\n"
     ]
    },
    {
     "name": "stderr",
     "output_type": "stream",
     "text": [
      "Memproses:  62%|██████████████████████████████████████████▉                          | 349/561 [13:28<07:56,  2.25s/it]"
     ]
    },
    {
     "name": "stdout",
     "output_type": "stream",
     "text": [
      "[350] Q00535 → 1 domain: PF00069\n"
     ]
    },
    {
     "name": "stderr",
     "output_type": "stream",
     "text": [
      "Memproses:  62%|███████████████████████████████████████████                          | 350/561 [13:31<08:14,  2.34s/it]"
     ]
    },
    {
     "name": "stdout",
     "output_type": "stream",
     "text": [
      "[351] O60341 → 2 domain: PF01593, PF04433\n"
     ]
    },
    {
     "name": "stderr",
     "output_type": "stream",
     "text": [
      "Memproses:  63%|███████████████████████████████████████████▏                         | 351/561 [13:33<07:55,  2.26s/it]"
     ]
    },
    {
     "name": "stdout",
     "output_type": "stream",
     "text": [
      "[352] Q96RR4 → 1 domain: PF00069\n"
     ]
    },
    {
     "name": "stderr",
     "output_type": "stream",
     "text": [
      "Memproses:  63%|███████████████████████████████████████████▎                         | 352/561 [13:35<07:40,  2.20s/it]"
     ]
    },
    {
     "name": "stdout",
     "output_type": "stream",
     "text": [
      "[353] P49862 → 1 domain: PF00089\n"
     ]
    },
    {
     "name": "stderr",
     "output_type": "stream",
     "text": [
      "Memproses:  63%|███████████████████████████████████████████▍                         | 353/561 [13:37<07:30,  2.16s/it]"
     ]
    },
    {
     "name": "stdout",
     "output_type": "stream",
     "text": [
      "[354] P16083 → 1 domain: PF02525\n"
     ]
    },
    {
     "name": "stderr",
     "output_type": "stream",
     "text": [
      "Memproses:  63%|███████████████████████████████████████████▌                         | 354/561 [13:39<07:24,  2.15s/it]"
     ]
    },
    {
     "name": "stdout",
     "output_type": "stream",
     "text": [
      "[355] P42785 → 1 domain: PF05577\n"
     ]
    },
    {
     "name": "stderr",
     "output_type": "stream",
     "text": [
      "Memproses:  63%|███████████████████████████████████████████▋                         | 355/561 [13:41<07:20,  2.14s/it]"
     ]
    },
    {
     "name": "stdout",
     "output_type": "stream",
     "text": [
      "[356] P54132 → 8 domain: PF00270, PF00271, PF00570, PF08072, PF09382, PF16124, PF16202, PF16204\n"
     ]
    },
    {
     "name": "stderr",
     "output_type": "stream",
     "text": [
      "Memproses:  63%|███████████████████████████████████████████▊                         | 356/561 [13:43<07:13,  2.12s/it]"
     ]
    },
    {
     "name": "stdout",
     "output_type": "stream",
     "text": [
      "[357] Q14680 → 3 domain: PF00069, PF02149, PF21594\n"
     ]
    },
    {
     "name": "stderr",
     "output_type": "stream",
     "text": [
      "Memproses:  64%|███████████████████████████████████████████▉                         | 357/561 [13:46<07:08,  2.10s/it]"
     ]
    },
    {
     "name": "stdout",
     "output_type": "stream",
     "text": [
      "[358] Q16513 → 3 domain: PF00069, PF00433, PF02185\n"
     ]
    },
    {
     "name": "stderr",
     "output_type": "stream",
     "text": [
      "Memproses:  64%|████████████████████████████████████████████                         | 358/561 [13:48<07:06,  2.10s/it]"
     ]
    },
    {
     "name": "stdout",
     "output_type": "stream",
     "text": [
      "[359] Q86TI2 → 3 domain: PF00326, PF00930, PF19520\n"
     ]
    },
    {
     "name": "stderr",
     "output_type": "stream",
     "text": [
      "Memproses:  64%|████████████████████████████████████████████▏                        | 359/561 [13:50<07:05,  2.11s/it]"
     ]
    },
    {
     "name": "stdout",
     "output_type": "stream",
     "text": [
      "[360] Q9Y5N1 → 1 domain: PF00001\n"
     ]
    },
    {
     "name": "stderr",
     "output_type": "stream",
     "text": [
      "Memproses:  64%|████████████████████████████████████████████▎                        | 360/561 [13:52<07:02,  2.10s/it]"
     ]
    },
    {
     "name": "stdout",
     "output_type": "stream",
     "text": [
      "[361] P07339 → 2 domain: PF00026, PF07966\n"
     ]
    },
    {
     "name": "stderr",
     "output_type": "stream",
     "text": [
      "Memproses:  64%|████████████████████████████████████████████▍                        | 361/561 [13:54<07:02,  2.11s/it]"
     ]
    },
    {
     "name": "stdout",
     "output_type": "stream",
     "text": [
      "[362] Q16512 → 3 domain: PF00069, PF00433, PF02185\n"
     ]
    },
    {
     "name": "stderr",
     "output_type": "stream",
     "text": [
      "Memproses:  65%|████████████████████████████████████████████▌                        | 362/561 [13:59<09:27,  2.85s/it]"
     ]
    },
    {
     "name": "stdout",
     "output_type": "stream",
     "text": [
      "[363] Q96L34 → 3 domain: PF00069, PF00627, PF02149\n"
     ]
    },
    {
     "name": "stderr",
     "output_type": "stream",
     "text": [
      "Memproses:  65%|████████████████████████████████████████████▋                        | 363/561 [14:01<08:38,  2.62s/it]"
     ]
    },
    {
     "name": "stdout",
     "output_type": "stream",
     "text": [
      "[364] P27986 → 3 domain: PF00017, PF00620, PF16454\n"
     ]
    },
    {
     "name": "stderr",
     "output_type": "stream",
     "text": [
      "Memproses:  65%|████████████████████████████████████████████▊                        | 364/561 [14:03<08:04,  2.46s/it]"
     ]
    },
    {
     "name": "stdout",
     "output_type": "stream",
     "text": [
      "[365] P21452 → 1 domain: PF00001\n"
     ]
    },
    {
     "name": "stderr",
     "output_type": "stream",
     "text": [
      "Memproses:  65%|████████████████████████████████████████████▉                        | 365/561 [14:05<07:38,  2.34s/it]"
     ]
    },
    {
     "name": "stdout",
     "output_type": "stream",
     "text": [
      "[366] Q9NY46 → 4 domain: PF00520, PF06512, PF11933, PF24609\n"
     ]
    },
    {
     "name": "stderr",
     "output_type": "stream",
     "text": [
      "Memproses:  65%|█████████████████████████████████████████████                        | 366/561 [14:07<07:22,  2.27s/it]"
     ]
    },
    {
     "name": "stdout",
     "output_type": "stream",
     "text": [
      "[367] P11388 → 6 domain: PF00204, PF00521, PF01751, PF02518, PF08070, PF16898\n"
     ]
    },
    {
     "name": "stderr",
     "output_type": "stream",
     "text": [
      "Memproses:  65%|█████████████████████████████████████████████▏                       | 367/561 [14:12<10:11,  3.15s/it]"
     ]
    },
    {
     "name": "stdout",
     "output_type": "stream",
     "text": [
      "[368] Q6PHR2 → 2 domain: PF00069, PF04212\n"
     ]
    },
    {
     "name": "stderr",
     "output_type": "stream",
     "text": [
      "Memproses:  66%|█████████████████████████████████████████████▎                       | 368/561 [14:14<09:05,  2.83s/it]"
     ]
    },
    {
     "name": "stdout",
     "output_type": "stream",
     "text": [
      "[369] Q9Y4P1 → 2 domain: PF03416, PF20166\n"
     ]
    },
    {
     "name": "stderr",
     "output_type": "stream",
     "text": [
      "Memproses:  66%|█████████████████████████████████████████████▍                       | 369/561 [14:16<08:24,  2.63s/it]"
     ]
    },
    {
     "name": "stdout",
     "output_type": "stream",
     "text": [
      "[370] P35236 → 1 domain: PF00102\n"
     ]
    },
    {
     "name": "stderr",
     "output_type": "stream",
     "text": [
      "Memproses:  66%|█████████████████████████████████████████████▌                       | 370/561 [14:18<07:50,  2.46s/it]"
     ]
    },
    {
     "name": "stdout",
     "output_type": "stream",
     "text": [
      "[371] P08172 → 1 domain: PF00001\n"
     ]
    },
    {
     "name": "stderr",
     "output_type": "stream",
     "text": [
      "Memproses:  66%|█████████████████████████████████████████████▋                       | 371/561 [14:21<07:44,  2.45s/it]"
     ]
    },
    {
     "name": "stdout",
     "output_type": "stream",
     "text": [
      "[372] Q9H228 → 1 domain: PF00001\n"
     ]
    },
    {
     "name": "stderr",
     "output_type": "stream",
     "text": [
      "Memproses:  66%|█████████████████████████████████████████████▊                       | 372/561 [14:23<07:20,  2.33s/it]"
     ]
    },
    {
     "name": "stdout",
     "output_type": "stream",
     "text": [
      "[373] Q96P65 → 1 domain: PF00001\n"
     ]
    },
    {
     "name": "stderr",
     "output_type": "stream",
     "text": [
      "Memproses:  66%|█████████████████████████████████████████████▉                       | 373/561 [14:25<07:08,  2.28s/it]"
     ]
    },
    {
     "name": "stdout",
     "output_type": "stream",
     "text": [
      "[374] P00488 → 3 domain: PF00868, PF00927, PF01841\n"
     ]
    },
    {
     "name": "stderr",
     "output_type": "stream",
     "text": [
      "Memproses:  67%|██████████████████████████████████████████████                       | 374/561 [14:28<07:37,  2.45s/it]"
     ]
    },
    {
     "name": "stdout",
     "output_type": "stream",
     "text": [
      "[375] O95665 → 1 domain: PF00001\n"
     ]
    },
    {
     "name": "stderr",
     "output_type": "stream",
     "text": [
      "Memproses:  67%|██████████████████████████████████████████████                       | 375/561 [14:30<07:18,  2.36s/it]"
     ]
    },
    {
     "name": "stdout",
     "output_type": "stream",
     "text": [
      "[376] P55212 → 1 domain: PF00656\n"
     ]
    },
    {
     "name": "stderr",
     "output_type": "stream",
     "text": [
      "Memproses:  67%|██████████████████████████████████████████████▏                      | 376/561 [14:32<07:00,  2.27s/it]"
     ]
    },
    {
     "name": "stdout",
     "output_type": "stream",
     "text": [
      "[377] Q9HCG7 → 2 domain: PF04685, PF12215\n"
     ]
    },
    {
     "name": "stderr",
     "output_type": "stream",
     "text": [
      "Memproses:  67%|██████████████████████████████████████████████▎                      | 377/561 [14:34<06:46,  2.21s/it]"
     ]
    },
    {
     "name": "stdout",
     "output_type": "stream",
     "text": [
      "[378] Q9NZ08 → 3 domain: PF01433, PF11838, PF17900\n"
     ]
    },
    {
     "name": "stderr",
     "output_type": "stream",
     "text": [
      "Memproses:  67%|██████████████████████████████████████████████▍                      | 378/561 [14:36<06:37,  2.17s/it]"
     ]
    },
    {
     "name": "stdout",
     "output_type": "stream",
     "text": [
      "[379] P35414 → 1 domain: PF00001\n"
     ]
    },
    {
     "name": "stderr",
     "output_type": "stream",
     "text": [
      "Memproses:  68%|██████████████████████████████████████████████▌                      | 379/561 [14:38<06:31,  2.15s/it]"
     ]
    },
    {
     "name": "stdout",
     "output_type": "stream",
     "text": [
      "[380] P42345 → 6 domain: PF00454, PF02259, PF02260, PF08771, PF11865, PF23593\n"
     ]
    },
    {
     "name": "stderr",
     "output_type": "stream",
     "text": [
      "Memproses:  68%|██████████████████████████████████████████████▋                      | 380/561 [14:40<06:25,  2.13s/it]"
     ]
    },
    {
     "name": "stdout",
     "output_type": "stream",
     "text": [
      "[381] O14744 → 3 domain: PF05185, PF17285, PF17286\n"
     ]
    },
    {
     "name": "stderr",
     "output_type": "stream",
     "text": [
      "Memproses:  68%|██████████████████████████████████████████████▊                      | 381/561 [14:42<06:19,  2.11s/it]"
     ]
    },
    {
     "name": "stdout",
     "output_type": "stream",
     "text": [
      "[382] P36896 → 3 domain: PF00069, PF01064, PF08515\n"
     ]
    },
    {
     "name": "stderr",
     "output_type": "stream",
     "text": [
      "Memproses:  68%|██████████████████████████████████████████████▉                      | 382/561 [14:45<06:16,  2.10s/it]"
     ]
    },
    {
     "name": "stdout",
     "output_type": "stream",
     "text": [
      "[383] P19634 → 2 domain: PF00999, PF16644\n"
     ]
    },
    {
     "name": "stderr",
     "output_type": "stream",
     "text": [
      "Memproses:  68%|███████████████████████████████████████████████                      | 383/561 [14:47<06:13,  2.10s/it]"
     ]
    },
    {
     "name": "stdout",
     "output_type": "stream",
     "text": [
      "[384] Q13085 → 7 domain: PF00289, PF00364, PF01039, PF02785, PF02786, PF08326, PF21385\n"
     ]
    },
    {
     "name": "stderr",
     "output_type": "stream",
     "text": [
      "Memproses:  68%|███████████████████████████████████████████████▏                     | 384/561 [14:49<06:10,  2.09s/it]"
     ]
    },
    {
     "name": "stdout",
     "output_type": "stream",
     "text": [
      "[385] P17931 → 1 domain: PF00337\n"
     ]
    },
    {
     "name": "stderr",
     "output_type": "stream",
     "text": [
      "Memproses:  69%|███████████████████████████████████████████████▎                     | 385/561 [14:51<06:06,  2.08s/it]"
     ]
    },
    {
     "name": "stdout",
     "output_type": "stream",
     "text": [
      "[386] P30307 → 2 domain: PF00581, PF06617\n"
     ]
    },
    {
     "name": "stderr",
     "output_type": "stream",
     "text": [
      "Memproses:  69%|███████████████████████████████████████████████▍                     | 386/561 [14:53<06:04,  2.08s/it]"
     ]
    },
    {
     "name": "stdout",
     "output_type": "stream",
     "text": [
      "[387] P18054 → 2 domain: PF00305, PF01477\n"
     ]
    },
    {
     "name": "stderr",
     "output_type": "stream",
     "text": [
      "Memproses:  69%|███████████████████████████████████████████████▌                     | 387/561 [14:55<06:21,  2.19s/it]"
     ]
    },
    {
     "name": "stdout",
     "output_type": "stream",
     "text": [
      "[388] P51452 → 1 domain: PF00782\n"
     ]
    },
    {
     "name": "stderr",
     "output_type": "stream",
     "text": [
      "Memproses:  69%|███████████████████████████████████████████████▋                     | 388/561 [14:57<06:14,  2.17s/it]"
     ]
    },
    {
     "name": "stdout",
     "output_type": "stream",
     "text": [
      "[389] O00763 → 7 domain: PF00289, PF00364, PF01039, PF02785, PF02786, PF08326, PF21385\n"
     ]
    },
    {
     "name": "stderr",
     "output_type": "stream",
     "text": [
      "Memproses:  69%|███████████████████████████████████████████████▊                     | 389/561 [15:00<06:09,  2.15s/it]"
     ]
    },
    {
     "name": "stdout",
     "output_type": "stream",
     "text": [
      "[390] P14174 → 1 domain: PF01187\n"
     ]
    },
    {
     "name": "stderr",
     "output_type": "stream",
     "text": [
      "Memproses:  70%|███████████████████████████████████████████████▉                     | 390/561 [15:02<06:06,  2.14s/it]"
     ]
    },
    {
     "name": "stdout",
     "output_type": "stream",
     "text": [
      "[391] P42262 → 3 domain: PF00060, PF01094, PF10613\n"
     ]
    },
    {
     "name": "stderr",
     "output_type": "stream",
     "text": [
      "Memproses:  70%|████████████████████████████████████████████████                     | 391/561 [15:04<06:01,  2.13s/it]"
     ]
    },
    {
     "name": "stdout",
     "output_type": "stream",
     "text": [
      "[392] P15428 → 1 domain: PF00106\n"
     ]
    },
    {
     "name": "stderr",
     "output_type": "stream",
     "text": [
      "Memproses:  70%|████████████████████████████████████████████████▏                    | 392/561 [15:06<05:56,  2.11s/it]"
     ]
    },
    {
     "name": "stdout",
     "output_type": "stream",
     "text": [
      "[393] Q9UHL4 → 1 domain: PF05577\n"
     ]
    },
    {
     "name": "stderr",
     "output_type": "stream",
     "text": [
      "Memproses:  70%|████████████████████████████████████████████████▎                    | 393/561 [15:08<05:52,  2.10s/it]"
     ]
    },
    {
     "name": "stdout",
     "output_type": "stream",
     "text": [
      "[394] P05556 → 7 domain: PF00362, PF07965, PF07974, PF08725, PF17205, PF18372, PF23105\n"
     ]
    },
    {
     "name": "stderr",
     "output_type": "stream",
     "text": [
      "Memproses:  70%|████████████████████████████████████████████████▍                    | 394/561 [15:10<05:49,  2.09s/it]"
     ]
    },
    {
     "name": "stdout",
     "output_type": "stream",
     "text": [
      "[395] P22413 → 3 domain: PF01033, PF01223, PF01663\n"
     ]
    },
    {
     "name": "stderr",
     "output_type": "stream",
     "text": [
      "Memproses:  70%|████████████████████████████████████████████████▌                    | 395/561 [15:12<05:46,  2.09s/it]"
     ]
    },
    {
     "name": "stdout",
     "output_type": "stream",
     "text": [
      "[396] P28335 → 1 domain: PF00001\n"
     ]
    },
    {
     "name": "stderr",
     "output_type": "stream",
     "text": [
      "Memproses:  71%|████████████████████████████████████████████████▋                    | 396/561 [15:14<05:45,  2.10s/it]"
     ]
    },
    {
     "name": "stdout",
     "output_type": "stream",
     "text": [
      "[397] Q00975 → 3 domain: PF00520, PF08763, PF16905\n"
     ]
    },
    {
     "name": "stderr",
     "output_type": "stream",
     "text": [
      "Memproses:  71%|████████████████████████████████████████████████▊                    | 397/561 [15:16<05:41,  2.08s/it]"
     ]
    },
    {
     "name": "stdout",
     "output_type": "stream",
     "text": [
      "[398] Q9HAZ1 → 1 domain: PF00069\n"
     ]
    },
    {
     "name": "stderr",
     "output_type": "stream",
     "text": [
      "Memproses:  71%|████████████████████████████████████████████████▉                    | 398/561 [15:18<05:39,  2.08s/it]"
     ]
    },
    {
     "name": "stdout",
     "output_type": "stream",
     "text": [
      "[399] P16234 → 3 domain: PF07679, PF07714, PF25305\n"
     ]
    },
    {
     "name": "stderr",
     "output_type": "stream",
     "text": [
      "Memproses:  71%|█████████████████████████████████████████████████                    | 399/561 [15:20<05:39,  2.09s/it]"
     ]
    },
    {
     "name": "stdout",
     "output_type": "stream",
     "text": [
      "[400] P24864 → 2 domain: PF00134, PF02984\n"
     ]
    },
    {
     "name": "stderr",
     "output_type": "stream",
     "text": [
      "Memproses:  71%|█████████████████████████████████████████████████▏                   | 400/561 [15:23<05:52,  2.19s/it]"
     ]
    },
    {
     "name": "stdout",
     "output_type": "stream",
     "text": [
      "[401] Q92769 → 1 domain: PF00850\n"
     ]
    },
    {
     "name": "stderr",
     "output_type": "stream",
     "text": [
      "Memproses:  71%|█████████████████████████████████████████████████▎                   | 401/561 [15:25<05:48,  2.18s/it]"
     ]
    },
    {
     "name": "stdout",
     "output_type": "stream",
     "text": [
      "[402] P21730 → 1 domain: PF00001\n"
     ]
    },
    {
     "name": "stderr",
     "output_type": "stream",
     "text": [
      "Memproses:  72%|█████████████████████████████████████████████████▍                   | 402/561 [15:27<05:40,  2.14s/it]"
     ]
    },
    {
     "name": "stdout",
     "output_type": "stream",
     "text": [
      "[403] P09619 → 4 domain: PF00047, PF07714, PF13927, PF25305\n"
     ]
    },
    {
     "name": "stderr",
     "output_type": "stream",
     "text": [
      "Memproses:  72%|█████████████████████████████████████████████████▌                   | 403/561 [15:30<06:09,  2.34s/it]"
     ]
    },
    {
     "name": "stdout",
     "output_type": "stream",
     "text": [
      "[404] Q9HCR9 → 2 domain: PF00233, PF01590\n"
     ]
    },
    {
     "name": "stderr",
     "output_type": "stream",
     "text": [
      "Memproses:  72%|█████████████████████████████████████████████████▋                   | 404/561 [15:32<05:53,  2.25s/it]"
     ]
    },
    {
     "name": "stdout",
     "output_type": "stream",
     "text": [
      "[405] P15144 → 3 domain: PF01433, PF11838, PF17900\n"
     ]
    },
    {
     "name": "stderr",
     "output_type": "stream",
     "text": [
      "Memproses:  72%|█████████████████████████████████████████████████▊                   | 405/561 [15:34<05:41,  2.19s/it]"
     ]
    },
    {
     "name": "stdout",
     "output_type": "stream",
     "text": [
      "[406] P55899 → 2 domain: PF00129, PF07654\n"
     ]
    },
    {
     "name": "stderr",
     "output_type": "stream",
     "text": [
      "Memproses:  72%|█████████████████████████████████████████████████▉                   | 406/561 [15:36<05:38,  2.18s/it]"
     ]
    },
    {
     "name": "stdout",
     "output_type": "stream",
     "text": [
      "[407] Q96GG9 → 2 domain: PF03556, PF14555\n"
     ]
    },
    {
     "name": "stderr",
     "output_type": "stream",
     "text": [
      "Memproses:  73%|██████████████████████████████████████████████████                   | 407/561 [15:38<05:30,  2.15s/it]"
     ]
    },
    {
     "name": "stdout",
     "output_type": "stream",
     "text": [
      "[408] P47901 → 1 domain: PF00001\n"
     ]
    },
    {
     "name": "stderr",
     "output_type": "stream",
     "text": [
      "Memproses:  73%|██████████████████████████████████████████████████▏                  | 408/561 [15:40<05:24,  2.12s/it]"
     ]
    },
    {
     "name": "stdout",
     "output_type": "stream",
     "text": [
      "[409] Q16665 → 5 domain: PF00989, PF08447, PF08778, PF11413, PF23171\n"
     ]
    },
    {
     "name": "stderr",
     "output_type": "stream",
     "text": [
      "Memproses:  73%|██████████████████████████████████████████████████▎                  | 409/561 [15:42<05:19,  2.10s/it]"
     ]
    },
    {
     "name": "stdout",
     "output_type": "stream",
     "text": [
      "[410] Q5VWK5 → Tidak ditemukan domain Pfam.\n"
     ]
    },
    {
     "name": "stderr",
     "output_type": "stream",
     "text": [
      "Memproses:  73%|██████████████████████████████████████████████████▍                  | 410/561 [15:44<05:15,  2.09s/it]"
     ]
    },
    {
     "name": "stdout",
     "output_type": "stream",
     "text": [
      "[411] P43003 → 1 domain: PF00375\n"
     ]
    },
    {
     "name": "stderr",
     "output_type": "stream",
     "text": [
      "Memproses:  73%|██████████████████████████████████████████████████▌                  | 411/561 [15:46<05:12,  2.08s/it]"
     ]
    },
    {
     "name": "stdout",
     "output_type": "stream",
     "text": [
      "[412] P07195 → 2 domain: PF00056, PF02866\n"
     ]
    },
    {
     "name": "stderr",
     "output_type": "stream",
     "text": [
      "Memproses:  73%|██████████████████████████████████████████████████▋                  | 412/561 [15:48<05:10,  2.08s/it]"
     ]
    },
    {
     "name": "stdout",
     "output_type": "stream",
     "text": [
      "[413] P17948 → 8 domain: PF00047, PF07679, PF07714, PF13927, PF17988, PF21339, PF22854, PF22971\n"
     ]
    },
    {
     "name": "stderr",
     "output_type": "stream",
     "text": [
      "Memproses:  74%|██████████████████████████████████████████████████▊                  | 413/561 [15:51<05:08,  2.09s/it]"
     ]
    },
    {
     "name": "stdout",
     "output_type": "stream",
     "text": [
      "[414] P05121 → 1 domain: PF00079\n"
     ]
    },
    {
     "name": "stderr",
     "output_type": "stream",
     "text": [
      "Memproses:  74%|██████████████████████████████████████████████████▉                  | 414/561 [15:53<05:09,  2.11s/it]"
     ]
    },
    {
     "name": "stdout",
     "output_type": "stream",
     "text": [
      "[415] O00767 → Tidak ditemukan domain Pfam.\n"
     ]
    },
    {
     "name": "stderr",
     "output_type": "stream",
     "text": [
      "Memproses:  74%|███████████████████████████████████████████████████                  | 415/561 [15:55<05:06,  2.10s/it]"
     ]
    },
    {
     "name": "stdout",
     "output_type": "stream",
     "text": [
      "[416] P30530 → 3 domain: PF00041, PF07714, PF13927\n"
     ]
    },
    {
     "name": "stderr",
     "output_type": "stream",
     "text": [
      "Memproses:  74%|███████████████████████████████████████████████████▏                 | 416/561 [15:57<05:06,  2.11s/it]"
     ]
    },
    {
     "name": "stdout",
     "output_type": "stream",
     "text": [
      "[417] P55201 → 5 domain: PF00439, PF00855, PF10513, PF13831, PF13832\n"
     ]
    },
    {
     "name": "stderr",
     "output_type": "stream",
     "text": [
      "Memproses:  74%|███████████████████████████████████████████████████▎                 | 417/561 [15:59<05:03,  2.10s/it]"
     ]
    },
    {
     "name": "stdout",
     "output_type": "stream",
     "text": [
      "[418] Q9HBX9 → 3 domain: PF00001, PF00057, PF13855\n"
     ]
    },
    {
     "name": "stderr",
     "output_type": "stream",
     "text": [
      "Memproses:  75%|███████████████████████████████████████████████████▍                 | 418/561 [16:01<04:59,  2.09s/it]"
     ]
    },
    {
     "name": "stdout",
     "output_type": "stream",
     "text": [
      "[419] P06493 → 1 domain: PF00069\n"
     ]
    },
    {
     "name": "stderr",
     "output_type": "stream",
     "text": [
      "Memproses:  75%|███████████████████████████████████████████████████▌                 | 419/561 [16:03<04:55,  2.08s/it]"
     ]
    },
    {
     "name": "stdout",
     "output_type": "stream",
     "text": [
      "[420] P35790 → 1 domain: PF01633\n"
     ]
    },
    {
     "name": "stderr",
     "output_type": "stream",
     "text": [
      "Memproses:  75%|███████████████████████████████████████████████████▋                 | 420/561 [16:05<04:52,  2.08s/it]"
     ]
    },
    {
     "name": "stdout",
     "output_type": "stream",
     "text": [
      "[421] P56524 → 2 domain: PF00850, PF12203\n"
     ]
    },
    {
     "name": "stderr",
     "output_type": "stream",
     "text": [
      "Memproses:  75%|███████████████████████████████████████████████████▊                 | 421/561 [16:07<04:51,  2.08s/it]"
     ]
    },
    {
     "name": "stdout",
     "output_type": "stream",
     "text": [
      "[422] P43490 → 2 domain: PF04095, PF18127\n"
     ]
    },
    {
     "name": "stderr",
     "output_type": "stream",
     "text": [
      "Memproses:  75%|███████████████████████████████████████████████████▉                 | 422/561 [16:09<04:48,  2.08s/it]"
     ]
    },
    {
     "name": "stdout",
     "output_type": "stream",
     "text": [
      "[423] P21728 → 1 domain: PF00001\n"
     ]
    },
    {
     "name": "stderr",
     "output_type": "stream",
     "text": [
      "Memproses:  75%|████████████████████████████████████████████████████                 | 423/561 [16:11<04:47,  2.08s/it]"
     ]
    },
    {
     "name": "stdout",
     "output_type": "stream",
     "text": [
      "[424] P32246 → 1 domain: PF00001\n"
     ]
    },
    {
     "name": "stderr",
     "output_type": "stream",
     "text": [
      "Memproses:  76%|████████████████████████████████████████████████████▏                | 424/561 [16:14<04:48,  2.11s/it]"
     ]
    },
    {
     "name": "stdout",
     "output_type": "stream",
     "text": [
      "[425] Q08881 → 5 domain: PF00017, PF00018, PF00169, PF00779, PF07714\n"
     ]
    },
    {
     "name": "stderr",
     "output_type": "stream",
     "text": [
      "Memproses:  76%|████████████████████████████████████████████████████▎                | 425/561 [16:16<04:45,  2.10s/it]"
     ]
    },
    {
     "name": "stdout",
     "output_type": "stream",
     "text": [
      "[426] Q14432 → 1 domain: PF00233\n"
     ]
    },
    {
     "name": "stderr",
     "output_type": "stream",
     "text": [
      "Memproses:  76%|████████████████████████████████████████████████████▍                | 426/561 [16:18<04:42,  2.09s/it]"
     ]
    },
    {
     "name": "stdout",
     "output_type": "stream",
     "text": [
      "[427] Q5NUL3 → 1 domain: PF00001\n"
     ]
    },
    {
     "name": "stderr",
     "output_type": "stream",
     "text": [
      "Memproses:  76%|████████████████████████████████████████████████████▌                | 427/561 [16:20<04:43,  2.11s/it]"
     ]
    },
    {
     "name": "stdout",
     "output_type": "stream",
     "text": [
      "[428] Q92793 → 8 domain: PF00439, PF00569, PF02135, PF02172, PF06001, PF08214, PF09030, PF23570\n"
     ]
    },
    {
     "name": "stderr",
     "output_type": "stream",
     "text": [
      "Memproses:  76%|████████████████████████████████████████████████████▋                | 428/561 [16:22<04:40,  2.11s/it]"
     ]
    },
    {
     "name": "stdout",
     "output_type": "stream",
     "text": [
      "[429] P13569 → 3 domain: PF00005, PF00664, PF14396\n"
     ]
    },
    {
     "name": "stderr",
     "output_type": "stream",
     "text": [
      "Memproses:  76%|████████████████████████████████████████████████████▊                | 429/561 [16:24<04:37,  2.10s/it]"
     ]
    },
    {
     "name": "stdout",
     "output_type": "stream",
     "text": [
      "[430] Q99558 → 1 domain: PF00069\n"
     ]
    },
    {
     "name": "stderr",
     "output_type": "stream",
     "text": [
      "Memproses:  77%|████████████████████████████████████████████████████▉                | 430/561 [16:26<04:37,  2.12s/it]"
     ]
    },
    {
     "name": "stdout",
     "output_type": "stream",
     "text": [
      "[431] P43403 → 2 domain: PF00017, PF07714\n"
     ]
    },
    {
     "name": "stderr",
     "output_type": "stream",
     "text": [
      "Memproses:  77%|█████████████████████████████████████████████████████                | 431/561 [16:28<04:33,  2.10s/it]"
     ]
    },
    {
     "name": "stdout",
     "output_type": "stream",
     "text": [
      "[432] P52732 → 2 domain: PF00225, PF13931\n"
     ]
    },
    {
     "name": "stderr",
     "output_type": "stream",
     "text": [
      "Memproses:  77%|█████████████████████████████████████████████████████▏               | 432/561 [16:31<04:48,  2.23s/it]"
     ]
    },
    {
     "name": "stdout",
     "output_type": "stream",
     "text": [
      "[433] P49759 → 1 domain: PF00069\n"
     ]
    },
    {
     "name": "stderr",
     "output_type": "stream",
     "text": [
      "Memproses:  77%|█████████████████████████████████████████████████████▎               | 433/561 [16:33<04:38,  2.18s/it]"
     ]
    },
    {
     "name": "stdout",
     "output_type": "stream",
     "text": [
      "[434] Q9NUW8 → 1 domain: PF06087\n"
     ]
    },
    {
     "name": "stderr",
     "output_type": "stream",
     "text": [
      "Memproses:  77%|█████████████████████████████████████████████████████▍               | 434/561 [16:35<04:31,  2.14s/it]"
     ]
    },
    {
     "name": "stdout",
     "output_type": "stream",
     "text": [
      "[435] P22460 → 2 domain: PF00520, PF02214\n"
     ]
    },
    {
     "name": "stderr",
     "output_type": "stream",
     "text": [
      "Memproses:  78%|█████████████████████████████████████████████████████▌               | 435/561 [16:37<04:28,  2.13s/it]"
     ]
    },
    {
     "name": "stdout",
     "output_type": "stream",
     "text": [
      "[436] P21589 → 2 domain: PF00149, PF02872\n"
     ]
    },
    {
     "name": "stderr",
     "output_type": "stream",
     "text": [
      "Memproses:  78%|█████████████████████████████████████████████████████▋               | 436/561 [16:39<04:24,  2.12s/it]"
     ]
    },
    {
     "name": "stdout",
     "output_type": "stream",
     "text": [
      "[437] Q02127 → 1 domain: PF01180\n"
     ]
    },
    {
     "name": "stderr",
     "output_type": "stream",
     "text": [
      "Memproses:  78%|█████████████████████████████████████████████████████▋               | 437/561 [16:41<04:20,  2.10s/it]"
     ]
    },
    {
     "name": "stdout",
     "output_type": "stream",
     "text": [
      "[438] O75460 → 2 domain: PF00069, PF06479\n"
     ]
    },
    {
     "name": "stderr",
     "output_type": "stream",
     "text": [
      "Memproses:  78%|█████████████████████████████████████████████████████▊               | 438/561 [16:43<04:16,  2.09s/it]"
     ]
    },
    {
     "name": "stdout",
     "output_type": "stream",
     "text": [
      "[439] Q9UQL6 → 2 domain: PF00850, PF12203\n"
     ]
    },
    {
     "name": "stderr",
     "output_type": "stream",
     "text": [
      "Memproses:  78%|█████████████████████████████████████████████████████▉               | 439/561 [16:45<04:14,  2.08s/it]"
     ]
    },
    {
     "name": "stdout",
     "output_type": "stream",
     "text": [
      "[440] Q8WUI4 → 1 domain: PF00850\n"
     ]
    },
    {
     "name": "stderr",
     "output_type": "stream",
     "text": [
      "Memproses:  78%|██████████████████████████████████████████████████████               | 440/561 [16:48<04:13,  2.09s/it]"
     ]
    },
    {
     "name": "stdout",
     "output_type": "stream",
     "text": [
      "[441] P34947 → 2 domain: PF00069, PF00615\n"
     ]
    },
    {
     "name": "stderr",
     "output_type": "stream",
     "text": [
      "Memproses:  79%|██████████████████████████████████████████████████████▏              | 441/561 [16:50<04:11,  2.10s/it]"
     ]
    },
    {
     "name": "stdout",
     "output_type": "stream",
     "text": [
      "[442] O94925 → 3 domain: PF04960, PF12796, PF17959\n"
     ]
    },
    {
     "name": "stderr",
     "output_type": "stream",
     "text": [
      "Memproses:  79%|██████████████████████████████████████████████████████▎              | 442/561 [16:52<04:10,  2.10s/it]"
     ]
    },
    {
     "name": "stdout",
     "output_type": "stream",
     "text": [
      "[443] Q9UKV0 → 2 domain: PF00850, PF12203\n"
     ]
    },
    {
     "name": "stderr",
     "output_type": "stream",
     "text": [
      "Memproses:  79%|██████████████████████████████████████████████████████▍              | 443/561 [16:54<04:06,  2.09s/it]"
     ]
    },
    {
     "name": "stdout",
     "output_type": "stream",
     "text": [
      "[444] P00374 → 1 domain: PF00186\n"
     ]
    },
    {
     "name": "stderr",
     "output_type": "stream",
     "text": [
      "Memproses:  79%|██████████████████████████████████████████████████████▌              | 444/561 [16:56<04:04,  2.09s/it]"
     ]
    },
    {
     "name": "stdout",
     "output_type": "stream",
     "text": [
      "[445] P29275 → 1 domain: PF00001\n"
     ]
    },
    {
     "name": "stderr",
     "output_type": "stream",
     "text": [
      "Memproses:  79%|██████████████████████████████████████████████████████▋              | 445/561 [16:58<04:03,  2.10s/it]"
     ]
    },
    {
     "name": "stdout",
     "output_type": "stream",
     "text": [
      "[446] Q9Y5X4 → 2 domain: PF00104, PF00105\n"
     ]
    },
    {
     "name": "stderr",
     "output_type": "stream",
     "text": [
      "Memproses:  80%|██████████████████████████████████████████████████████▊              | 446/561 [17:00<04:01,  2.10s/it]"
     ]
    },
    {
     "name": "stdout",
     "output_type": "stream",
     "text": [
      "[447] P48736 → 5 domain: PF00454, PF00613, PF00792, PF00794, PF19710\n"
     ]
    },
    {
     "name": "stderr",
     "output_type": "stream",
     "text": [
      "Memproses:  80%|██████████████████████████████████████████████████████▉              | 447/561 [17:02<03:59,  2.10s/it]"
     ]
    },
    {
     "name": "stdout",
     "output_type": "stream",
     "text": [
      "[448] P08588 → 1 domain: PF00001\n"
     ]
    },
    {
     "name": "stderr",
     "output_type": "stream",
     "text": [
      "Memproses:  80%|███████████████████████████████████████████████████████              | 448/561 [17:04<03:57,  2.11s/it]"
     ]
    },
    {
     "name": "stdout",
     "output_type": "stream",
     "text": [
      "[449] P36507 → 1 domain: PF00069\n"
     ]
    },
    {
     "name": "stderr",
     "output_type": "stream",
     "text": [
      "Memproses:  80%|███████████████████████████████████████████████████████▏             | 449/561 [17:06<03:55,  2.10s/it]"
     ]
    },
    {
     "name": "stdout",
     "output_type": "stream",
     "text": [
      "[450] P49840 → 1 domain: PF00069\n"
     ]
    },
    {
     "name": "stderr",
     "output_type": "stream",
     "text": [
      "Memproses:  80%|███████████████████████████████████████████████████████▎             | 450/561 [17:09<03:53,  2.10s/it]"
     ]
    },
    {
     "name": "stdout",
     "output_type": "stream",
     "text": [
      "[451] Q9H244 → 1 domain: PF00001\n"
     ]
    },
    {
     "name": "stderr",
     "output_type": "stream",
     "text": [
      "Memproses:  80%|███████████████████████████████████████████████████████▍             | 451/561 [17:11<03:50,  2.09s/it]"
     ]
    },
    {
     "name": "stdout",
     "output_type": "stream",
     "text": [
      "[452] Q96GD4 → 1 domain: PF00069\n"
     ]
    },
    {
     "name": "stderr",
     "output_type": "stream",
     "text": [
      "Memproses:  81%|███████████████████████████████████████████████████████▌             | 452/561 [17:13<03:47,  2.08s/it]"
     ]
    },
    {
     "name": "stdout",
     "output_type": "stream",
     "text": [
      "[453] Q9Y2T6 → 1 domain: PF00001\n"
     ]
    },
    {
     "name": "stderr",
     "output_type": "stream",
     "text": [
      "Memproses:  81%|███████████████████████████████████████████████████████▋             | 453/561 [17:15<03:44,  2.08s/it]"
     ]
    },
    {
     "name": "stdout",
     "output_type": "stream",
     "text": [
      "[454] Q13627 → 1 domain: PF00069\n"
     ]
    },
    {
     "name": "stderr",
     "output_type": "stream",
     "text": [
      "Memproses:  81%|███████████████████████████████████████████████████████▊             | 454/561 [17:17<03:41,  2.07s/it]"
     ]
    },
    {
     "name": "stdout",
     "output_type": "stream",
     "text": [
      "[455] P19784 → 1 domain: PF00069\n"
     ]
    },
    {
     "name": "stderr",
     "output_type": "stream",
     "text": [
      "Memproses:  81%|███████████████████████████████████████████████████████▉             | 455/561 [17:19<03:39,  2.07s/it]"
     ]
    },
    {
     "name": "stdout",
     "output_type": "stream",
     "text": [
      "[456] Q05586 → 3 domain: PF00060, PF01094, PF10613\n"
     ]
    },
    {
     "name": "stderr",
     "output_type": "stream",
     "text": [
      "Memproses:  81%|████████████████████████████████████████████████████████             | 456/561 [17:21<03:36,  2.07s/it]"
     ]
    },
    {
     "name": "stdout",
     "output_type": "stream",
     "text": [
      "[457] Q9Y337 → 1 domain: PF00089\n"
     ]
    },
    {
     "name": "stderr",
     "output_type": "stream",
     "text": [
      "Memproses:  81%|████████████████████████████████████████████████████████▏            | 457/561 [17:23<03:35,  2.07s/it]"
     ]
    },
    {
     "name": "stdout",
     "output_type": "stream",
     "text": [
      "[458] P34972 → 1 domain: PF00001\n"
     ]
    },
    {
     "name": "stderr",
     "output_type": "stream",
     "text": [
      "Memproses:  82%|████████████████████████████████████████████████████████▎            | 458/561 [17:25<03:34,  2.08s/it]"
     ]
    },
    {
     "name": "stdout",
     "output_type": "stream",
     "text": [
      "[459] P00519 → 4 domain: PF00017, PF00018, PF07714, PF08919\n"
     ]
    },
    {
     "name": "stderr",
     "output_type": "stream",
     "text": [
      "Memproses:  82%|████████████████████████████████████████████████████████▍            | 459/561 [17:27<03:32,  2.09s/it]"
     ]
    },
    {
     "name": "stdout",
     "output_type": "stream",
     "text": [
      "[460] P08236 → 3 domain: PF00703, PF02836, PF02837\n"
     ]
    },
    {
     "name": "stderr",
     "output_type": "stream",
     "text": [
      "Memproses:  82%|████████████████████████████████████████████████████████▌            | 460/561 [17:29<03:31,  2.09s/it]"
     ]
    },
    {
     "name": "stdout",
     "output_type": "stream",
     "text": [
      "[461] P80365 → 1 domain: PF00106\n"
     ]
    },
    {
     "name": "stderr",
     "output_type": "stream",
     "text": [
      "Memproses:  82%|████████████████████████████████████████████████████████▋            | 461/561 [17:32<03:44,  2.25s/it]"
     ]
    },
    {
     "name": "stdout",
     "output_type": "stream",
     "text": [
      "[462] P50579 → 1 domain: PF00557\n"
     ]
    },
    {
     "name": "stderr",
     "output_type": "stream",
     "text": [
      "Memproses:  82%|████████████████████████████████████████████████████████▊            | 462/561 [17:34<03:36,  2.18s/it]"
     ]
    },
    {
     "name": "stdout",
     "output_type": "stream",
     "text": [
      "[463] Q14145 → 4 domain: PF00651, PF01344, PF07707, PF24681\n"
     ]
    },
    {
     "name": "stderr",
     "output_type": "stream",
     "text": [
      "Memproses:  83%|████████████████████████████████████████████████████████▉            | 463/561 [17:36<03:30,  2.14s/it]"
     ]
    },
    {
     "name": "stdout",
     "output_type": "stream",
     "text": [
      "[464] P10827 → 2 domain: PF00104, PF00105\n"
     ]
    },
    {
     "name": "stderr",
     "output_type": "stream",
     "text": [
      "Memproses:  83%|█████████████████████████████████████████████████████████            | 464/561 [17:38<03:26,  2.13s/it]"
     ]
    },
    {
     "name": "stdout",
     "output_type": "stream",
     "text": [
      "[465] Q99250 → 4 domain: PF00520, PF06512, PF11933, PF24609\n"
     ]
    },
    {
     "name": "stderr",
     "output_type": "stream",
     "text": [
      "Memproses:  83%|█████████████████████████████████████████████████████████▏           | 465/561 [17:40<03:22,  2.11s/it]"
     ]
    },
    {
     "name": "stdout",
     "output_type": "stream",
     "text": [
      "[466] Q58F21 → 3 domain: PF00439, PF17035, PF17105\n"
     ]
    },
    {
     "name": "stderr",
     "output_type": "stream",
     "text": [
      "Memproses:  83%|█████████████████████████████████████████████████████████▎           | 466/561 [17:42<03:19,  2.10s/it]"
     ]
    },
    {
     "name": "stdout",
     "output_type": "stream",
     "text": [
      "[467] Q9NS75 → 1 domain: PF00001\n"
     ]
    },
    {
     "name": "stderr",
     "output_type": "stream",
     "text": [
      "Memproses:  83%|█████████████████████████████████████████████████████████▍           | 467/561 [17:44<03:17,  2.10s/it]"
     ]
    },
    {
     "name": "stdout",
     "output_type": "stream",
     "text": [
      "[468] P35557 → 2 domain: PF00349, PF03727\n"
     ]
    },
    {
     "name": "stderr",
     "output_type": "stream",
     "text": [
      "Memproses:  83%|█████████████████████████████████████████████████████████▌           | 468/561 [17:46<03:14,  2.09s/it]"
     ]
    },
    {
     "name": "stdout",
     "output_type": "stream",
     "text": [
      "[469] O00206 → 4 domain: PF01582, PF12799, PF13516, PF13855\n"
     ]
    },
    {
     "name": "stderr",
     "output_type": "stream",
     "text": [
      "Memproses:  84%|█████████████████████████████████████████████████████████▋           | 469/561 [17:48<03:11,  2.09s/it]"
     ]
    },
    {
     "name": "stdout",
     "output_type": "stream",
     "text": [
      "[470] O00329 → 5 domain: PF00454, PF00613, PF00792, PF00794, PF02192\n"
     ]
    },
    {
     "name": "stderr",
     "output_type": "stream",
     "text": [
      "Memproses:  84%|█████████████████████████████████████████████████████████▊           | 470/561 [17:51<03:10,  2.09s/it]"
     ]
    },
    {
     "name": "stdout",
     "output_type": "stream",
     "text": [
      "[471] P24941 → 1 domain: PF00069\n"
     ]
    },
    {
     "name": "stderr",
     "output_type": "stream",
     "text": [
      "Memproses:  84%|█████████████████████████████████████████████████████████▉           | 471/561 [17:53<03:08,  2.09s/it]"
     ]
    },
    {
     "name": "stdout",
     "output_type": "stream",
     "text": [
      "[472] Q9UBE0 → 1 domain: PF00899\n"
     ]
    },
    {
     "name": "stderr",
     "output_type": "stream",
     "text": [
      "Memproses:  84%|██████████████████████████████████████████████████████████           | 472/561 [17:55<03:06,  2.10s/it]"
     ]
    },
    {
     "name": "stdout",
     "output_type": "stream",
     "text": [
      "[473] P33527 → 3 domain: PF00005, PF00664, PF24357\n"
     ]
    },
    {
     "name": "stderr",
     "output_type": "stream",
     "text": [
      "Memproses:  84%|██████████████████████████████████████████████████████████▏          | 473/561 [17:57<03:04,  2.10s/it]"
     ]
    },
    {
     "name": "stdout",
     "output_type": "stream",
     "text": [
      "[474] P28223 → 1 domain: PF00001\n"
     ]
    },
    {
     "name": "stderr",
     "output_type": "stream",
     "text": [
      "Memproses:  84%|██████████████████████████████████████████████████████████▎          | 474/561 [17:59<03:02,  2.10s/it]"
     ]
    },
    {
     "name": "stdout",
     "output_type": "stream",
     "text": [
      "[475] P11597 → 2 domain: PF01273, PF02886\n"
     ]
    },
    {
     "name": "stderr",
     "output_type": "stream",
     "text": [
      "Memproses:  85%|██████████████████████████████████████████████████████████▍          | 475/561 [18:01<03:00,  2.09s/it]"
     ]
    },
    {
     "name": "stdout",
     "output_type": "stream",
     "text": [
      "[476] O00519 → 1 domain: PF01425\n"
     ]
    },
    {
     "name": "stderr",
     "output_type": "stream",
     "text": [
      "Memproses:  85%|██████████████████████████████████████████████████████████▌          | 476/561 [18:03<02:59,  2.11s/it]"
     ]
    },
    {
     "name": "stdout",
     "output_type": "stream",
     "text": [
      "[477] Q14790 → 2 domain: PF00656, PF01335\n"
     ]
    },
    {
     "name": "stderr",
     "output_type": "stream",
     "text": [
      "Memproses:  85%|██████████████████████████████████████████████████████████▋          | 477/561 [18:05<02:58,  2.12s/it]"
     ]
    },
    {
     "name": "stdout",
     "output_type": "stream",
     "text": [
      "[478] P41597 → 1 domain: PF00001\n"
     ]
    },
    {
     "name": "stderr",
     "output_type": "stream",
     "text": [
      "Memproses:  85%|██████████████████████████████████████████████████████████▊          | 478/561 [18:07<02:54,  2.11s/it]"
     ]
    },
    {
     "name": "stdout",
     "output_type": "stream",
     "text": [
      "[479] O15054 → 3 domain: PF02373, PF21322, PF21326\n"
     ]
    },
    {
     "name": "stderr",
     "output_type": "stream",
     "text": [
      "Memproses:  85%|██████████████████████████████████████████████████████████▉          | 479/561 [18:10<02:52,  2.10s/it]"
     ]
    },
    {
     "name": "stdout",
     "output_type": "stream",
     "text": [
      "[480] P42338 → 5 domain: PF00454, PF00613, PF00792, PF00794, PF02192\n"
     ]
    },
    {
     "name": "stderr",
     "output_type": "stream",
     "text": [
      "Memproses:  86%|███████████████████████████████████████████████████████████          | 480/561 [18:12<02:48,  2.09s/it]"
     ]
    },
    {
     "name": "stdout",
     "output_type": "stream",
     "text": [
      "[481] Q9NP59 → 1 domain: PF06963\n"
     ]
    },
    {
     "name": "stderr",
     "output_type": "stream",
     "text": [
      "Memproses:  86%|███████████████████████████████████████████████████████████▏         | 481/561 [18:15<03:17,  2.47s/it]"
     ]
    },
    {
     "name": "stdout",
     "output_type": "stream",
     "text": [
      "[482] Q99683 → 5 domain: PF00069, PF13281, PF19039, PF20302, PF20309\n"
     ]
    },
    {
     "name": "stderr",
     "output_type": "stream",
     "text": [
      "Memproses:  86%|███████████████████████████████████████████████████████████▎         | 482/561 [18:17<03:05,  2.35s/it]"
     ]
    },
    {
     "name": "stdout",
     "output_type": "stream",
     "text": [
      "[483] P78540 → 1 domain: PF00491\n"
     ]
    },
    {
     "name": "stderr",
     "output_type": "stream",
     "text": [
      "Memproses:  86%|███████████████████████████████████████████████████████████▍         | 483/561 [18:19<03:03,  2.36s/it]"
     ]
    },
    {
     "name": "stdout",
     "output_type": "stream",
     "text": [
      "[484] P14416 → 1 domain: PF00001\n"
     ]
    },
    {
     "name": "stderr",
     "output_type": "stream",
     "text": [
      "Memproses:  86%|███████████████████████████████████████████████████████████▌         | 484/561 [18:21<02:54,  2.27s/it]"
     ]
    },
    {
     "name": "stdout",
     "output_type": "stream",
     "text": [
      "[485] Q92523 → 2 domain: PF00755, PF16484\n"
     ]
    },
    {
     "name": "stderr",
     "output_type": "stream",
     "text": [
      "Memproses:  86%|███████████████████████████████████████████████████████████▋         | 485/561 [18:24<02:48,  2.22s/it]"
     ]
    },
    {
     "name": "stdout",
     "output_type": "stream",
     "text": [
      "[486] P52895 → 1 domain: PF00248\n"
     ]
    },
    {
     "name": "stderr",
     "output_type": "stream",
     "text": [
      "Memproses:  87%|███████████████████████████████████████████████████████████▊         | 486/561 [18:26<02:44,  2.20s/it]"
     ]
    },
    {
     "name": "stdout",
     "output_type": "stream",
     "text": [
      "[487] P28065 → 1 domain: PF00227\n"
     ]
    },
    {
     "name": "stderr",
     "output_type": "stream",
     "text": [
      "Memproses:  87%|███████████████████████████████████████████████████████████▉         | 487/561 [18:28<02:41,  2.18s/it]"
     ]
    },
    {
     "name": "stdout",
     "output_type": "stream",
     "text": [
      "[488] Q09472 → 8 domain: PF00439, PF00569, PF02135, PF02172, PF06001, PF08214, PF09030, PF23570\n"
     ]
    },
    {
     "name": "stderr",
     "output_type": "stream",
     "text": [
      "Memproses:  87%|████████████████████████████████████████████████████████████         | 488/561 [18:30<02:37,  2.16s/it]"
     ]
    },
    {
     "name": "stdout",
     "output_type": "stream",
     "text": [
      "[489] Q12851 → 2 domain: PF00069, PF00780\n"
     ]
    },
    {
     "name": "stderr",
     "output_type": "stream",
     "text": [
      "Memproses:  87%|████████████████████████████████████████████████████████████▏        | 489/561 [18:32<02:35,  2.15s/it]"
     ]
    },
    {
     "name": "stdout",
     "output_type": "stream",
     "text": [
      "[490] P61964 → 1 domain: PF25175\n"
     ]
    },
    {
     "name": "stderr",
     "output_type": "stream",
     "text": [
      "Memproses:  87%|████████████████████████████████████████████████████████████▎        | 490/561 [18:34<02:32,  2.15s/it]"
     ]
    },
    {
     "name": "stdout",
     "output_type": "stream",
     "text": [
      "[491] P46095 → 1 domain: PF00001\n"
     ]
    },
    {
     "name": "stderr",
     "output_type": "stream",
     "text": [
      "Memproses:  88%|████████████████████████████████████████████████████████████▍        | 491/561 [18:36<02:28,  2.13s/it]"
     ]
    },
    {
     "name": "stdout",
     "output_type": "stream",
     "text": [
      "[492] Q16853 → 3 domain: PF01179, PF02727, PF02728\n"
     ]
    },
    {
     "name": "stderr",
     "output_type": "stream",
     "text": [
      "Memproses:  88%|████████████████████████████████████████████████████████████▌        | 492/561 [18:38<02:26,  2.13s/it]"
     ]
    },
    {
     "name": "stdout",
     "output_type": "stream",
     "text": [
      "[493] Q13133 → 2 domain: PF00104, PF00105\n"
     ]
    },
    {
     "name": "stderr",
     "output_type": "stream",
     "text": [
      "Memproses:  88%|████████████████████████████████████████████████████████████▋        | 493/561 [18:41<02:38,  2.33s/it]"
     ]
    },
    {
     "name": "stdout",
     "output_type": "stream",
     "text": [
      "[494] P04629 → 4 domain: PF07714, PF13855, PF16920, PF18613\n"
     ]
    },
    {
     "name": "stderr",
     "output_type": "stream",
     "text": [
      "Memproses:  88%|████████████████████████████████████████████████████████████▊        | 494/561 [18:43<02:30,  2.25s/it]"
     ]
    },
    {
     "name": "stdout",
     "output_type": "stream",
     "text": [
      "[495] O95977 → 1 domain: PF00001\n"
     ]
    },
    {
     "name": "stderr",
     "output_type": "stream",
     "text": [
      "Memproses:  88%|████████████████████████████████████████████████████████████▉        | 495/561 [18:45<02:25,  2.20s/it]"
     ]
    },
    {
     "name": "stdout",
     "output_type": "stream",
     "text": [
      "[496] P11509 → 1 domain: PF00067\n"
     ]
    },
    {
     "name": "stderr",
     "output_type": "stream",
     "text": [
      "Memproses:  88%|█████████████████████████████████████████████████████████████        | 496/561 [18:48<02:21,  2.18s/it]"
     ]
    },
    {
     "name": "stdout",
     "output_type": "stream",
     "text": [
      "[497] P51681 → 1 domain: PF00001\n"
     ]
    },
    {
     "name": "stderr",
     "output_type": "stream",
     "text": [
      "Memproses:  89%|█████████████████████████████████████████████████████████████▏       | 497/561 [18:50<02:18,  2.17s/it]"
     ]
    },
    {
     "name": "stdout",
     "output_type": "stream",
     "text": [
      "[498] Q9UK32 → 2 domain: PF00069, PF00433\n"
     ]
    },
    {
     "name": "stderr",
     "output_type": "stream",
     "text": [
      "Memproses:  89%|█████████████████████████████████████████████████████████████▎       | 498/561 [18:52<02:14,  2.13s/it]"
     ]
    },
    {
     "name": "stdout",
     "output_type": "stream",
     "text": [
      "[499] Q6L5J4 → 1 domain: PF00001\n"
     ]
    },
    {
     "name": "stderr",
     "output_type": "stream",
     "text": [
      "Memproses:  89%|█████████████████████████████████████████████████████████████▎       | 499/561 [18:55<02:28,  2.40s/it]"
     ]
    },
    {
     "name": "stdout",
     "output_type": "stream",
     "text": [
      "[500] P08908 → 1 domain: PF00001\n"
     ]
    },
    {
     "name": "stderr",
     "output_type": "stream",
     "text": [
      "Memproses:  89%|█████████████████████████████████████████████████████████████▍       | 500/561 [18:57<02:19,  2.29s/it]"
     ]
    },
    {
     "name": "stdout",
     "output_type": "stream",
     "text": [
      "[501] P62993 → 2 domain: PF00017, PF00018\n"
     ]
    },
    {
     "name": "stderr",
     "output_type": "stream",
     "text": [
      "Memproses:  89%|█████████████████████████████████████████████████████████████▌       | 501/561 [18:59<02:13,  2.23s/it]"
     ]
    },
    {
     "name": "stdout",
     "output_type": "stream",
     "text": [
      "[502] Q13526 → 2 domain: PF00397, PF00639\n"
     ]
    },
    {
     "name": "stderr",
     "output_type": "stream",
     "text": [
      "Memproses:  89%|█████████████████████████████████████████████████████████████▋       | 502/561 [19:01<02:08,  2.18s/it]"
     ]
    },
    {
     "name": "stdout",
     "output_type": "stream",
     "text": [
      "[503] Q8IU80 → 3 domain: PF00057, PF00089, PF01390\n"
     ]
    },
    {
     "name": "stderr",
     "output_type": "stream",
     "text": [
      "Memproses:  90%|█████████████████████████████████████████████████████████████▊       | 503/561 [19:03<02:05,  2.16s/it]"
     ]
    },
    {
     "name": "stdout",
     "output_type": "stream",
     "text": [
      "[504] P11229 → 1 domain: PF00001\n"
     ]
    },
    {
     "name": "stderr",
     "output_type": "stream",
     "text": [
      "Memproses:  90%|█████████████████████████████████████████████████████████████▉       | 504/561 [19:05<02:01,  2.13s/it]"
     ]
    },
    {
     "name": "stdout",
     "output_type": "stream",
     "text": [
      "[505] Q86WV6 → 2 domain: PF15009, PF23417\n"
     ]
    },
    {
     "name": "stderr",
     "output_type": "stream",
     "text": [
      "Memproses:  90%|██████████████████████████████████████████████████████████████       | 505/561 [19:07<01:57,  2.11s/it]"
     ]
    },
    {
     "name": "stdout",
     "output_type": "stream",
     "text": [
      "[506] Q2M2I8 → 1 domain: PF00069\n"
     ]
    },
    {
     "name": "stderr",
     "output_type": "stream",
     "text": [
      "Memproses:  90%|██████████████████████████████████████████████████████████████▏      | 506/561 [19:09<01:55,  2.11s/it]"
     ]
    },
    {
     "name": "stdout",
     "output_type": "stream",
     "text": [
      "[507] Q9NPC2 → 1 domain: PF07885\n"
     ]
    },
    {
     "name": "stderr",
     "output_type": "stream",
     "text": [
      "Memproses:  90%|██████████████████████████████████████████████████████████████▎      | 507/561 [19:11<01:53,  2.09s/it]"
     ]
    },
    {
     "name": "stdout",
     "output_type": "stream",
     "text": [
      "[508] P08473 → 2 domain: PF01431, PF05649\n"
     ]
    },
    {
     "name": "stderr",
     "output_type": "stream",
     "text": [
      "Memproses:  91%|██████████████████████████████████████████████████████████████▍      | 508/561 [19:13<01:50,  2.08s/it]"
     ]
    },
    {
     "name": "stdout",
     "output_type": "stream",
     "text": [
      "[509] Q9NYA1 → 1 domain: PF00781\n"
     ]
    },
    {
     "name": "stderr",
     "output_type": "stream",
     "text": [
      "Memproses:  91%|██████████████████████████████████████████████████████████████▌      | 509/561 [19:15<01:48,  2.08s/it]"
     ]
    },
    {
     "name": "stdout",
     "output_type": "stream",
     "text": [
      "[510] P17612 → 1 domain: PF00069\n"
     ]
    },
    {
     "name": "stderr",
     "output_type": "stream",
     "text": [
      "Memproses:  91%|██████████████████████████████████████████████████████████████▋      | 510/561 [19:18<01:45,  2.08s/it]"
     ]
    },
    {
     "name": "stdout",
     "output_type": "stream",
     "text": [
      "[511] O75385 → 3 domain: PF00069, PF12063, PF21127\n"
     ]
    },
    {
     "name": "stderr",
     "output_type": "stream",
     "text": [
      "Memproses:  91%|██████████████████████████████████████████████████████████████▊      | 511/561 [19:20<01:44,  2.09s/it]"
     ]
    },
    {
     "name": "stdout",
     "output_type": "stream",
     "text": [
      "[512] P43004 → 1 domain: PF00375\n"
     ]
    },
    {
     "name": "stderr",
     "output_type": "stream",
     "text": [
      "Memproses:  91%|██████████████████████████████████████████████████████████████▉      | 512/561 [19:22<01:42,  2.09s/it]"
     ]
    },
    {
     "name": "stdout",
     "output_type": "stream",
     "text": [
      "[513] Q9H2K8 → 1 domain: PF00069\n"
     ]
    },
    {
     "name": "stderr",
     "output_type": "stream",
     "text": [
      "Memproses:  91%|███████████████████████████████████████████████████████████████      | 513/561 [19:24<01:39,  2.08s/it]"
     ]
    },
    {
     "name": "stdout",
     "output_type": "stream",
     "text": [
      "[514] Q9NR97 → 2 domain: PF01582, PF13855\n"
     ]
    },
    {
     "name": "stderr",
     "output_type": "stream",
     "text": [
      "Memproses:  92%|███████████████████████████████████████████████████████████████▏     | 514/561 [19:26<01:37,  2.08s/it]"
     ]
    },
    {
     "name": "stdout",
     "output_type": "stream",
     "text": [
      "[515] P37173 → 2 domain: PF07714, PF08917\n"
     ]
    },
    {
     "name": "stderr",
     "output_type": "stream",
     "text": [
      "Memproses:  92%|███████████████████████████████████████████████████████████████▎     | 515/561 [19:28<01:35,  2.09s/it]"
     ]
    },
    {
     "name": "stdout",
     "output_type": "stream",
     "text": [
      "[516] Q9UIQ6 → 3 domain: PF01433, PF11838, PF17900\n"
     ]
    },
    {
     "name": "stderr",
     "output_type": "stream",
     "text": [
      "Memproses:  92%|███████████████████████████████████████████████████████████████▍     | 516/561 [19:30<01:33,  2.07s/it]"
     ]
    },
    {
     "name": "stdout",
     "output_type": "stream",
     "text": [
      "[517] Q9NSY1 → 2 domain: PF00069, PF15282\n"
     ]
    },
    {
     "name": "stderr",
     "output_type": "stream",
     "text": [
      "Memproses:  92%|███████████████████████████████████████████████████████████████▌     | 517/561 [19:32<01:31,  2.07s/it]"
     ]
    },
    {
     "name": "stdout",
     "output_type": "stream",
     "text": [
      "[518] P14867 → 2 domain: PF02931, PF02932\n"
     ]
    },
    {
     "name": "stderr",
     "output_type": "stream",
     "text": [
      "Memproses:  92%|███████████████████████████████████████████████████████████████▋     | 518/561 [19:35<01:38,  2.29s/it]"
     ]
    },
    {
     "name": "stdout",
     "output_type": "stream",
     "text": [
      "[519] Q9UKE5 → 2 domain: PF00069, PF00780\n"
     ]
    },
    {
     "name": "stderr",
     "output_type": "stream",
     "text": [
      "Memproses:  93%|███████████████████████████████████████████████████████████████▊     | 519/561 [19:37<01:33,  2.22s/it]"
     ]
    },
    {
     "name": "stdout",
     "output_type": "stream",
     "text": [
      "[520] Q16584 → 2 domain: PF07714, PF14604\n"
     ]
    },
    {
     "name": "stderr",
     "output_type": "stream",
     "text": [
      "Memproses:  93%|███████████████████████████████████████████████████████████████▉     | 520/561 [19:39<01:32,  2.25s/it]"
     ]
    },
    {
     "name": "stdout",
     "output_type": "stream",
     "text": [
      "[521] P12268 → 2 domain: PF00478, PF00571\n"
     ]
    },
    {
     "name": "stderr",
     "output_type": "stream",
     "text": [
      "Memproses:  93%|████████████████████████████████████████████████████████████████     | 521/561 [19:41<01:27,  2.20s/it]"
     ]
    },
    {
     "name": "stdout",
     "output_type": "stream",
     "text": [
      "[522] Q96DB2 → 1 domain: PF00850\n"
     ]
    },
    {
     "name": "stderr",
     "output_type": "stream",
     "text": [
      "Memproses:  93%|████████████████████████████████████████████████████████████████▏    | 522/561 [19:43<01:24,  2.16s/it]"
     ]
    },
    {
     "name": "stdout",
     "output_type": "stream",
     "text": [
      "[523] P34969 → 1 domain: PF00001\n"
     ]
    },
    {
     "name": "stderr",
     "output_type": "stream",
     "text": [
      "Memproses:  93%|████████████████████████████████████████████████████████████████▎    | 523/561 [19:45<01:21,  2.14s/it]"
     ]
    },
    {
     "name": "stdout",
     "output_type": "stream",
     "text": [
      "[524] O95819 → 2 domain: PF00069, PF00780\n"
     ]
    },
    {
     "name": "stderr",
     "output_type": "stream",
     "text": [
      "Memproses:  93%|████████████████████████████████████████████████████████████████▍    | 524/561 [19:48<01:18,  2.12s/it]"
     ]
    },
    {
     "name": "stdout",
     "output_type": "stream",
     "text": [
      "[525] P46098 → 2 domain: PF02931, PF02932\n"
     ]
    },
    {
     "name": "stderr",
     "output_type": "stream",
     "text": [
      "Memproses:  94%|████████████████████████████████████████████████████████████████▌    | 525/561 [19:50<01:16,  2.12s/it]"
     ]
    },
    {
     "name": "stdout",
     "output_type": "stream",
     "text": [
      "[526] Q13188 → 2 domain: PF00069, PF11629\n"
     ]
    },
    {
     "name": "stderr",
     "output_type": "stream",
     "text": [
      "Memproses:  94%|████████████████████████████████████████████████████████████████▋    | 526/561 [19:52<01:14,  2.12s/it]"
     ]
    },
    {
     "name": "stdout",
     "output_type": "stream",
     "text": [
      "[527] Q9BY41 → 1 domain: PF00850\n"
     ]
    },
    {
     "name": "stderr",
     "output_type": "stream",
     "text": [
      "Memproses:  94%|████████████████████████████████████████████████████████████████▊    | 527/561 [19:54<01:11,  2.11s/it]"
     ]
    },
    {
     "name": "stdout",
     "output_type": "stream",
     "text": [
      "[528] O00311 → 1 domain: PF00069\n"
     ]
    },
    {
     "name": "stderr",
     "output_type": "stream",
     "text": [
      "Memproses:  94%|████████████████████████████████████████████████████████████████▉    | 528/561 [19:56<01:09,  2.11s/it]"
     ]
    },
    {
     "name": "stdout",
     "output_type": "stream",
     "text": [
      "[529] P49760 → 1 domain: PF00069\n"
     ]
    },
    {
     "name": "stderr",
     "output_type": "stream",
     "text": [
      "Memproses:  94%|█████████████████████████████████████████████████████████████████    | 529/561 [19:58<01:07,  2.10s/it]"
     ]
    },
    {
     "name": "stdout",
     "output_type": "stream",
     "text": [
      "[530] P27361 → 1 domain: PF00069\n"
     ]
    },
    {
     "name": "stderr",
     "output_type": "stream",
     "text": [
      "Memproses:  94%|█████████████████████████████████████████████████████████████████▏   | 530/561 [20:00<01:07,  2.19s/it]"
     ]
    },
    {
     "name": "stdout",
     "output_type": "stream",
     "text": [
      "[531] P23975 → 1 domain: PF00209\n"
     ]
    },
    {
     "name": "stderr",
     "output_type": "stream",
     "text": [
      "Memproses:  95%|█████████████████████████████████████████████████████████████████▎   | 531/561 [20:03<01:04,  2.16s/it]"
     ]
    },
    {
     "name": "stdout",
     "output_type": "stream",
     "text": [
      "[532] P02545 → 2 domain: PF00038, PF00932\n"
     ]
    },
    {
     "name": "stderr",
     "output_type": "stream",
     "text": [
      "Memproses:  95%|█████████████████████████████████████████████████████████████████▍   | 532/561 [20:05<01:01,  2.14s/it]"
     ]
    },
    {
     "name": "stdout",
     "output_type": "stream",
     "text": [
      "[533] P31751 → 3 domain: PF00069, PF00169, PF00433\n"
     ]
    },
    {
     "name": "stderr",
     "output_type": "stream",
     "text": [
      "Memproses:  95%|█████████████████████████████████████████████████████████████████▌   | 533/561 [20:07<00:59,  2.12s/it]"
     ]
    },
    {
     "name": "stdout",
     "output_type": "stream",
     "text": [
      "[534] Q9Y243 → 3 domain: PF00069, PF00169, PF00433\n"
     ]
    },
    {
     "name": "stderr",
     "output_type": "stream",
     "text": [
      "Memproses:  95%|█████████████████████████████████████████████████████████████████▋   | 534/561 [20:09<00:56,  2.10s/it]"
     ]
    },
    {
     "name": "stdout",
     "output_type": "stream",
     "text": [
      "[535] Q969S8 → 1 domain: PF00850\n"
     ]
    },
    {
     "name": "stderr",
     "output_type": "stream",
     "text": [
      "Memproses:  95%|█████████████████████████████████████████████████████████████████▊   | 535/561 [20:11<00:54,  2.10s/it]"
     ]
    },
    {
     "name": "stdout",
     "output_type": "stream",
     "text": [
      "[536] P12821 → 1 domain: PF01401\n"
     ]
    },
    {
     "name": "stderr",
     "output_type": "stream",
     "text": [
      "Memproses:  96%|█████████████████████████████████████████████████████████████████▉   | 536/561 [20:13<00:54,  2.16s/it]"
     ]
    },
    {
     "name": "stdout",
     "output_type": "stream",
     "text": [
      "[537] P62937 → 1 domain: PF00160\n"
     ]
    },
    {
     "name": "stderr",
     "output_type": "stream",
     "text": [
      "Memproses:  96%|██████████████████████████████████████████████████████████████████   | 537/561 [20:15<00:51,  2.14s/it]"
     ]
    },
    {
     "name": "stdout",
     "output_type": "stream",
     "text": [
      "[538] P21397 → 1 domain: PF01593\n"
     ]
    },
    {
     "name": "stderr",
     "output_type": "stream",
     "text": [
      "Memproses:  96%|██████████████████████████████████████████████████████████████████▏  | 538/561 [20:17<00:48,  2.13s/it]"
     ]
    },
    {
     "name": "stdout",
     "output_type": "stream",
     "text": [
      "[539] P00492 → 1 domain: PF00156\n"
     ]
    },
    {
     "name": "stderr",
     "output_type": "stream",
     "text": [
      "Memproses:  96%|██████████████████████████████████████████████████████████████████▎  | 539/561 [20:19<00:46,  2.11s/it]"
     ]
    },
    {
     "name": "stdout",
     "output_type": "stream",
     "text": [
      "[540] P14902 → 1 domain: PF01231\n"
     ]
    },
    {
     "name": "stderr",
     "output_type": "stream",
     "text": [
      "Memproses:  96%|██████████████████████████████████████████████████████████████████▍  | 540/561 [20:22<00:44,  2.10s/it]"
     ]
    },
    {
     "name": "stdout",
     "output_type": "stream",
     "text": [
      "[541] P40763 → 5 domain: PF00017, PF01017, PF02864, PF02865, PF21354\n"
     ]
    },
    {
     "name": "stderr",
     "output_type": "stream",
     "text": [
      "Memproses:  96%|██████████████████████████████████████████████████████████████████▌  | 541/561 [20:24<00:42,  2.10s/it]"
     ]
    },
    {
     "name": "stdout",
     "output_type": "stream",
     "text": [
      "[542] O75762 → 3 domain: PF00023, PF00520, PF12796\n"
     ]
    },
    {
     "name": "stderr",
     "output_type": "stream",
     "text": [
      "Memproses:  97%|██████████████████████████████████████████████████████████████████▋  | 542/561 [20:26<00:39,  2.09s/it]"
     ]
    },
    {
     "name": "stdout",
     "output_type": "stream",
     "text": [
      "[543] Q9GZT9 → 2 domain: PF01753, PF13640\n"
     ]
    },
    {
     "name": "stderr",
     "output_type": "stream",
     "text": [
      "Memproses:  97%|██████████████████████████████████████████████████████████████████▊  | 543/561 [20:28<00:37,  2.10s/it]"
     ]
    },
    {
     "name": "stdout",
     "output_type": "stream",
     "text": [
      "[544] O15111 → 3 domain: PF00069, PF12179, PF18397\n"
     ]
    },
    {
     "name": "stderr",
     "output_type": "stream",
     "text": [
      "Memproses:  97%|██████████████████████████████████████████████████████████████████▉  | 544/561 [20:30<00:35,  2.09s/it]"
     ]
    },
    {
     "name": "stdout",
     "output_type": "stream",
     "text": [
      "[545] O95551 → 2 domain: PF03372, PF14555\n"
     ]
    },
    {
     "name": "stderr",
     "output_type": "stream",
     "text": [
      "Memproses:  97%|███████████████████████████████████████████████████████████████████  | 545/561 [20:32<00:35,  2.19s/it]"
     ]
    },
    {
     "name": "stdout",
     "output_type": "stream",
     "text": [
      "[546] P04070 → 3 domain: PF00089, PF00594, PF14670\n"
     ]
    },
    {
     "name": "stderr",
     "output_type": "stream",
     "text": [
      "Memproses:  97%|███████████████████████████████████████████████████████████████████▏ | 546/561 [20:34<00:32,  2.16s/it]"
     ]
    },
    {
     "name": "stdout",
     "output_type": "stream",
     "text": [
      "[547] Q15418 → 2 domain: PF00069, PF00433\n"
     ]
    },
    {
     "name": "stderr",
     "output_type": "stream",
     "text": [
      "Memproses:  98%|███████████████████████████████████████████████████████████████████▎ | 547/561 [20:37<00:33,  2.37s/it]"
     ]
    },
    {
     "name": "stdout",
     "output_type": "stream",
     "text": [
      "[548] O95180 → 1 domain: PF00520\n"
     ]
    },
    {
     "name": "stderr",
     "output_type": "stream",
     "text": [
      "Memproses:  98%|███████████████████████████████████████████████████████████████████▍ | 548/561 [20:39<00:29,  2.29s/it]"
     ]
    },
    {
     "name": "stdout",
     "output_type": "stream",
     "text": [
      "[549] P08238 → 2 domain: PF00183, PF13589\n"
     ]
    },
    {
     "name": "stderr",
     "output_type": "stream",
     "text": [
      "Memproses:  98%|███████████████████████████████████████████████████████████████████▌ | 549/561 [20:41<00:26,  2.21s/it]"
     ]
    },
    {
     "name": "stdout",
     "output_type": "stream",
     "text": [
      "[550] O15552 → 1 domain: PF00001\n"
     ]
    },
    {
     "name": "stderr",
     "output_type": "stream",
     "text": [
      "Memproses:  98%|███████████████████████████████████████████████████████████████████▋ | 550/561 [20:43<00:23,  2.18s/it]"
     ]
    },
    {
     "name": "stdout",
     "output_type": "stream",
     "text": [
      "[551] P48067 → 1 domain: PF00209\n"
     ]
    },
    {
     "name": "stderr",
     "output_type": "stream",
     "text": [
      "Memproses:  98%|███████████████████████████████████████████████████████████████████▊ | 551/561 [20:46<00:21,  2.14s/it]"
     ]
    },
    {
     "name": "stdout",
     "output_type": "stream",
     "text": [
      "[552] P27338 → 1 domain: PF01593\n"
     ]
    },
    {
     "name": "stderr",
     "output_type": "stream",
     "text": [
      "Memproses:  98%|███████████████████████████████████████████████████████████████████▉ | 552/561 [20:48<00:19,  2.13s/it]"
     ]
    },
    {
     "name": "stdout",
     "output_type": "stream",
     "text": [
      "[553] O00748 → 1 domain: PF00135\n"
     ]
    },
    {
     "name": "stderr",
     "output_type": "stream",
     "text": [
      "Memproses:  99%|████████████████████████████████████████████████████████████████████ | 553/561 [20:50<00:16,  2.10s/it]"
     ]
    },
    {
     "name": "stdout",
     "output_type": "stream",
     "text": [
      "[554] Q92847 → 1 domain: PF00001\n"
     ]
    },
    {
     "name": "stderr",
     "output_type": "stream",
     "text": [
      "Memproses:  99%|████████████████████████████████████████████████████████████████████▏| 554/561 [20:52<00:15,  2.19s/it]"
     ]
    },
    {
     "name": "stdout",
     "output_type": "stream",
     "text": [
      "[555] O60725 → 1 domain: PF04140\n"
     ]
    },
    {
     "name": "stderr",
     "output_type": "stream",
     "text": [
      "Memproses:  99%|████████████████████████████████████████████████████████████████████▎| 555/561 [20:54<00:13,  2.18s/it]"
     ]
    },
    {
     "name": "stdout",
     "output_type": "stream",
     "text": [
      "[556] P32245 → 1 domain: PF00001\n"
     ]
    },
    {
     "name": "stderr",
     "output_type": "stream",
     "text": [
      "Memproses:  99%|████████████████████████████████████████████████████████████████████▍| 556/561 [20:56<00:10,  2.15s/it]"
     ]
    },
    {
     "name": "stdout",
     "output_type": "stream",
     "text": [
      "[557] Q6P988 → 1 domain: PF03283\n"
     ]
    },
    {
     "name": "stderr",
     "output_type": "stream",
     "text": [
      "Memproses:  99%|████████████████████████████████████████████████████████████████████▌| 557/561 [20:58<00:08,  2.13s/it]"
     ]
    },
    {
     "name": "stdout",
     "output_type": "stream",
     "text": [
      "[558] P17252 → 4 domain: PF00069, PF00130, PF00168, PF00433\n"
     ]
    },
    {
     "name": "stderr",
     "output_type": "stream",
     "text": [
      "Memproses:  99%|████████████████████████████████████████████████████████████████████▋| 558/561 [21:00<00:06,  2.12s/it]"
     ]
    },
    {
     "name": "stdout",
     "output_type": "stream",
     "text": [
      "[559] P09467 → 2 domain: PF00316, PF18913\n"
     ]
    },
    {
     "name": "stderr",
     "output_type": "stream",
     "text": [
      "Memproses: 100%|████████████████████████████████████████████████████████████████████▊| 559/561 [21:03<00:04,  2.11s/it]"
     ]
    },
    {
     "name": "stdout",
     "output_type": "stream",
     "text": [
      "[560] P00746 → 1 domain: PF00089\n"
     ]
    },
    {
     "name": "stderr",
     "output_type": "stream",
     "text": [
      "Memproses: 100%|████████████████████████████████████████████████████████████████████▉| 560/561 [21:05<00:02,  2.11s/it]"
     ]
    },
    {
     "name": "stdout",
     "output_type": "stream",
     "text": [
      "[561] P29375 → 7 domain: PF00628, PF01388, PF02373, PF02375, PF02928, PF08429, PF21323\n"
     ]
    },
    {
     "name": "stderr",
     "output_type": "stream",
     "text": [
      "Memproses: 100%|█████████████████████████████████████████████████████████████████████| 561/561 [21:07<00:00,  2.26s/it]\n"
     ]
    },
    {
     "name": "stdout",
     "output_type": "stream",
     "text": [
      "\n",
      "✅ Pemetaan selesai! Hasil disimpan di: D:/semhas/projek/TargetProtein_PFam.xlsx\n",
      "✅ Daftar semua UniProt ID disimpan di: D:/semhas/projek/All_UniProt_IDs.xlsx\n"
     ]
    }
   ],
   "source": [
    "import requests\n",
    "import pandas as pd\n",
    "import time\n",
    "from tqdm import tqdm\n",
    "\n",
    "# === 1. BACA UNIPROT ID DARI FILE ===\n",
    "file_path = 'D:/semhas/projek/Target_Protein.xlsx'\n",
    "df = pd.read_excel(file_path, sheet_name='Tanpa_Duplikat')\n",
    "\n",
    "all_uniprot_ids = df['UniProt'].dropna().unique().tolist()\n",
    "\n",
    "# === 2. FUNGSI AMBIL DOMAIN DARI INTERPRO (Pfam) ===\n",
    "def get_pfam_domains(uniprot_id):\n",
    "    url = f\"https://www.ebi.ac.uk/interpro/api/entry/pfam/protein/uniprot/{uniprot_id}\"\n",
    "    headers = {\"Accept\": \"application/json\"}\n",
    "    try:\n",
    "        response = requests.get(url, headers=headers)\n",
    "        if response.status_code == 200:\n",
    "            data = response.json()\n",
    "            domains = [item['metadata']['accession'] for item in data['results']]\n",
    "            return domains\n",
    "        else:\n",
    "            return []\n",
    "    except Exception as e:\n",
    "        print(f\"❌ Error untuk {uniprot_id}: {e}\")\n",
    "        return []\n",
    "\n",
    "# === 3. LOOPING MAPPING DENGAN OUTPUT DETAIL ===\n",
    "results = []\n",
    "\n",
    "print(f\"🔍 Memulai pemetaan {len(all_uniprot_ids)} UniProt ID ke domain Pfam...\\n\")\n",
    "for idx, uniprot_id in enumerate(tqdm(all_uniprot_ids, desc=\"Memproses\"), 1):\n",
    "    domains = get_pfam_domains(uniprot_id)\n",
    "    \n",
    "    if domains:\n",
    "        for domain in domains:\n",
    "            results.append({'UniProt_ID': uniprot_id, 'Pfam_ID': domain})\n",
    "        domain_str = ', '.join(domains)\n",
    "        print(f\"[{idx}] {uniprot_id} → {len(domains)} domain: {domain_str}\")\n",
    "    else:\n",
    "        print(f\"[{idx}] {uniprot_id} → Tidak ditemukan domain Pfam.\")\n",
    "    \n",
    "    time.sleep(1)  # Hindari rate limit\n",
    "\n",
    "# === 4. SIMPAN HASIL KE FILE EXCEL ===\n",
    "df_result = pd.DataFrame(results)\n",
    "output_file = 'D:/semhas/projek/TargetProtein_PFam.xlsx'\n",
    "df_result.to_excel(output_file, index=False)\n",
    "\n",
    "print(f\"\\n✅ Pemetaan selesai! Hasil disimpan di: {output_file}\")\n",
    "\n",
    "# === 5. SIMPAN SEMUA UNIPROT ID KE FILE EXCEL ===\n",
    "df_all_ids = pd.DataFrame({'UniProt_ID': all_uniprot_ids})\n",
    "all_uniprot_file = 'D:/semhas/projek/All_UniProt_IDs.xlsx'\n",
    "df_all_ids.to_excel(all_uniprot_file, index=False)\n",
    "\n",
    "print(f\"✅ Daftar semua UniProt ID disimpan di: {all_uniprot_file}\")\n"
   ]
  },
  {
   "cell_type": "code",
   "execution_count": 6,
   "id": "05119cb6-4d6a-46ec-842d-cac9aa244033",
   "metadata": {},
   "outputs": [],
   "source": [
    "# periksa duplikat UniPOrtId --> PfamId"
   ]
  },
  {
   "cell_type": "code",
   "execution_count": 22,
   "id": "a5a387e0-b65d-46b3-9b89-0d99bd3ca3f0",
   "metadata": {},
   "outputs": [
    {
     "name": "stdout",
     "output_type": "stream",
     "text": [
      "Kolom tersedia: ['UniProt_ID', 'Pfam_ID']\n",
      "Jumlah total relasi (termasuk duplikat): 1056\n",
      "Jumlah relasi unik UniProt–Pfam: 1056\n",
      "Jumlah relasi duplikat: 0\n",
      "\n",
      "Contoh relasi duplikat:\n",
      "Empty DataFrame\n",
      "Columns: [UniProt_ID, Pfam_ID_Original, Pfam_ID]\n",
      "Index: []\n"
     ]
    }
   ],
   "source": [
    "import pandas as pd\n",
    "\n",
    "# 1. Baca file Excel\n",
    "file_path = 'D:/semhas/projek/TargetProtein_PFam.xlsx'\n",
    "df = pd.read_excel(file_path)\n",
    "\n",
    "# 2. Tampilkan nama kolom untuk memastikan struktur\n",
    "print(\"Kolom tersedia:\", df.columns.tolist())\n",
    "\n",
    "# Misalnya kolom bernama 'UniProt_ID' dan 'Pfam_ID' (ubah sesuai nama aktual kolom)\n",
    "uniprot_col = 'UniProt_ID'\n",
    "pfam_col = 'Pfam_ID'\n",
    "\n",
    "# 3. Simpan kolom Pfam_ID asli ke kolom baru\n",
    "df['Pfam_ID_Original'] = df[pfam_col]\n",
    "\n",
    "# 4. Bersihkan kolom Pfam_ID → Hapus versi (contoh: PF00069.23 → PF00069)\n",
    "df[pfam_col] = df[pfam_col].astype(str).str.extract(r'^(PF\\d{5})')\n",
    "\n",
    "# 5. Pindahkan 'Pfam_ID_Original' sebelum 'Pfam_ID'\n",
    "cols = df.columns.tolist()\n",
    "pfam_idx = cols.index(pfam_col)\n",
    "# Hapus kolom dulu agar bisa disisipkan ulang\n",
    "cols.remove('Pfam_ID_Original')\n",
    "# Sisipkan di posisi sebelum 'Pfam_ID'\n",
    "cols.insert(pfam_idx, 'Pfam_ID_Original')\n",
    "df = df[cols]\n",
    "\n",
    "# 6. Tampilkan jumlah total baris\n",
    "print(\"Jumlah total relasi (termasuk duplikat):\", len(df))\n",
    "\n",
    "# 7. Cek jumlah relasi unik\n",
    "unique_pairs = df[[uniprot_col, pfam_col]].drop_duplicates()\n",
    "print(\"Jumlah relasi unik UniProt–Pfam:\", len(unique_pairs))\n",
    "\n",
    "# 8. Tampilkan duplikat (jika ingin dicek lebih lanjut)\n",
    "duplicates = df[df.duplicated(subset=[uniprot_col, pfam_col], keep=False)]\n",
    "print(\"Jumlah relasi duplikat:\", len(duplicates))\n",
    "print(\"\\nContoh relasi duplikat:\")\n",
    "print(duplicates.head())\n",
    "\n",
    "# 9. (Opsional) Simpan relasi unik ke file baru\n",
    "unique_output = df.drop_duplicates(subset=[uniprot_col, pfam_col])\n",
    "unique_output.to_excel('D:/semhas/projek/TargetProtein_PFam_Unique.xlsx', index=False)\n"
   ]
  },
  {
   "cell_type": "code",
   "execution_count": null,
   "id": "27b3ae3d-0bd7-4ba9-81f7-8eef64ac0c5f",
   "metadata": {},
   "outputs": [],
   "source": [
    "# Mapping PFAM --> DDI"
   ]
  },
  {
   "cell_type": "code",
   "execution_count": 5,
   "id": "f32f4bd0-f9ae-4033-93c0-f250b6ce0ae3",
   "metadata": {},
   "outputs": [
    {
     "name": "stdout",
     "output_type": "stream",
     "text": [
      "Jumlah domain unik dari protein target: 478\n",
      "Jumlah total pasangan DDI di 3DID: 20644\n",
      "Jumlah pasangan DDI yang relevan: 827\n",
      "✅ DDI relevan disimpan di: D:/semhas/projek/DDI_Relevan.xlsx\n"
     ]
    }
   ],
   "source": [
    "import pandas as pd\n",
    "import re\n",
    "\n",
    "# === 1. BACA DAN BERSIHKAN DOMAIN ===\n",
    "file_domain = \"D:/semhas/projek/TargetProtein_PFam.xlsx\"\n",
    "df_pfam = pd.read_excel(file_domain)\n",
    "\n",
    "# Ambil dan bersihkan ID domain (PFxxxxx)\n",
    "df_pfam['Pfam_ID_Clean'] = df_pfam['Pfam_ID'].astype(str).str.extract(r'(PF\\d{5})')\n",
    "domain_unik = set(df_pfam['Pfam_ID_Clean'].dropna().unique())\n",
    "\n",
    "print(f\"Jumlah domain unik dari protein target: {len(domain_unik)}\")\n",
    "\n",
    "# === 2. PARSE FILE 3DID ===\n",
    "file_3did = \"D:/semhas/projek/3did_flat_Mar_3_2025.dat\"\n",
    "ddi_all = []\n",
    "\n",
    "with open(file_3did, \"r\") as f:\n",
    "    for line in f:\n",
    "        if line.startswith(\"#=ID\"):\n",
    "            match = re.findall(r'PF\\d{5}', line)\n",
    "            if len(match) == 2:\n",
    "                d1, d2 = match\n",
    "                ddi_all.append((d1, d2))\n",
    "\n",
    "print(f\"Jumlah total pasangan DDI di 3DID: {len(ddi_all)}\")\n",
    "\n",
    "# === 3. COCOKKAN DENGAN DOMAIN UNIK ===\n",
    "ddi_relevan = [(d1, d2) for d1, d2 in ddi_all if d1 in domain_unik and d2 in domain_unik]\n",
    "\n",
    "print(f\"Jumlah pasangan DDI yang relevan: {len(ddi_relevan)}\")\n",
    "\n",
    "# === 4. SIMPAN KE EXCEL ===\n",
    "df_ddi_relevan = pd.DataFrame(ddi_relevan, columns=[\"Domain_1\", \"Domain_2\"])\n",
    "output_path = \"D:/semhas/projek/DDI_Relevan.xlsx\"\n",
    "df_ddi_relevan.to_excel(output_path, index=False)\n",
    "\n",
    "print(f\"✅ DDI relevan disimpan di: {output_path}\")\n"
   ]
  },
  {
   "cell_type": "code",
   "execution_count": 4,
   "id": "b536762a-7abf-4418-b098-28ce80849df6",
   "metadata": {},
   "outputs": [
    {
     "name": "stdout",
     "output_type": "stream",
     "text": [
      "Jumlah domain unik dari protein target: 478\n",
      "✅ Domain unik disimpan di: D:/semhas/projek/Domain_Unik_Protein.xlsx\n",
      "Jumlah total pasangan DDI di 3DID: 20644\n",
      "Jumlah pasangan DDI yang relevan: 827\n",
      "✅ DDI relevan disimpan di: D:/semhas/projek/DDI_Relevan.xlsx\n"
     ]
    }
   ],
   "source": [
    "import pandas as pd\n",
    "import re\n",
    "\n",
    "# === 1. BACA DAN BERSIHKAN DOMAIN ===\n",
    "file_domain = \"D:/semhas/projek/TargetProtein_PFam.xlsx\"\n",
    "df_pfam = pd.read_excel(file_domain)\n",
    "\n",
    "# Ambil dan bersihkan ID domain (PFxxxxx)\n",
    "df_pfam['Pfam_ID_Clean'] = df_pfam['Pfam_ID'].astype(str).str.extract(r'(PF\\d{5})')\n",
    "domain_unik = df_pfam['Pfam_ID_Clean'].dropna().unique()\n",
    "\n",
    "print(f\"Jumlah domain unik dari protein target: {len(domain_unik)}\")\n",
    "\n",
    "# === Simpan domain unik ke Excel ===\n",
    "df_domain_unik = pd.DataFrame(domain_unik, columns=['Domain_Unik'])\n",
    "output_domain = \"D:/semhas/projek/Domain_Unik_Protein.xlsx\"\n",
    "df_domain_unik.to_excel(output_domain, index=False)\n",
    "print(f\"✅ Domain unik disimpan di: {output_domain}\")\n",
    "\n",
    "# === 2. PARSE FILE 3DID ===\n",
    "file_3did = \"D:/semhas/projek/3did_flat_Mar_3_2025.dat\"\n",
    "ddi_all = []\n",
    "\n",
    "with open(file_3did, \"r\") as f:\n",
    "    for line in f:\n",
    "        if line.startswith(\"#=ID\"):\n",
    "            match = re.findall(r'PF\\d{5}', line)\n",
    "            if len(match) == 2:\n",
    "                d1, d2 = match\n",
    "                ddi_all.append((d1, d2))\n",
    "\n",
    "print(f\"Jumlah total pasangan DDI di 3DID: {len(ddi_all)}\")\n",
    "\n",
    "# === 3. COCOKKAN DENGAN DOMAIN UNIK ===\n",
    "set_domain_unik = set(domain_unik)\n",
    "ddi_relevan = [(d1, d2) for d1, d2 in ddi_all if d1 in set_domain_unik and d2 in set_domain_unik]\n",
    "\n",
    "print(f\"Jumlah pasangan DDI yang relevan: {len(ddi_relevan)}\")\n",
    "\n",
    "# === 4. SIMPAN DDI RELEVAN KE EXCEL ===\n",
    "df_ddi_relevan = pd.DataFrame(ddi_relevan, columns=[\"Domain_1\", \"Domain_2\"])\n",
    "output_ddi = \"D:/semhas/projek/DDI_Relevan.xlsx\"\n",
    "df_ddi_relevan.to_excel(output_ddi, index=False)\n",
    "\n",
    "print(f\"✅ DDI relevan disimpan di: {output_ddi}\")\n"
   ]
  },
  {
   "cell_type": "code",
   "execution_count": null,
   "id": "a768649f-cab1-45bf-9b1c-4686ca0915b6",
   "metadata": {},
   "outputs": [],
   "source": [
    "# Menentukan PDA"
   ]
  },
  {
   "cell_type": "code",
   "execution_count": 19,
   "id": "4f842730-e076-4480-b89f-56bc6115b8fa",
   "metadata": {},
   "outputs": [
    {
     "name": "stdout",
     "output_type": "stream",
     "text": [
      "Data gabungan disimpan di: D:/semhas/projek/PPI_DDI_Merged.xlsx\n",
      "Jumlah total pasangan PPI: 3880\n",
      "Jumlah pasangan dengan interaksi domain: 340\n"
     ]
    }
   ],
   "source": [
    "import pandas as pd\n",
    "from itertools import product\n",
    "\n",
    "# 1. Load data\n",
    "ppi_df = pd.read_csv(\"D:/semhas/projek/string_interactions_short.tsv\", sep=\"\\t\")\n",
    "pfam_df = pd.read_excel(\"D:/semhas/projek/TargetProtein_PFam.xlsx\")\n",
    "ddi_df = pd.read_excel(\"D:/semhas/projek/DDI_Pasangan_Relevan.xlsx\")\n",
    "mapping_df = pd.read_csv(\"D:/semhas/projek/9606.protein.aliases.v12.0.txt\", sep='\\t', header=None, names=[\"string_id\", \"alias\", \"source\"])\n",
    "\n",
    "# 2. Filter mapping dari UniProt\n",
    "mapping_df = mapping_df[mapping_df['source'] == 'Ensembl_UniProt']\n",
    "enspid_to_uniprot = dict(zip(mapping_df[\"string_id\"], mapping_df[\"alias\"]))\n",
    "\n",
    "# 3. Mapping UniProt ke PPI\n",
    "ppi_df[\"Protein_1\"] = ppi_df[\"node1_string_id\"].map(enspid_to_uniprot)\n",
    "ppi_df[\"Protein_2\"] = ppi_df[\"node2_string_id\"].map(enspid_to_uniprot)\n",
    "ppi_df = ppi_df.dropna(subset=[\"Protein_1\", \"Protein_2\"])\n",
    "\n",
    "# 4. Preprocessing domain dan DDI\n",
    "pfam_df['Pfam_ID'] = pfam_df['Pfam_ID'].str.split('.').str[0]\n",
    "ddi_df['Domain_1'] = ddi_df['Domain_1'].str.split('.').str[0]\n",
    "ddi_df['Domain_2'] = ddi_df['Domain_2'].str.split('.').str[0]\n",
    "ddi_pairs = set(tuple(sorted([a, b])) for a, b in zip(ddi_df['Domain_1'], ddi_df['Domain_2']))\n",
    "\n",
    "# 5. Mapping protein ke daftar domain\n",
    "pfam_dict = pfam_df.groupby(\"UniProt_ID\")[\"Pfam_ID\"].apply(list).to_dict()\n",
    "\n",
    "# 6. Gabungkan semua PPI + cek interaksi domain\n",
    "rows = []\n",
    "for _, row in ppi_df.iterrows():\n",
    "    p1, p2 = row[\"Protein_1\"], row[\"Protein_2\"]\n",
    "    domains1 = pfam_dict.get(p1, [])\n",
    "    domains2 = pfam_dict.get(p2, [])\n",
    "    \n",
    "    # Cek apakah minimal satu pasangan domain saling berinteraksi\n",
    "    interaksi_ditemukan = any(tuple(sorted([d1, d2])) in ddi_pairs for d1, d2 in product(domains1, domains2))\n",
    "    \n",
    "    rows.append({\n",
    "        \"Protein_1\": p1,\n",
    "        \"Protein_2\": p2,\n",
    "        \"Domains_Protein_1\": \", \".join(domains1) if domains1 else \"-\",\n",
    "        \"Domains_Protein_2\": \", \".join(domains2) if domains2 else \"-\",\n",
    "        \"Interaksi_Domain\": \"Yes\" if interaksi_ditemukan else \"No\"\n",
    "    })\n",
    "\n",
    "# 7. Simpan hasil\n",
    "hasil_df = pd.DataFrame(rows)\n",
    "output_file = \"D:/semhas/projek/PPI_DDI_Merged.xlsx\"\n",
    "hasil_df.to_excel(output_file, index=False)\n",
    "\n",
    "print(f\"Data gabungan disimpan di: {output_file}\")\n",
    "print(\"Jumlah total pasangan PPI:\", len(hasil_df))\n",
    "print(\"Jumlah pasangan dengan interaksi domain:\", (hasil_df[\"Interaksi_Domain\"] == \"Yes\").sum())\n"
   ]
  },
  {
   "cell_type": "code",
   "execution_count": 18,
   "id": "970d18de-0b47-4f30-a4dd-ca9d84c5c861",
   "metadata": {
    "scrolled": true
   },
   "outputs": [
    {
     "name": "stdout",
     "output_type": "stream",
     "text": [
      "Jumlah pasangan PDA yang valid (protein-domain): 340\n",
      "Jumlah pasangan protein–protein unik: 340\n",
      "Jumlah pasangan domain–domain unik: 79\n",
      "  Protein_1 Protein_2 Domain_1 Domain_2\n",
      "0    Q2M2I8    P08172  PF00069  PF00001\n",
      "1    Q9UKU7    P28330  PF00441  PF00441\n",
      "2    Q8WXI4    Q9NPJ3  PF03061  PF03061\n",
      "3    P36896    P36894  PF00069  PF00069\n",
      "4    P36896    P18075  PF01064  PF00019\n",
      "Hasil PDA disimpan di: D:/semhas/projek/Hasil_PDA.xlsx\n"
     ]
    }
   ],
   "source": [
    "import pandas as pd\n",
    "from itertools import product\n",
    "\n",
    "# 1. Load data\n",
    "ppi_df = pd.read_csv(\"D:/semhas/projek/string_interactions_short.tsv\", sep=\"\\t\")\n",
    "pfam_df = pd.read_excel(\"D:/semhas/projek/TargetProtein_PFam.xlsx\")\n",
    "ddi_df = pd.read_excel(\"D:/semhas/projek/DDI_Pasangan_Relevan.xlsx\")\n",
    "mapping_df = pd.read_csv(\"D:/semhas/projek/9606.protein.aliases.v12.0.txt\", sep='\\t', header=None, names=[\"string_id\", \"alias\", \"source\"])\n",
    "\n",
    "# 2. Filter mapping hanya dari UniProt\n",
    "mapping_df = mapping_df[mapping_df['source'] == 'Ensembl_UniProt']\n",
    "\n",
    "# 3. Buat mapping ENSP → UniProt\n",
    "enspid_to_uniprot = dict(zip(mapping_df[\"string_id\"], mapping_df[\"alias\"]))\n",
    "\n",
    "# 4. Tambahkan UniProt ID ke PPI\n",
    "ppi_df[\"UniProt_1\"] = ppi_df[\"node1_string_id\"].map(enspid_to_uniprot)\n",
    "ppi_df[\"UniProt_2\"] = ppi_df[\"node2_string_id\"].map(enspid_to_uniprot)\n",
    "\n",
    "# 5. Preprocessing domain\n",
    "ddi_df['Domain_1'] = ddi_df['Domain_1'].str.split('.').str[0]\n",
    "ddi_df['Domain_2'] = ddi_df['Domain_2'].str.split('.').str[0]\n",
    "pfam_df['Pfam_ID'] = pfam_df['Pfam_ID'].str.split('.').str[0]\n",
    "\n",
    "# 6. Buat set DDI\n",
    "ddi_pairs = set(tuple(sorted([a, b])) for a, b in zip(ddi_df['Domain_1'], ddi_df['Domain_2']))\n",
    "\n",
    "# 7. Buat dict protein → domain\n",
    "pfam_dict = pfam_df.groupby(\"UniProt_ID\")[\"Pfam_ID\"].apply(list).to_dict()\n",
    "\n",
    "# 8. Cek PDA\n",
    "pda_rows = []\n",
    "for _, row in ppi_df.iterrows():\n",
    "    p1, p2 = row[\"UniProt_1\"], row[\"UniProt_2\"]\n",
    "    domains1 = pfam_dict.get(p1, [])\n",
    "    domains2 = pfam_dict.get(p2, [])\n",
    "    for d1, d2 in product(domains1, domains2):\n",
    "        if tuple(sorted([d1, d2])) in ddi_pairs:\n",
    "            pda_rows.append({\n",
    "                \"Protein_1\": p1,\n",
    "                \"Protein_2\": p2,\n",
    "                \"Domain_1\": d1,\n",
    "                \"Domain_2\": d2\n",
    "            })\n",
    "            break\n",
    "\n",
    "# 9. Hasil\n",
    "pda_df = pd.DataFrame(pda_rows)\n",
    "\n",
    "# Hitung jumlah pasangan protein unik\n",
    "jumlah_pasangan_protein = len(pda_df[['Protein_1', 'Protein_2']].drop_duplicates())\n",
    "\n",
    "# Hitung jumlah pasangan domain unik\n",
    "jumlah_pasangan_domain = len(pda_df[['Domain_1', 'Domain_2']].drop_duplicates())\n",
    "\n",
    "print(\"Jumlah pasangan PDA yang valid (protein-domain):\", len(pda_df))\n",
    "print(\"Jumlah pasangan protein–protein unik:\", jumlah_pasangan_protein)\n",
    "print(\"Jumlah pasangan domain–domain unik:\", jumlah_pasangan_domain)\n",
    "print(pda_df.head())\n",
    "\n",
    "# 10. Simpan ke file Excel\n",
    "output_path = \"D:/semhas/projek/Hasil_PDA.xlsx\"\n",
    "pda_df.to_excel(output_path, index=False)\n",
    "print(f\"Hasil PDA disimpan di: {output_path}\")\n",
    "\n"
   ]
  },
  {
   "cell_type": "code",
   "execution_count": null,
   "id": "8c38fdbe-88aa-4f37-a26b-9d531a8d77bf",
   "metadata": {},
   "outputs": [],
   "source": []
  },
  {
   "cell_type": "code",
   "execution_count": null,
   "id": "caae9af7-1e65-4269-8396-614f703de82c",
   "metadata": {},
   "outputs": [],
   "source": []
  }
 ],
 "metadata": {
  "kernelspec": {
   "display_name": "Python 3 (ipykernel)",
   "language": "python",
   "name": "python3"
  },
  "language_info": {
   "codemirror_mode": {
    "name": "ipython",
    "version": 3
   },
   "file_extension": ".py",
   "mimetype": "text/x-python",
   "name": "python",
   "nbconvert_exporter": "python",
   "pygments_lexer": "ipython3",
   "version": "3.13.0"
  }
 },
 "nbformat": 4,
 "nbformat_minor": 5
}
